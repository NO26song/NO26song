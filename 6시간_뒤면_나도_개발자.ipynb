{
  "nbformat": 4,
  "nbformat_minor": 0,
  "metadata": {
    "colab": {
      "name": "6시간 뒤면 나도 개발자.ipynb",
      "provenance": [],
      "collapsed_sections": [
        "5UMI3-YfHVJP",
        "zm0I_uoGJoe1",
        "dZwiNlFJJ7YJ",
        "ylkfIoDaKi2G",
        "qMQsBoEELkiJ",
        "CMSiD_tJMVl4",
        "04QjJYsbNOry",
        "jXhfakRJNOxj",
        "kRdxw24IP43E",
        "sTRXnljbTXiD",
        "zv32gticUqlL",
        "A2EgnKsrVGwt"
      ],
      "authorship_tag": "ABX9TyNa6V0UhB0VfUedqiMwbyGh",
      "include_colab_link": true
    },
    "kernelspec": {
      "name": "python3",
      "display_name": "Python 3"
    },
    "language_info": {
      "name": "python"
    }
  },
  "cells": [
    {
      "cell_type": "markdown",
      "metadata": {
        "id": "view-in-github",
        "colab_type": "text"
      },
      "source": [
        "<a href=\"https://colab.research.google.com/github/NO26song/NO26song/blob/main/6%EC%8B%9C%EA%B0%84_%EB%92%A4%EB%A9%B4_%EB%82%98%EB%8F%84_%EA%B0%9C%EB%B0%9C%EC%9E%90.ipynb\" target=\"_parent\"><img src=\"https://colab.research.google.com/assets/colab-badge.svg\" alt=\"Open In Colab\"/></a>"
      ]
    },
    {
      "cell_type": "markdown",
      "source": [
        "#자료형"
      ],
      "metadata": {
        "id": "owgix89VErRg"
      }
    },
    {
      "cell_type": "markdown",
      "source": [
        "##숫자형 자료형"
      ],
      "metadata": {
        "id": "H1Nt7hILFUwB"
      }
    },
    {
      "cell_type": "code",
      "execution_count": 1,
      "metadata": {
        "colab": {
          "base_uri": "https://localhost:8080/"
        },
        "id": "ammwcjEXDwxf",
        "outputId": "b144c801-d42e-4d45-fc4e-55f1a75fd334"
      },
      "outputs": [
        {
          "output_type": "stream",
          "name": "stdout",
          "text": [
            "5\n"
          ]
        }
      ],
      "source": [
        "print(5)"
      ]
    },
    {
      "cell_type": "code",
      "source": [
        "print(-10,type(-10))"
      ],
      "metadata": {
        "colab": {
          "base_uri": "https://localhost:8080/"
        },
        "id": "YV9encKrEsW1",
        "outputId": "a1e0d80b-6646-46b2-92ce-d3571a448712"
      },
      "execution_count": 2,
      "outputs": [
        {
          "output_type": "stream",
          "name": "stdout",
          "text": [
            "-10 <class 'int'>\n"
          ]
        }
      ]
    },
    {
      "cell_type": "code",
      "source": [
        "print(3.14,type(3.14))"
      ],
      "metadata": {
        "colab": {
          "base_uri": "https://localhost:8080/"
        },
        "id": "IwGhxQ5RFIIl",
        "outputId": "f61aaf65-bb35-4300-9efd-ec4d2d1fcfd1"
      },
      "execution_count": 3,
      "outputs": [
        {
          "output_type": "stream",
          "name": "stdout",
          "text": [
            "3.14 <class 'float'>\n"
          ]
        }
      ]
    },
    {
      "cell_type": "markdown",
      "source": [
        "##문자열 자료형"
      ],
      "metadata": {
        "id": "IsSI2d-wFWVo"
      }
    },
    {
      "cell_type": "code",
      "source": [
        "print('풍선',type('풍선'))"
      ],
      "metadata": {
        "colab": {
          "base_uri": "https://localhost:8080/"
        },
        "id": "KJc6LH-AFLfH",
        "outputId": "d0b65982-583e-4ca6-be27-f66b22cb89b5"
      },
      "execution_count": 4,
      "outputs": [
        {
          "output_type": "stream",
          "name": "stdout",
          "text": [
            "풍선 <class 'str'>\n"
          ]
        }
      ]
    },
    {
      "cell_type": "code",
      "source": [
        "print('v'*8)"
      ],
      "metadata": {
        "colab": {
          "base_uri": "https://localhost:8080/"
        },
        "id": "2rBW6o25Fa7u",
        "outputId": "d96db17a-5f99-44ce-d991-d2add54c2054"
      },
      "execution_count": 5,
      "outputs": [
        {
          "output_type": "stream",
          "name": "stdout",
          "text": [
            "vvvvvvvv\n"
          ]
        }
      ]
    },
    {
      "cell_type": "markdown",
      "source": [
        "##boolean 자료형"
      ],
      "metadata": {
        "id": "Ctp3yFbvFg-h"
      }
    },
    {
      "cell_type": "code",
      "source": [
        "print(5>10)"
      ],
      "metadata": {
        "colab": {
          "base_uri": "https://localhost:8080/"
        },
        "id": "7lDs5abOFfbz",
        "outputId": "78090c24-040d-43b7-b436-f5c8ec526e8c"
      },
      "execution_count": 6,
      "outputs": [
        {
          "output_type": "stream",
          "name": "stdout",
          "text": [
            "False\n"
          ]
        }
      ]
    },
    {
      "cell_type": "code",
      "source": [
        "print(5<10)"
      ],
      "metadata": {
        "colab": {
          "base_uri": "https://localhost:8080/"
        },
        "id": "hRMJzMI2Frba",
        "outputId": "f442c657-6e37-4af8-e13d-90c1ff1d9b57"
      },
      "execution_count": 7,
      "outputs": [
        {
          "output_type": "stream",
          "name": "stdout",
          "text": [
            "True\n"
          ]
        }
      ]
    },
    {
      "cell_type": "code",
      "source": [
        "print(True)"
      ],
      "metadata": {
        "colab": {
          "base_uri": "https://localhost:8080/"
        },
        "id": "j061BJX5FtFm",
        "outputId": "7310af51-b613-4f86-b4e1-4e8dcc1e65cd"
      },
      "execution_count": 8,
      "outputs": [
        {
          "output_type": "stream",
          "name": "stdout",
          "text": [
            "True\n"
          ]
        }
      ]
    },
    {
      "cell_type": "code",
      "source": [
        "print(False)"
      ],
      "metadata": {
        "colab": {
          "base_uri": "https://localhost:8080/"
        },
        "id": "-08uOCq7Fvra",
        "outputId": "a7ff7837-e6f1-434c-d2f9-acdf5888734e"
      },
      "execution_count": 9,
      "outputs": [
        {
          "output_type": "stream",
          "name": "stdout",
          "text": [
            "False\n"
          ]
        }
      ]
    },
    {
      "cell_type": "code",
      "source": [
        "print(not(5>10))"
      ],
      "metadata": {
        "colab": {
          "base_uri": "https://localhost:8080/"
        },
        "id": "V4org7ssFxKJ",
        "outputId": "fb94016b-78f0-4f00-9a48-2094ac69e241"
      },
      "execution_count": 10,
      "outputs": [
        {
          "output_type": "stream",
          "name": "stdout",
          "text": [
            "True\n"
          ]
        }
      ]
    },
    {
      "cell_type": "markdown",
      "source": [
        "##변수"
      ],
      "metadata": {
        "id": "zQNAjTIyGEao"
      }
    },
    {
      "cell_type": "code",
      "source": [
        "name= \"연탄이\"\n",
        "animal = \"강아지\"\n",
        "age = 4\n",
        "hobby = \"산책\"\n",
        "is_adult = age >=3\n",
        "print('우리집'+animal+ '의 이름은'+name+ '이에요')\n",
        "print(name + \"는\" + str(age)+ \"살이며\" +hobby + '를 아주 좋아해요')\n",
        "print('연탕니는 어른일까요? True')"
      ],
      "metadata": {
        "colab": {
          "base_uri": "https://localhost:8080/"
        },
        "id": "1f1_XXY6FzZu",
        "outputId": "f4625861-abeb-43a6-abe2-5973987b50a6"
      },
      "execution_count": 11,
      "outputs": [
        {
          "output_type": "stream",
          "name": "stdout",
          "text": [
            "우리집강아지의 이름은연탄이이에요\n",
            "연탄이는4살이며산책를 아주 좋아해요\n",
            "연탕니는 어른일까요? True\n"
          ]
        }
      ]
    },
    {
      "cell_type": "markdown",
      "source": [
        "## 퀴즈\n",
        "- Quiz ) 변수를 이용하여 다음 문장을 출력하시오."
      ],
      "metadata": {
        "id": "5UMI3-YfHVJP"
      }
    },
    {
      "cell_type": "code",
      "source": [
        "station = \"사당\",\"신도림\",\"인천공항\"\n",
        "print(station[0]+\"행 열차가 들어오고 있습니다.\")"
      ],
      "metadata": {
        "colab": {
          "base_uri": "https://localhost:8080/"
        },
        "id": "hZN7se6xGybF",
        "outputId": "b1d2dd99-b540-4191-c733-bbc01e1f9800"
      },
      "execution_count": 12,
      "outputs": [
        {
          "output_type": "stream",
          "name": "stdout",
          "text": [
            "사당행 열차가 들어오고 있습니다.\n"
          ]
        }
      ]
    },
    {
      "cell_type": "markdown",
      "source": [
        "#연산자"
      ],
      "metadata": {
        "id": "M3eRYHH6Hywl"
      }
    },
    {
      "cell_type": "code",
      "source": [
        "print(1+1)\n",
        "print(3-2)\n",
        "print(2**3)\n",
        "print(5%2)"
      ],
      "metadata": {
        "colab": {
          "base_uri": "https://localhost:8080/"
        },
        "id": "WazdonZ4HzZM",
        "outputId": "fdae387a-c050-4501-9a63-b6f4a2c9e82d"
      },
      "execution_count": 13,
      "outputs": [
        {
          "output_type": "stream",
          "name": "stdout",
          "text": [
            "2\n",
            "1\n",
            "8\n",
            "1\n"
          ]
        }
      ]
    },
    {
      "cell_type": "markdown",
      "source": [
        "##숫자 처리함수"
      ],
      "metadata": {
        "id": "zm0I_uoGJoe1"
      }
    },
    {
      "cell_type": "code",
      "source": [
        "print(abs(-5)) #절댓값\n",
        "print(pow(4,2)) # 4^2\n",
        "print(max(5,12))\n",
        "print(min(5,12))\n",
        "print(round(3.15)) #반올림"
      ],
      "metadata": {
        "colab": {
          "base_uri": "https://localhost:8080/"
        },
        "id": "JWvX_wcKIeEa",
        "outputId": "7bcfd37a-1187-4e97-f4a0-ea700f2c2a63"
      },
      "execution_count": 14,
      "outputs": [
        {
          "output_type": "stream",
          "name": "stdout",
          "text": [
            "5\n",
            "16\n",
            "12\n",
            "5\n",
            "3\n"
          ]
        }
      ]
    },
    {
      "cell_type": "markdown",
      "source": [
        "##랜덤함수"
      ],
      "metadata": {
        "id": "dZwiNlFJJ7YJ"
      }
    },
    {
      "cell_type": "code",
      "source": [
        "from random import *\n",
        "print(random()) # 0.0 ~1.0 미만의 임의의 값 생성"
      ],
      "metadata": {
        "colab": {
          "base_uri": "https://localhost:8080/"
        },
        "id": "8wU4X7DCJyVn",
        "outputId": "8a537306-44fa-4731-e364-f3d3b8d628b0"
      },
      "execution_count": 15,
      "outputs": [
        {
          "output_type": "stream",
          "name": "stdout",
          "text": [
            "0.5932146211148879\n"
          ]
        }
      ]
    },
    {
      "cell_type": "code",
      "source": [
        "print(randrange(1,46)) "
      ],
      "metadata": {
        "colab": {
          "base_uri": "https://localhost:8080/"
        },
        "id": "-XfVzek2J_ZP",
        "outputId": "b3f5ca76-6029-44b9-e717-5e5f02a9a764"
      },
      "execution_count": 16,
      "outputs": [
        {
          "output_type": "stream",
          "name": "stdout",
          "text": [
            "28\n"
          ]
        }
      ]
    },
    {
      "cell_type": "code",
      "source": [
        "print(randint(1,45))"
      ],
      "metadata": {
        "colab": {
          "base_uri": "https://localhost:8080/"
        },
        "id": "4lHlyXpaKdkq",
        "outputId": "52c18bd7-86ac-4894-e9e1-8be81505024d"
      },
      "execution_count": 17,
      "outputs": [
        {
          "output_type": "stream",
          "name": "stdout",
          "text": [
            "12\n"
          ]
        }
      ]
    },
    {
      "cell_type": "code",
      "source": [
        ""
      ],
      "metadata": {
        "id": "fyV2ldD8KiZK"
      },
      "execution_count": 17,
      "outputs": []
    },
    {
      "cell_type": "markdown",
      "source": [
        "## 퀴즈\n",
        "- 월 4회 스터디를 하는데 3번은 온라인 1번은 오프라인으로 하기로 했습니다."
      ],
      "metadata": {
        "id": "ylkfIoDaKi2G"
      }
    },
    {
      "cell_type": "code",
      "source": [
        "#1 랜덤으로 날짜를 뽑아야 함\n",
        "#2 월별 날짜는 다름을 감안하여 최소 일수인 28 이내로 정함\n",
        "#3 매월 1~3일은 스터리 준비를 해야하므로 제외\n",
        "print(\"오프라인 스터디 모임 날짜는 매월\"+str(randint(4,27))+'일로 선정되었습니다')"
      ],
      "metadata": {
        "colab": {
          "base_uri": "https://localhost:8080/"
        },
        "id": "ldxIUIxIKsrw",
        "outputId": "7ea76f29-f48a-4044-ec47-d732ac152a5d"
      },
      "execution_count": 18,
      "outputs": [
        {
          "output_type": "stream",
          "name": "stdout",
          "text": [
            "오프라인 스터디 모임 날짜는 매월22일로 선정되었습니다\n"
          ]
        }
      ]
    },
    {
      "cell_type": "markdown",
      "source": [
        "#문자열"
      ],
      "metadata": {
        "id": "oVmbFo1hLSZU"
      }
    },
    {
      "cell_type": "code",
      "source": [
        "sentence = '나는 소년입니다'\n",
        "print(sentence)\n",
        "sentence2 = '파이썬은 쉬워요'\n",
        "print(sentence2)\n",
        "sentence3 = '''나는 소년이고,\n",
        "파이썬은 쉬워요'''\n",
        "print(sentence3)"
      ],
      "metadata": {
        "colab": {
          "base_uri": "https://localhost:8080/"
        },
        "id": "rg3qsei5LDOA",
        "outputId": "e6fe7cb0-e384-4670-d4ba-40ccb472f75b"
      },
      "execution_count": 19,
      "outputs": [
        {
          "output_type": "stream",
          "name": "stdout",
          "text": [
            "나는 소년입니다\n",
            "파이썬은 쉬워요\n",
            "나는 소년이고,\n",
            "파이썬은 쉬워요\n"
          ]
        }
      ]
    },
    {
      "cell_type": "markdown",
      "source": [
        "##슬라이싱"
      ],
      "metadata": {
        "id": "qMQsBoEELkiJ"
      }
    },
    {
      "cell_type": "code",
      "source": [
        "jumin = \"990120-1234567\"\n",
        "print(\"성별: \" + jumin[7])"
      ],
      "metadata": {
        "colab": {
          "base_uri": "https://localhost:8080/"
        },
        "id": "ncB9AEGTLhkI",
        "outputId": "7cc5b48f-b883-4aed-cafa-d85b2aba8358"
      },
      "execution_count": 20,
      "outputs": [
        {
          "output_type": "stream",
          "name": "stdout",
          "text": [
            "성별: 1\n"
          ]
        }
      ]
    },
    {
      "cell_type": "markdown",
      "source": [
        "##문자열 처리함수"
      ],
      "metadata": {
        "id": "CMSiD_tJMVl4"
      }
    },
    {
      "cell_type": "code",
      "source": [
        "python = 'Python is Amazing'\n",
        "print(python.lower())\n",
        "print(python.upper())\n",
        "print(python[0].isupper())\n",
        "print(len(python))\n",
        "print(python.replace('python','java'))"
      ],
      "metadata": {
        "colab": {
          "base_uri": "https://localhost:8080/"
        },
        "id": "LW4Mn3GzLxKY",
        "outputId": "4c8ab0d8-7597-487d-b50d-e4eb8b38c8bb"
      },
      "execution_count": 21,
      "outputs": [
        {
          "output_type": "stream",
          "name": "stdout",
          "text": [
            "python is amazing\n",
            "PYTHON IS AMAZING\n",
            "True\n",
            "17\n",
            "Python is Amazing\n"
          ]
        }
      ]
    },
    {
      "cell_type": "code",
      "source": [
        "index = python.index('n')\n",
        "print(index)"
      ],
      "metadata": {
        "colab": {
          "base_uri": "https://localhost:8080/"
        },
        "id": "VLuRROFQMgZE",
        "outputId": "ef462ee9-74c6-40f7-c8c4-dab3f6146b07"
      },
      "execution_count": 22,
      "outputs": [
        {
          "output_type": "stream",
          "name": "stdout",
          "text": [
            "5\n"
          ]
        }
      ]
    },
    {
      "cell_type": "code",
      "source": [
        "print(python.find(\"n\"))\n",
        "print(python.index('n',index+1))"
      ],
      "metadata": {
        "colab": {
          "base_uri": "https://localhost:8080/"
        },
        "id": "d4XVdIY6MrGc",
        "outputId": "7ffac2b8-51ca-41ea-f638-1dfa17433e59"
      },
      "execution_count": 23,
      "outputs": [
        {
          "output_type": "stream",
          "name": "stdout",
          "text": [
            "5\n",
            "15\n"
          ]
        }
      ]
    },
    {
      "cell_type": "markdown",
      "source": [
        "## 문자열 포맷"
      ],
      "metadata": {
        "id": "04QjJYsbNOry"
      }
    },
    {
      "cell_type": "code",
      "source": [
        "print(\"나는 %d살입니다\"%20)\n",
        "print(\"나는 %s을 좋아해요\"%\"파이썬\")\n",
        "print(\"Apple은 %c로 시작해요\"%\"A\")\n",
        "print(\"나는 %s색과 %s색을 좋아해요\"%(\"파란\",\"빨간\"))"
      ],
      "metadata": {
        "colab": {
          "base_uri": "https://localhost:8080/"
        },
        "id": "qM-LOUL4NQ4t",
        "outputId": "389fbe9d-0bcd-4c95-d44a-9f8cda6dcd45"
      },
      "execution_count": 24,
      "outputs": [
        {
          "output_type": "stream",
          "name": "stdout",
          "text": [
            "나는 20살입니다\n",
            "나는 파이썬을 좋아해요\n",
            "Apple은 A로 시작해요\n",
            "나는 파란색과 빨간색을 좋아해요\n"
          ]
        }
      ]
    },
    {
      "cell_type": "code",
      "source": [
        "print(\"나는 {}살입니다.\".format(20))\n",
        "print(\"나는 {}색과 {}색을 좋아해요\".format(\"파란\",\"빨간\"))\n",
        "print(\"나는 {0}색과 {1}색을 좋아해요\".format(\"파란\",\"빨간\"))\n",
        "print(\"나는 {1}색과 {0}색을 좋아해요\".format(\"파란\",\"빨간\"))\n",
        "print(\"나는 {age}살이며,{color}색을 좋아해요\".format(age=20,color=\"빨간\"))"
      ],
      "metadata": {
        "colab": {
          "base_uri": "https://localhost:8080/"
        },
        "id": "ZCWvEnN0NQ7S",
        "outputId": "07a5717c-730b-4f1e-814f-ec36defd960b"
      },
      "execution_count": 25,
      "outputs": [
        {
          "output_type": "stream",
          "name": "stdout",
          "text": [
            "나는 20살입니다.\n",
            "나는 파란색과 빨간색을 좋아해요\n",
            "나는 파란색과 빨간색을 좋아해요\n",
            "나는 빨간색과 파란색을 좋아해요\n",
            "나는 20살이며,빨간색을 좋아해요\n"
          ]
        }
      ]
    },
    {
      "cell_type": "code",
      "source": [
        "age = 20\n",
        "color = \"빨간\"\n",
        "print(f\"나는 {age}살이며,{color}색을 좋아해요\")"
      ],
      "metadata": {
        "colab": {
          "base_uri": "https://localhost:8080/"
        },
        "id": "XxGdMwZrObRB",
        "outputId": "16444683-07db-4240-8b55-46d50b69617d"
      },
      "execution_count": 26,
      "outputs": [
        {
          "output_type": "stream",
          "name": "stdout",
          "text": [
            "나는 20살이며,빨간색을 좋아해요\n"
          ]
        }
      ]
    },
    {
      "cell_type": "markdown",
      "source": [
        "## 탈출문자"
      ],
      "metadata": {
        "id": "jXhfakRJNOxj"
      }
    },
    {
      "cell_type": "code",
      "source": [
        "print(\"백문이 불여일견 \\n백견이 불여일타\")"
      ],
      "metadata": {
        "colab": {
          "base_uri": "https://localhost:8080/"
        },
        "id": "Rbi390GdO1RT",
        "outputId": "5f3409b0-8f9a-4719-8134-694dc09e37b0"
      },
      "execution_count": 27,
      "outputs": [
        {
          "output_type": "stream",
          "name": "stdout",
          "text": [
            "백문이 불여일견 \n",
            "백견이 불여일타\n"
          ]
        }
      ]
    },
    {
      "cell_type": "code",
      "source": [
        "print(\"저는 '나도 코딩'입니다.\")\n",
        "print(\"저는 \\\"나도코딩\\\"입니다.\")"
      ],
      "metadata": {
        "colab": {
          "base_uri": "https://localhost:8080/"
        },
        "id": "ShO1RibqO7cq",
        "outputId": "0db9acb2-a63d-4433-ec6a-5c08c8bbf64c"
      },
      "execution_count": 28,
      "outputs": [
        {
          "output_type": "stream",
          "name": "stdout",
          "text": [
            "저는 '나도 코딩'입니다.\n",
            "저는 \"나도코딩\"입니다.\n"
          ]
        }
      ]
    },
    {
      "cell_type": "code",
      "source": [
        "print(\"Red Apple\\rpine\")\n",
        "print(\"Redd\\bApple\")\n",
        "print(\"Red\\tApple\")"
      ],
      "metadata": {
        "colab": {
          "base_uri": "https://localhost:8080/"
        },
        "id": "_u3YUhaiO_Yp",
        "outputId": "fd16f836-10b0-4863-9978-2f4e9ce10bd4"
      },
      "execution_count": 29,
      "outputs": [
        {
          "output_type": "stream",
          "name": "stdout",
          "text": [
            "Red Apple\rpine\n",
            "Redd\bApple\n",
            "Red\tApple\n"
          ]
        }
      ]
    },
    {
      "cell_type": "markdown",
      "source": [
        "##Quiz\n"
      ],
      "metadata": {
        "id": "kRdxw24IP43E"
      }
    },
    {
      "cell_type": "code",
      "source": [
        "url = 'http://naver.com'\n",
        "my_str = url.replace(\"http://\",\"\")\n",
        "my_str\n",
        "my_str1 = my_str[:5] # my_str = my_str[:my_str.index(\".\")]\n",
        "my_str1\n",
        "password = my_str1[:3] + str(len(my_str1)) + str(my_str.count(\"e\")) +\"!\"\n",
        "print(\"{0}의 비밀번호는 {1}\".format(url,password))"
      ],
      "metadata": {
        "colab": {
          "base_uri": "https://localhost:8080/"
        },
        "id": "MhdV89Y4PkkL",
        "outputId": "d11f4dcb-4ef9-4d92-b568-adfc50cf3523"
      },
      "execution_count": 30,
      "outputs": [
        {
          "output_type": "stream",
          "name": "stdout",
          "text": [
            "http://naver.com의 비밀번호는 nav51!\n"
          ]
        }
      ]
    },
    {
      "cell_type": "markdown",
      "source": [
        "#자료 구조"
      ],
      "metadata": {
        "id": "wepVoLjsUxdq"
      }
    },
    {
      "cell_type": "markdown",
      "source": [
        "#리스트"
      ],
      "metadata": {
        "id": "qr3uIdkeRQfe"
      }
    },
    {
      "cell_type": "code",
      "source": [
        "subway = ['유재석','조세호','박명수']\n",
        "print(subway.index('조세호'))"
      ],
      "metadata": {
        "colab": {
          "base_uri": "https://localhost:8080/"
        },
        "id": "PI8Jk6BpRFn_",
        "outputId": "9ae23011-8b40-4d14-d3c4-6252707bcfc1"
      },
      "execution_count": 31,
      "outputs": [
        {
          "output_type": "stream",
          "name": "stdout",
          "text": [
            "1\n"
          ]
        }
      ]
    },
    {
      "cell_type": "code",
      "source": [
        "subway.append('하하')\n",
        "print(subway)"
      ],
      "metadata": {
        "colab": {
          "base_uri": "https://localhost:8080/"
        },
        "id": "uUJRHR92Sanc",
        "outputId": "f2c33135-d83c-4cbb-feae-16971d5e0e1a"
      },
      "execution_count": 32,
      "outputs": [
        {
          "output_type": "stream",
          "name": "stdout",
          "text": [
            "['유재석', '조세호', '박명수', '하하']\n"
          ]
        }
      ]
    },
    {
      "cell_type": "code",
      "source": [
        "subway.insert(1,'정형돈')\n",
        "print(subway)"
      ],
      "metadata": {
        "colab": {
          "base_uri": "https://localhost:8080/"
        },
        "id": "Viuf4DJlSfeg",
        "outputId": "90b28a79-d4ef-4bfa-e10c-2c1bffe6114c"
      },
      "execution_count": 33,
      "outputs": [
        {
          "output_type": "stream",
          "name": "stdout",
          "text": [
            "['유재석', '정형돈', '조세호', '박명수', '하하']\n"
          ]
        }
      ]
    },
    {
      "cell_type": "code",
      "source": [
        "print(subway.pop()) # 맨뒤부터 제거\n",
        "print(subway)"
      ],
      "metadata": {
        "colab": {
          "base_uri": "https://localhost:8080/"
        },
        "id": "Ua7koqgKSlIN",
        "outputId": "5d35d658-7e26-4a70-cb9b-e39e78158338"
      },
      "execution_count": 34,
      "outputs": [
        {
          "output_type": "stream",
          "name": "stdout",
          "text": [
            "하하\n",
            "['유재석', '정형돈', '조세호', '박명수']\n"
          ]
        }
      ]
    },
    {
      "cell_type": "code",
      "source": [
        "subway.append(\"유재석\")\n",
        "print(subway.count(\"유재석\"))"
      ],
      "metadata": {
        "colab": {
          "base_uri": "https://localhost:8080/"
        },
        "id": "BhhCso4CSqUB",
        "outputId": "054dd933-1672-4933-a163-e7e2af47d952"
      },
      "execution_count": 35,
      "outputs": [
        {
          "output_type": "stream",
          "name": "stdout",
          "text": [
            "2\n"
          ]
        }
      ]
    },
    {
      "cell_type": "code",
      "source": [
        "num_list = [5,4,3,2,1]\n",
        "num_list.sort()\n",
        "print(num_list)"
      ],
      "metadata": {
        "colab": {
          "base_uri": "https://localhost:8080/"
        },
        "id": "ym1O8WdYSxoo",
        "outputId": "3b5b6944-aa19-4901-fc01-2fca61958ff5"
      },
      "execution_count": 36,
      "outputs": [
        {
          "output_type": "stream",
          "name": "stdout",
          "text": [
            "[1, 2, 3, 4, 5]\n"
          ]
        }
      ]
    },
    {
      "cell_type": "code",
      "source": [
        "num_list.reverse()\n",
        "print(num_list)"
      ],
      "metadata": {
        "colab": {
          "base_uri": "https://localhost:8080/"
        },
        "id": "c1_iQCYvS5vB",
        "outputId": "d3a7c304-ed85-478b-f0af-45c276696ecc"
      },
      "execution_count": 37,
      "outputs": [
        {
          "output_type": "stream",
          "name": "stdout",
          "text": [
            "[5, 4, 3, 2, 1]\n"
          ]
        }
      ]
    },
    {
      "cell_type": "code",
      "source": [
        "num_list.clear()\n",
        "print(num_list)"
      ],
      "metadata": {
        "colab": {
          "base_uri": "https://localhost:8080/"
        },
        "id": "cjP8sFwfS_la",
        "outputId": "d188ebbd-295c-44c1-ef7d-8a5c616a075f"
      },
      "execution_count": 38,
      "outputs": [
        {
          "output_type": "stream",
          "name": "stdout",
          "text": [
            "[]\n"
          ]
        }
      ]
    },
    {
      "cell_type": "code",
      "source": [
        "num_list = [5,4,3,2,1]\n",
        "mix_list = ['조세호',20,True]\n",
        "num_list.extend(mix_list)\n",
        "print(num_list)"
      ],
      "metadata": {
        "colab": {
          "base_uri": "https://localhost:8080/"
        },
        "id": "s_iYDYCTTLGG",
        "outputId": "fc23d9a8-ff0e-4658-aa7d-5682fca62b6b"
      },
      "execution_count": 39,
      "outputs": [
        {
          "output_type": "stream",
          "name": "stdout",
          "text": [
            "[5, 4, 3, 2, 1, '조세호', 20, True]\n"
          ]
        }
      ]
    },
    {
      "cell_type": "markdown",
      "source": [
        "##사전"
      ],
      "metadata": {
        "id": "sTRXnljbTXiD"
      }
    },
    {
      "cell_type": "code",
      "source": [
        "cabinet = {3:\"유재석\",100:\"김태호\"}\n",
        "cabinet[3]"
      ],
      "metadata": {
        "colab": {
          "base_uri": "https://localhost:8080/",
          "height": 0
        },
        "id": "52rqinSeTVRI",
        "outputId": "9ad3da86-0eed-4c9f-d6cc-019f8598322e"
      },
      "execution_count": 40,
      "outputs": [
        {
          "output_type": "execute_result",
          "data": {
            "text/plain": [
              "'유재석'"
            ],
            "application/vnd.google.colaboratory.intrinsic+json": {
              "type": "string"
            }
          },
          "metadata": {},
          "execution_count": 40
        }
      ]
    },
    {
      "cell_type": "code",
      "source": [
        "print(cabinet.get(3))\n",
        "print(cabinet.get(5,\"사용 가능\"))"
      ],
      "metadata": {
        "colab": {
          "base_uri": "https://localhost:8080/"
        },
        "id": "Tjg4h2gYTmI0",
        "outputId": "dda10cc9-41a7-4340-912f-c1aeb13cbd24"
      },
      "execution_count": 41,
      "outputs": [
        {
          "output_type": "stream",
          "name": "stdout",
          "text": [
            "유재석\n",
            "사용 가능\n"
          ]
        }
      ]
    },
    {
      "cell_type": "code",
      "source": [
        "print(3 in cabinet)\n",
        "print(5 in cabinet)"
      ],
      "metadata": {
        "colab": {
          "base_uri": "https://localhost:8080/"
        },
        "id": "qnKEhVocTu8X",
        "outputId": "2066cddb-410b-4c03-9268-7df2c24b000f"
      },
      "execution_count": 42,
      "outputs": [
        {
          "output_type": "stream",
          "name": "stdout",
          "text": [
            "True\n",
            "False\n"
          ]
        }
      ]
    },
    {
      "cell_type": "code",
      "source": [
        "cabinet[1] = '조세호'\n",
        "print(cabinet)"
      ],
      "metadata": {
        "colab": {
          "base_uri": "https://localhost:8080/"
        },
        "id": "2bZKSd88UFnt",
        "outputId": "040ed50a-4c4e-4584-991a-9e278e82ff56"
      },
      "execution_count": 43,
      "outputs": [
        {
          "output_type": "stream",
          "name": "stdout",
          "text": [
            "{3: '유재석', 100: '김태호', 1: '조세호'}\n"
          ]
        }
      ]
    },
    {
      "cell_type": "code",
      "source": [
        "# del cabinet[3]\n",
        "print(cabinet)"
      ],
      "metadata": {
        "colab": {
          "base_uri": "https://localhost:8080/"
        },
        "id": "zED13-3RUOnC",
        "outputId": "8c4f5704-9842-4257-aa87-7e82464f162f"
      },
      "execution_count": 44,
      "outputs": [
        {
          "output_type": "stream",
          "name": "stdout",
          "text": [
            "{3: '유재석', 100: '김태호', 1: '조세호'}\n"
          ]
        }
      ]
    },
    {
      "cell_type": "code",
      "source": [
        "print(cabinet.keys())\n",
        "print(cabinet.values())\n",
        "print(cabinet.items()) # key,value 쌍으로 출력"
      ],
      "metadata": {
        "colab": {
          "base_uri": "https://localhost:8080/"
        },
        "id": "Hh1DORP7UZtg",
        "outputId": "7b773427-3366-453c-bc16-28c5eef87da7"
      },
      "execution_count": 45,
      "outputs": [
        {
          "output_type": "stream",
          "name": "stdout",
          "text": [
            "dict_keys([3, 100, 1])\n",
            "dict_values(['유재석', '김태호', '조세호'])\n",
            "dict_items([(3, '유재석'), (100, '김태호'), (1, '조세호')])\n"
          ]
        }
      ]
    },
    {
      "cell_type": "markdown",
      "source": [
        "##튜플"
      ],
      "metadata": {
        "id": "zv32gticUqlL"
      }
    },
    {
      "cell_type": "code",
      "source": [
        "menu = ('돈까스','치즈까스')\n",
        "print(menu[0])\n",
        "print(menu[1])"
      ],
      "metadata": {
        "colab": {
          "base_uri": "https://localhost:8080/"
        },
        "id": "6bkUevooUnP_",
        "outputId": "8d043efe-c4a5-4d1b-b61e-39410878b72c"
      },
      "execution_count": 46,
      "outputs": [
        {
          "output_type": "stream",
          "name": "stdout",
          "text": [
            "돈까스\n",
            "치즈까스\n"
          ]
        }
      ]
    },
    {
      "cell_type": "markdown",
      "source": [
        "##세트(집합)"
      ],
      "metadata": {
        "id": "A2EgnKsrVGwt"
      }
    },
    {
      "cell_type": "code",
      "source": [
        "my_set = {1,2,3,3,3,3}\n",
        "print(my_set)\n",
        "java = {\"유재석\",'김태호',\"양세형\"}\n",
        "python = set(['유재석','박명수'])\n",
        "print(java & python) #교집합\n",
        "print(java.intersection(python))\n",
        "print(java | python) # 합집함\n",
        "print(java.union(python))\n",
        "print(java - python) # 차집합\n",
        "print(java.difference(python))\n",
        "python.add(\"김태호\")\n",
        "print(python)\n",
        "python.remove(\"김태호\")\n",
        "print(python)"
      ],
      "metadata": {
        "colab": {
          "base_uri": "https://localhost:8080/"
        },
        "id": "V-YOxvX-VIVS",
        "outputId": "c3ddecdc-60bc-4fa3-ac3b-d8bed8eaa4d7"
      },
      "execution_count": 47,
      "outputs": [
        {
          "output_type": "stream",
          "name": "stdout",
          "text": [
            "{1, 2, 3}\n",
            "{'유재석'}\n",
            "{'유재석'}\n",
            "{'박명수', '양세형', '김태호', '유재석'}\n",
            "{'박명수', '양세형', '김태호', '유재석'}\n",
            "{'양세형', '김태호'}\n",
            "{'양세형', '김태호'}\n",
            "{'박명수', '김태호', '유재석'}\n",
            "{'박명수', '유재석'}\n"
          ]
        }
      ]
    },
    {
      "cell_type": "markdown",
      "source": [
        "##자료구조의 변경"
      ],
      "metadata": {
        "id": "MSTHNyvQV8cA"
      }
    },
    {
      "cell_type": "code",
      "source": [
        "menu = {'커피','우유','주스'}\n",
        "print(menu,type(menu))"
      ],
      "metadata": {
        "colab": {
          "base_uri": "https://localhost:8080/"
        },
        "id": "v1UToNyOVkOO",
        "outputId": "bdd20a30-79f6-43f5-a6b7-bd80d4551901"
      },
      "execution_count": 48,
      "outputs": [
        {
          "output_type": "stream",
          "name": "stdout",
          "text": [
            "{'커피', '주스', '우유'} <class 'set'>\n"
          ]
        }
      ]
    },
    {
      "cell_type": "code",
      "source": [
        "menu = list(menu)\n",
        "menu"
      ],
      "metadata": {
        "id": "rcqesfPqWB3N",
        "outputId": "d427bb5e-2f61-45bb-d77a-963b5051d287",
        "colab": {
          "base_uri": "https://localhost:8080/"
        }
      },
      "execution_count": 49,
      "outputs": [
        {
          "output_type": "execute_result",
          "data": {
            "text/plain": [
              "['커피', '주스', '우유']"
            ]
          },
          "metadata": {},
          "execution_count": 49
        }
      ]
    },
    {
      "cell_type": "code",
      "source": [
        ""
      ],
      "metadata": {
        "id": "wr6YneuMWEup"
      },
      "execution_count": 49,
      "outputs": []
    },
    {
      "cell_type": "markdown",
      "source": [
        "##퀴즈"
      ],
      "metadata": {
        "id": "R1KCkysOfB0t"
      }
    },
    {
      "cell_type": "code",
      "source": [
        "from random import *\n",
        "users = range(1,21)\n",
        "users = list(users)\n",
        "print(users)\n",
        "shuffle(users)\n",
        "winners = sample(users,4)\n",
        "winners"
      ],
      "metadata": {
        "colab": {
          "base_uri": "https://localhost:8080/"
        },
        "id": "JlPvGMecfEfc",
        "outputId": "bbb4289b-0cc8-46e8-872a-9dfab62e364e"
      },
      "execution_count": 50,
      "outputs": [
        {
          "output_type": "stream",
          "name": "stdout",
          "text": [
            "[1, 2, 3, 4, 5, 6, 7, 8, 9, 10, 11, 12, 13, 14, 15, 16, 17, 18, 19, 20]\n"
          ]
        },
        {
          "output_type": "execute_result",
          "data": {
            "text/plain": [
              "[8, 19, 13, 3]"
            ]
          },
          "metadata": {},
          "execution_count": 50
        }
      ]
    },
    {
      "cell_type": "markdown",
      "source": [
        "#제어문"
      ],
      "metadata": {
        "id": "ggcQPgxSf1u0"
      }
    },
    {
      "cell_type": "markdown",
      "source": [
        "##if"
      ],
      "metadata": {
        "id": "AsQrTYjPf3zN"
      }
    },
    {
      "cell_type": "code",
      "source": [
        "weather = '비'\n",
        "if weather == \"비\":\n",
        "    print(\"우산을 챙기세요\")\n",
        "elif weather == \"미세먼지\":\n",
        "    print(\"마스크를 챙기세요\")\n",
        "else:\n",
        "    print(\"알아서\")    \n"
      ],
      "metadata": {
        "colab": {
          "base_uri": "https://localhost:8080/"
        },
        "id": "ruUHEYVifwX6",
        "outputId": "5bef40f9-3cd2-43ea-ba0a-789b923654e0"
      },
      "execution_count": 51,
      "outputs": [
        {
          "output_type": "stream",
          "name": "stdout",
          "text": [
            "우산을 챙기세요\n"
          ]
        }
      ]
    },
    {
      "cell_type": "code",
      "source": [
        "weather = input(\":\")\n",
        "if weather == \"비\":\n",
        "    print(\"우산을 챙기세요\")\n",
        "elif weather == \"미세먼지\":\n",
        "    print(\"마스크를 챙기세요\")\n",
        "else:\n",
        "    print(\"알아서\") "
      ],
      "metadata": {
        "colab": {
          "base_uri": "https://localhost:8080/"
        },
        "id": "lxwd-dtsgJeI",
        "outputId": "95ef7488-3df8-453c-90f5-718a4477603f"
      },
      "execution_count": 52,
      "outputs": [
        {
          "output_type": "stream",
          "name": "stdout",
          "text": [
            ":dd\n",
            "알아서\n"
          ]
        }
      ]
    },
    {
      "cell_type": "markdown",
      "source": [
        "##for"
      ],
      "metadata": {
        "id": "Yv-qyV6igtTX"
      }
    },
    {
      "cell_type": "code",
      "source": [
        "for wating_no in range(5):\n",
        "    print(\"대기번호:{0}\".format(wating_no))"
      ],
      "metadata": {
        "colab": {
          "base_uri": "https://localhost:8080/"
        },
        "id": "YzCvgEEPgTtr",
        "outputId": "8758a2d8-6d4e-410e-f9a8-24acca5db1d6"
      },
      "execution_count": 53,
      "outputs": [
        {
          "output_type": "stream",
          "name": "stdout",
          "text": [
            "대기번호:0\n",
            "대기번호:1\n",
            "대기번호:2\n",
            "대기번호:3\n",
            "대기번호:4\n"
          ]
        }
      ]
    },
    {
      "cell_type": "markdown",
      "source": [
        "##while"
      ],
      "metadata": {
        "id": "F4Herqw-hNsY"
      }
    },
    {
      "cell_type": "code",
      "source": [
        "customer = \"토르\"\n",
        "index = 5\n",
        "while index >=1:\n",
        "    print(\"{0},커피가 준비되었습니다.{1}번 남았어요\".format(customer,index))\n",
        "    index -=1\n",
        "    if index == 0:\n",
        "        print(\"끝\")"
      ],
      "metadata": {
        "colab": {
          "base_uri": "https://localhost:8080/"
        },
        "id": "e0MIC_1_g-j0",
        "outputId": "b97d85fa-aba7-4bb9-dca2-5f7d1d2ea0dc"
      },
      "execution_count": 54,
      "outputs": [
        {
          "output_type": "stream",
          "name": "stdout",
          "text": [
            "토르,커피가 준비되었습니다.5번 남았어요\n",
            "토르,커피가 준비되었습니다.4번 남았어요\n",
            "토르,커피가 준비되었습니다.3번 남았어요\n",
            "토르,커피가 준비되었습니다.2번 남았어요\n",
            "토르,커피가 준비되었습니다.1번 남았어요\n",
            "끝\n"
          ]
        }
      ]
    },
    {
      "cell_type": "code",
      "source": [
        "customer = \"아이언맨\"\n",
        "person = 'unknown'\n",
        "while person != customer:\n",
        "  print(\"{0},커피가 준비 되었습니다.\".format(customer))\n",
        "  person = input(\"이름이 어떻게 되세요\")"
      ],
      "metadata": {
        "colab": {
          "base_uri": "https://localhost:8080/"
        },
        "id": "ka_ZtQlGhibv",
        "outputId": "0dd2073f-3f41-431a-dd7f-45ee4dd64db2"
      },
      "execution_count": 55,
      "outputs": [
        {
          "name": "stdout",
          "output_type": "stream",
          "text": [
            "아이언맨,커피가 준비 되었습니다.\n",
            "이름이 어떻게 되세요ddd\n",
            "아이언맨,커피가 준비 되었습니다.\n",
            "이름이 어떻게 되세요dd\n",
            "아이언맨,커피가 준비 되었습니다.\n",
            "이름이 어떻게 되세요아이언맨\n"
          ]
        }
      ]
    },
    {
      "cell_type": "markdown",
      "source": [
        "## continue와 break"
      ],
      "metadata": {
        "id": "heNK3hKeiXgb"
      }
    },
    {
      "cell_type": "code",
      "source": [
        "absent = [2,5]\n",
        "no_book = [7]\n",
        "for student in range(1,11):\n",
        "    if student in absent:\n",
        "        continue\n",
        "    elif student in no_book:\n",
        "        print(\"오늘 수업 여기까지.{0}는 교무실로 따라와\".format(student))\n",
        "        break    \n",
        "    print(\"{0}, 책을 읽어봐\".format(student))    "
      ],
      "metadata": {
        "colab": {
          "base_uri": "https://localhost:8080/"
        },
        "id": "oepIojvRiNN7",
        "outputId": "772e3ba8-ebf0-4769-8f29-c0fcef0dfb88"
      },
      "execution_count": 56,
      "outputs": [
        {
          "output_type": "stream",
          "name": "stdout",
          "text": [
            "1, 책을 읽어봐\n",
            "3, 책을 읽어봐\n",
            "4, 책을 읽어봐\n",
            "6, 책을 읽어봐\n",
            "오늘 수업 여기까지.7는 교무실로 따라와\n"
          ]
        }
      ]
    },
    {
      "cell_type": "markdown",
      "source": [
        "## 한줄 for문"
      ],
      "metadata": {
        "id": "vj_bL3RCjLW2"
      }
    },
    {
      "cell_type": "code",
      "source": [
        "student = [1,2,3,4,5]\n",
        "student = [i+100 for i in student]\n",
        "print(student)"
      ],
      "metadata": {
        "colab": {
          "base_uri": "https://localhost:8080/"
        },
        "id": "3cWvPVyHipil",
        "outputId": "cb80231f-ea00-4e88-9f4b-8d6be26f1e8b"
      },
      "execution_count": 57,
      "outputs": [
        {
          "output_type": "stream",
          "name": "stdout",
          "text": [
            "[101, 102, 103, 104, 105]\n"
          ]
        }
      ]
    },
    {
      "cell_type": "code",
      "source": [
        "x = ['man','boy','girls']\n",
        "x = [len(i) for i in x]\n",
        "print(x)"
      ],
      "metadata": {
        "colab": {
          "base_uri": "https://localhost:8080/"
        },
        "id": "KS5NrnNwjWy8",
        "outputId": "4f1b7f5e-e87e-4e18-c17b-156f239e0f3f"
      },
      "execution_count": 58,
      "outputs": [
        {
          "output_type": "stream",
          "name": "stdout",
          "text": [
            "[3, 3, 5]\n"
          ]
        }
      ]
    },
    {
      "cell_type": "markdown",
      "source": [
        "#함수"
      ],
      "metadata": {
        "id": "uI5kBod8jxjA"
      }
    },
    {
      "cell_type": "code",
      "source": [
        "def deposit(balance,money):\n",
        "    print(\"입금이 완료되었습니다.잔액은{0}원입니다,\".format(balance+money))\n",
        "    return balance + money\n",
        "balance = 0\n",
        "balance = deposit(balance,1000)\n",
        "print(balance)\n"
      ],
      "metadata": {
        "colab": {
          "base_uri": "https://localhost:8080/"
        },
        "id": "Ij0kLAmejyXK",
        "outputId": "a62f1737-afb6-4346-9bd2-73469679df6b"
      },
      "execution_count": 59,
      "outputs": [
        {
          "output_type": "stream",
          "name": "stdout",
          "text": [
            "입금이 완료되었습니다.잔액은1000원입니다,\n",
            "1000\n"
          ]
        }
      ]
    },
    {
      "cell_type": "code",
      "source": [
        "def withdraw(balance, money):\n",
        "    if balance >= money:\n",
        "        print(\"출금이 완료되었습니다. 잔액은 {0} 원입니다.\".format(balance-money))\n",
        "        return balance - money\n",
        "    else:\n",
        "        print(\"출금이 완료되지 못하였습니다.잔액은 {0}원입니다.\".format(balance))\n",
        "        return balance\n",
        "balance = 0\n",
        "balance = deposit(balance,1000)\n",
        "balance = withdraw(balance,500)        \n",
        "           "
      ],
      "metadata": {
        "colab": {
          "base_uri": "https://localhost:8080/"
        },
        "id": "pKsAo0aYoNAo",
        "outputId": "3bac58b4-43c6-467f-f560-2b99fb19c241"
      },
      "execution_count": 60,
      "outputs": [
        {
          "output_type": "stream",
          "name": "stdout",
          "text": [
            "입금이 완료되었습니다.잔액은1000원입니다,\n",
            "출금이 완료되었습니다. 잔액은 500 원입니다.\n"
          ]
        }
      ]
    },
    {
      "cell_type": "code",
      "source": [
        "def withdraw_night(balance,money):\n",
        "    commision = 100\n",
        "    return commision,balance - money - commision\n",
        "balance = deposit(balance,1000)\n",
        "commission,balance = withdraw_night(balance,500)\n",
        "print(\"수수료 {0}원이며, 잔액은 {1} 원입니다.\".format(commission,balance))    "
      ],
      "metadata": {
        "colab": {
          "base_uri": "https://localhost:8080/"
        },
        "id": "fJWBOc2No_U4",
        "outputId": "176aa024-c836-4ee4-a110-83ddf56e5bf6"
      },
      "execution_count": 61,
      "outputs": [
        {
          "output_type": "stream",
          "name": "stdout",
          "text": [
            "입금이 완료되었습니다.잔액은1500원입니다,\n",
            "수수료 100원이며, 잔액은 900 원입니다.\n"
          ]
        }
      ]
    },
    {
      "cell_type": "markdown",
      "source": [
        "##기본값"
      ],
      "metadata": {
        "id": "4jsuxw6qpu2U"
      }
    },
    {
      "cell_type": "code",
      "source": [
        "def profile(name,age,main_lang):\n",
        "    print(\"이름 : {0}\\t나이: {1}\\t주 사용 언어:{2}\"\\\n",
        "          .format(name,age,main_lang))\n",
        "profile(\"유재석\",20,\"파이썬\")\n",
        "profile(\"김태호\",21,'jaca')    "
      ],
      "metadata": {
        "colab": {
          "base_uri": "https://localhost:8080/"
        },
        "id": "7OAlsCjTpgWH",
        "outputId": "17a3c964-1ce8-4735-ae7e-329e31a4ce04"
      },
      "execution_count": 62,
      "outputs": [
        {
          "output_type": "stream",
          "name": "stdout",
          "text": [
            "이름 : 유재석\t나이: 20\t주 사용 언어:파이썬\n",
            "이름 : 김태호\t나이: 21\t주 사용 언어:jaca\n"
          ]
        }
      ]
    },
    {
      "cell_type": "code",
      "source": [
        "def profile(name,age=17,main_lang='파이썬'):\n",
        "    print(\"이름 : {0}\\t나이: {1}\\t주 사용 언어:{2}\"\\\n",
        "          .format(name,age,main_lang))\n",
        "profile(\"유재석\",20,\"파이썬\")\n",
        "profile(\"김태호\",21,'jaca')\n",
        "profile(\"유재석\")  "
      ],
      "metadata": {
        "colab": {
          "base_uri": "https://localhost:8080/"
        },
        "id": "zEyHslX5rbHM",
        "outputId": "3cdcf53e-7eea-4fb8-8472-02d04cb68723"
      },
      "execution_count": 63,
      "outputs": [
        {
          "output_type": "stream",
          "name": "stdout",
          "text": [
            "이름 : 유재석\t나이: 20\t주 사용 언어:파이썬\n",
            "이름 : 김태호\t나이: 21\t주 사용 언어:jaca\n",
            "이름 : 유재석\t나이: 17\t주 사용 언어:파이썬\n"
          ]
        }
      ]
    },
    {
      "cell_type": "markdown",
      "source": [
        "##키워드값"
      ],
      "metadata": {
        "id": "qrBaEwxbrvBj"
      }
    },
    {
      "cell_type": "code",
      "source": [
        "def profile(name,age,main_lang):\n",
        "    print(name,age,main_lang)\n",
        "profile(name=\"유재석\",main_lang=\"파이썬\",age=20)\n",
        "profile(main_lang=\"자바\",age=25,name='김태호')"
      ],
      "metadata": {
        "colab": {
          "base_uri": "https://localhost:8080/"
        },
        "id": "6egO_2HKrq7a",
        "outputId": "2206efe8-3f1e-4f3d-b940-72a628119403"
      },
      "execution_count": 64,
      "outputs": [
        {
          "output_type": "stream",
          "name": "stdout",
          "text": [
            "유재석 20 파이썬\n",
            "김태호 25 자바\n"
          ]
        }
      ]
    },
    {
      "cell_type": "markdown",
      "source": [
        "##가변인자"
      ],
      "metadata": {
        "id": "bguuVKydsHsP"
      }
    },
    {
      "cell_type": "code",
      "source": [
        "def profile(name,age,lang1,lang2,lang3,lang4,lang5):\n",
        "    print(\"이름: {0}\\t나이: {1}\\t\".format(name, age),end=\" \")\n",
        "    print(lang1,lang2,lang3,lang4,lang5)\n",
        "profile(\"유재석\",20,\"python\",'java','c','c++','c#')\n",
        "profile(\"김태호\",25,\"kotlin\",'swift',\"\",\"\",\"\")    "
      ],
      "metadata": {
        "colab": {
          "base_uri": "https://localhost:8080/"
        },
        "id": "OesUkXCnsDrS",
        "outputId": "15221427-a120-470c-fdd4-0d91f4e3a42c"
      },
      "execution_count": 65,
      "outputs": [
        {
          "output_type": "stream",
          "name": "stdout",
          "text": [
            "이름: 유재석\t나이: 20\t python java c c++ c#\n",
            "이름: 김태호\t나이: 25\t kotlin swift   \n"
          ]
        }
      ]
    },
    {
      "cell_type": "code",
      "source": [
        "def profile(name,age,*language):\n",
        "    print(\"이름: {0}\\t나이: {1}\\t\".format(name, age),end=\" \")\n",
        "    for lang in language:\n",
        "        print(lang,end=\" \")\n",
        "    print()\n",
        "profile(\"유재석\",20,\"python\",'java','c','c++','c#')\n",
        "profile(\"김태호\",25,\"kotlin\",'swift')  "
      ],
      "metadata": {
        "colab": {
          "base_uri": "https://localhost:8080/"
        },
        "id": "sLDHJkfRson5",
        "outputId": "decff658-7d6e-4e96-de9f-2a40ca392008"
      },
      "execution_count": 66,
      "outputs": [
        {
          "output_type": "stream",
          "name": "stdout",
          "text": [
            "이름: 유재석\t나이: 20\t python java c c++ c# \n",
            "이름: 김태호\t나이: 25\t kotlin swift \n"
          ]
        }
      ]
    },
    {
      "cell_type": "markdown",
      "source": [
        "##지역변수와 전역변수"
      ],
      "metadata": {
        "id": "Uhr7N1i5s7i_"
      }
    },
    {
      "cell_type": "code",
      "source": [
        "gun = 10\n",
        "\n",
        "def checkpoint(soldiers):\n",
        "    gun = 20 # 설정해줘야함\n",
        "    gun = gun - soldiers\n",
        "    print(\"[함수내] 남은 총 : {0}\".format(gun))\n",
        "\n",
        "print(\"전체 총:{0}\".format(gun))\n",
        "checkpoint(2)\n",
        "print(\"전체 총:{0}\".format(gun))"
      ],
      "metadata": {
        "colab": {
          "base_uri": "https://localhost:8080/"
        },
        "id": "Ygpc0iqds80H",
        "outputId": "35b3a3b9-53dc-47e1-8bfb-43b3d747cfd5"
      },
      "execution_count": 67,
      "outputs": [
        {
          "output_type": "stream",
          "name": "stdout",
          "text": [
            "전체 총:10\n",
            "[함수내] 남은 총 : 18\n",
            "전체 총:10\n"
          ]
        }
      ]
    },
    {
      "cell_type": "code",
      "source": [
        "gun = 10\n",
        "\n",
        "def checkpoint(soldiers):\n",
        "    global gun # 설정해줘야함\n",
        "    gun = gun - soldiers\n",
        "    print(\"[함수내] 남은 총 : {0}\".format(gun))\n",
        "\n",
        "print(\"전체 총:{0}\".format(gun))\n",
        "checkpoint(2)\n",
        "print(\"전체 총:{0}\".format(gun))"
      ],
      "metadata": {
        "colab": {
          "base_uri": "https://localhost:8080/"
        },
        "id": "PBcBaC5ntUqL",
        "outputId": "7d5bb628-61e3-41bd-f2a0-eafaad6c9a8e"
      },
      "execution_count": 68,
      "outputs": [
        {
          "output_type": "stream",
          "name": "stdout",
          "text": [
            "전체 총:10\n",
            "[함수내] 남은 총 : 8\n",
            "전체 총:8\n"
          ]
        }
      ]
    },
    {
      "cell_type": "code",
      "source": [
        "gun = 10\n",
        "\n",
        "def checkpoint(soldiers):\n",
        "    global gun # 설정해줘야함\n",
        "    gun = gun - soldiers\n",
        "    print(\"[함수내] 남은 총 : {0}\".format(gun))\n",
        "\n",
        "def checkpoint_ret(gun,soldiers):\n",
        "  gun = gun - soldiers\n",
        "  print(\"[함수 내] 남은 총 : {0}\".format(gun))\n",
        "  return gun\n",
        "\n",
        "print(\"전체 총:{0}\".format(gun))\n",
        "gun = checkpoint_ret(gun,2)\n",
        "print(\"전체 총:{0}\".format(gun))"
      ],
      "metadata": {
        "colab": {
          "base_uri": "https://localhost:8080/"
        },
        "id": "7wSd3-n-tkNV",
        "outputId": "6efb5392-bd49-4acf-e3d8-f0263893a93f"
      },
      "execution_count": 69,
      "outputs": [
        {
          "output_type": "stream",
          "name": "stdout",
          "text": [
            "전체 총:10\n",
            "[함수 내] 남은 총 : 8\n",
            "전체 총:8\n"
          ]
        }
      ]
    },
    {
      "cell_type": "markdown",
      "source": [
        "## 퀴즈"
      ],
      "metadata": {
        "id": "mkli1srJjS3D"
      }
    },
    {
      "cell_type": "code",
      "source": [
        "# Quiz) 표준 체중을 구하는 프로그램을 작성하시오.\n",
        "# *표준 체중: 각 개인의 키에 적당한 체중\n",
        "\n",
        "# (성별에 따른 공식)\n",
        "# 남자: 키(m) x 키(m) x 22\n",
        "# 여자: 키(m) x 키(m) x 21\n",
        "\n",
        "# 조건1 : 표준 체중은 별도의 함수 내에서 계산\n",
        "#              *함수명 : std_weight\n",
        "#              *전달값 : 키(height),성별(gender)\n",
        "# 조건2 : 표준 체중은 소수점 둘째자리까지 표시\n",
        "\n",
        "# (출력 예제)\n",
        "# 키 175cm 남자의 표준 체중은 67.38kg입니다."
      ],
      "metadata": {
        "id": "7FVfDFmejSsV"
      },
      "execution_count": 70,
      "outputs": []
    },
    {
      "cell_type": "code",
      "source": [
        "def solution(gender,height):\n",
        "     if gender == '남자':\n",
        "         return height * height * 22\n",
        "     else:\n",
        "         return height * height * 21\n",
        "\n",
        "wegiht = round(solution('남자',175)/10000,2)\n",
        "wegiht"
      ],
      "metadata": {
        "colab": {
          "base_uri": "https://localhost:8080/"
        },
        "id": "EClHj75bj2L2",
        "outputId": "28950c36-f0cf-4864-9376-1515499bc901"
      },
      "execution_count": 71,
      "outputs": [
        {
          "output_type": "execute_result",
          "data": {
            "text/plain": [
              "67.38"
            ]
          },
          "metadata": {},
          "execution_count": 71
        }
      ]
    },
    {
      "cell_type": "markdown",
      "source": [
        "#입출력"
      ],
      "metadata": {
        "id": "C0qrlgyW6fXB"
      }
    },
    {
      "cell_type": "markdown",
      "source": [
        "##표준입출력"
      ],
      "metadata": {
        "id": "NQ0t27nX6hGK"
      }
    },
    {
      "cell_type": "code",
      "source": [
        "print(\"Python\",'java',sep=\" vs \",end=\"?\")\n",
        "print(\" 무엇이 더 재밌을까요?\")"
      ],
      "metadata": {
        "colab": {
          "base_uri": "https://localhost:8080/"
        },
        "id": "yWWuuo7Ct_RR",
        "outputId": "e8b3b0b0-068e-44e8-f51b-cc07d06c80bc"
      },
      "execution_count": 72,
      "outputs": [
        {
          "output_type": "stream",
          "name": "stdout",
          "text": [
            "Python vs java? 무엇이 더 재밌을까요?\n"
          ]
        }
      ]
    },
    {
      "cell_type": "code",
      "source": [
        "import sys\n",
        "print(\"Python\",'java',file=sys.stdout) # 표준 출력\n",
        "print(\"Python\",'java',file = sys.stderr) # 표준 에러"
      ],
      "metadata": {
        "colab": {
          "base_uri": "https://localhost:8080/"
        },
        "id": "ZTWizNJy7C91",
        "outputId": "78d0f05e-f702-4d1a-896a-52b8faae6346"
      },
      "execution_count": 73,
      "outputs": [
        {
          "output_type": "stream",
          "name": "stdout",
          "text": [
            "Python java\n"
          ]
        },
        {
          "output_type": "stream",
          "name": "stderr",
          "text": [
            "Python java\n"
          ]
        }
      ]
    },
    {
      "cell_type": "code",
      "source": [
        "scores = {\"수학\":0,\"영어\":50,\"코딩\":100}\n",
        "for subject,score in scores.items():\n",
        "    print(subject.ljust(1),str(score).rjust(5),sep=':')"
      ],
      "metadata": {
        "colab": {
          "base_uri": "https://localhost:8080/"
        },
        "id": "jOxag4Ne7SP2",
        "outputId": "ade8061e-6f66-4344-f992-bc54b49ed200"
      },
      "execution_count": 74,
      "outputs": [
        {
          "output_type": "stream",
          "name": "stdout",
          "text": [
            "수학:    0\n",
            "영어:   50\n",
            "코딩:  100\n"
          ]
        }
      ]
    },
    {
      "cell_type": "code",
      "source": [
        "for num in range(1,21):\n",
        "    print(\"대기번호:\"+str(num).zfill(3))"
      ],
      "metadata": {
        "colab": {
          "base_uri": "https://localhost:8080/"
        },
        "id": "xD6P-Tjf7fDT",
        "outputId": "a0e9331d-5e56-4f24-caf4-4511d7b808ff"
      },
      "execution_count": 75,
      "outputs": [
        {
          "output_type": "stream",
          "name": "stdout",
          "text": [
            "대기번호:001\n",
            "대기번호:002\n",
            "대기번호:003\n",
            "대기번호:004\n",
            "대기번호:005\n",
            "대기번호:006\n",
            "대기번호:007\n",
            "대기번호:008\n",
            "대기번호:009\n",
            "대기번호:010\n",
            "대기번호:011\n",
            "대기번호:012\n",
            "대기번호:013\n",
            "대기번호:014\n",
            "대기번호:015\n",
            "대기번호:016\n",
            "대기번호:017\n",
            "대기번호:018\n",
            "대기번호:019\n",
            "대기번호:020\n"
          ]
        }
      ]
    },
    {
      "cell_type": "code",
      "source": [
        "for num in range(1,21):\n",
        "    print(\"대기번호:\"+str(num))"
      ],
      "metadata": {
        "colab": {
          "base_uri": "https://localhost:8080/"
        },
        "id": "11vWZurs7289",
        "outputId": "656e8f4e-2b0f-4023-e3bd-5a4abf197e9f"
      },
      "execution_count": 76,
      "outputs": [
        {
          "output_type": "stream",
          "name": "stdout",
          "text": [
            "대기번호:1\n",
            "대기번호:2\n",
            "대기번호:3\n",
            "대기번호:4\n",
            "대기번호:5\n",
            "대기번호:6\n",
            "대기번호:7\n",
            "대기번호:8\n",
            "대기번호:9\n",
            "대기번호:10\n",
            "대기번호:11\n",
            "대기번호:12\n",
            "대기번호:13\n",
            "대기번호:14\n",
            "대기번호:15\n",
            "대기번호:16\n",
            "대기번호:17\n",
            "대기번호:18\n",
            "대기번호:19\n",
            "대기번호:20\n"
          ]
        }
      ]
    },
    {
      "cell_type": "markdown",
      "source": [
        "##다양한 출력포맷"
      ],
      "metadata": {
        "id": "L_r5mvvd8Ldz"
      }
    },
    {
      "cell_type": "code",
      "source": [
        "# 빈 자리는 빈공간으로 두고, 오른쪽 정렬을 하되, 총 10자리 공간을 확보\n",
        "print(\"{0: >10}\".format(500))"
      ],
      "metadata": {
        "colab": {
          "base_uri": "https://localhost:8080/"
        },
        "id": "bhvTcYJz75wU",
        "outputId": "29b7c266-9b26-4c6d-faea-6f9df9a0464c"
      },
      "execution_count": 77,
      "outputs": [
        {
          "output_type": "stream",
          "name": "stdout",
          "text": [
            "       500\n"
          ]
        }
      ]
    },
    {
      "cell_type": "code",
      "source": [
        "# 양수일 땐 +로 표시,음수일 땐 -로표시\n",
        "print(\"{0: >+10}\".format(500))\n",
        "print(\"{0: >+10}\".format(-500))"
      ],
      "metadata": {
        "colab": {
          "base_uri": "https://localhost:8080/"
        },
        "id": "TAtkxxyL8VEY",
        "outputId": "dbc2b39b-473a-44fd-db21-6ba7ee5af20d"
      },
      "execution_count": 78,
      "outputs": [
        {
          "output_type": "stream",
          "name": "stdout",
          "text": [
            "      +500\n",
            "      -500\n"
          ]
        }
      ]
    },
    {
      "cell_type": "code",
      "source": [
        "# 왼쪽 정렬하고, 빈칸으로 _로 체움\n",
        "print(\"{0:_<+10}\".format(500))"
      ],
      "metadata": {
        "colab": {
          "base_uri": "https://localhost:8080/"
        },
        "id": "5Ac17hUa8o6R",
        "outputId": "25e90595-2a58-4d16-9c08-052f5bc00ff5"
      },
      "execution_count": 79,
      "outputs": [
        {
          "output_type": "stream",
          "name": "stdout",
          "text": [
            "+500______\n"
          ]
        }
      ]
    },
    {
      "cell_type": "code",
      "source": [
        "# 3자리 마다 콤마를 찍어주기\n",
        "print(\"{0:,}\".format(10000000000))"
      ],
      "metadata": {
        "colab": {
          "base_uri": "https://localhost:8080/"
        },
        "id": "qyOkU0538wKT",
        "outputId": "96cb82a9-9aa9-43b3-b12d-759113706f05"
      },
      "execution_count": 80,
      "outputs": [
        {
          "output_type": "stream",
          "name": "stdout",
          "text": [
            "10,000,000,000\n"
          ]
        }
      ]
    },
    {
      "cell_type": "code",
      "source": [
        "# 3자리 마다 콤마를 찍어주기, +- 부호도 붙이기\n",
        "print(\"{0:+,}\".format(1000000000))\n",
        "print(\"{0:+,}\".format(-1000000000))"
      ],
      "metadata": {
        "colab": {
          "base_uri": "https://localhost:8080/"
        },
        "id": "IfOF4XfQ895S",
        "outputId": "f0ca7374-6dd0-4738-f8f1-a5a892799a02"
      },
      "execution_count": 81,
      "outputs": [
        {
          "output_type": "stream",
          "name": "stdout",
          "text": [
            "+1,000,000,000\n",
            "-1,000,000,000\n"
          ]
        }
      ]
    },
    {
      "cell_type": "code",
      "source": [
        "# 3자리 마다 콤마를 찍어주기, 부호도 붙이고, 자릿수 확보하기\n",
        "# 빈 자리는 ^로 채워주기\n",
        "print(\"{0:^<+30,}\".format(100000000000))\n",
        "print(\"{0:^>+30,}\".format(100000000000))"
      ],
      "metadata": {
        "colab": {
          "base_uri": "https://localhost:8080/"
        },
        "id": "V6W1l6uk9G78",
        "outputId": "ce97e38e-248a-4944-fddd-c92c3a742dbb"
      },
      "execution_count": 82,
      "outputs": [
        {
          "output_type": "stream",
          "name": "stdout",
          "text": [
            "+100,000,000,000^^^^^^^^^^^^^^\n",
            "^^^^^^^^^^^^^^+100,000,000,000\n"
          ]
        }
      ]
    },
    {
      "cell_type": "code",
      "source": [
        "#소수점 출력\n",
        "print(\"{0:f}\".format(5/3))"
      ],
      "metadata": {
        "colab": {
          "base_uri": "https://localhost:8080/"
        },
        "id": "MZil02Id9bL3",
        "outputId": "4948176e-73d7-4ee0-c3c6-b99854ab3cb8"
      },
      "execution_count": 83,
      "outputs": [
        {
          "output_type": "stream",
          "name": "stdout",
          "text": [
            "1.666667\n"
          ]
        }
      ]
    },
    {
      "cell_type": "code",
      "source": [
        "# 소수점 특정 자리수 까지만 표시\n",
        "print(\"{0:.2f}\".format(5/3))"
      ],
      "metadata": {
        "colab": {
          "base_uri": "https://localhost:8080/"
        },
        "id": "LDiCknBw9vgD",
        "outputId": "d225d9e2-6c3b-45eb-c82d-9bd9da7f3936"
      },
      "execution_count": 84,
      "outputs": [
        {
          "output_type": "stream",
          "name": "stdout",
          "text": [
            "1.67\n"
          ]
        }
      ]
    },
    {
      "cell_type": "markdown",
      "source": [
        "##파일입출력"
      ],
      "metadata": {
        "id": "bM0i5wGZ96gf"
      }
    },
    {
      "cell_type": "code",
      "source": [
        "score_file = open(\"score.txt\",\"w\",encoding='utf8')\n",
        "print(\"수학: 0 \",file=score_file)\n",
        "print(\"영어 :50\", file=score_file)\n",
        "score_file.close()"
      ],
      "metadata": {
        "id": "oZ2jcGy192Xt"
      },
      "execution_count": 85,
      "outputs": []
    },
    {
      "cell_type": "code",
      "source": [
        "score_file1 = open(\"score1.txt\",\"a\",encoding='utf8') # 더하기\n",
        "score_file1.write(\"과학: 80\")\n",
        "score_file1.write(\"\\n코딩 : 100\")\n",
        "score_file1.close()"
      ],
      "metadata": {
        "id": "tbDfIZrA-RbF"
      },
      "execution_count": 86,
      "outputs": []
    },
    {
      "cell_type": "code",
      "source": [
        "score_file = open(\"score.txt\",'r',encoding='utf8')\n",
        "print(score_file.read())\n",
        "score_file.close()"
      ],
      "metadata": {
        "colab": {
          "base_uri": "https://localhost:8080/"
        },
        "id": "XzlnV2et-ith",
        "outputId": "65dc2d9b-60a0-463b-82f6-ff6a05f3cc72"
      },
      "execution_count": 87,
      "outputs": [
        {
          "output_type": "stream",
          "name": "stdout",
          "text": [
            "수학: 0 \n",
            "영어 :50\n",
            "\n"
          ]
        }
      ]
    },
    {
      "cell_type": "code",
      "source": [
        "score_file = open(\"score.txt\",'r',encoding='utf8')\n",
        "score_file1 = open(\"score1.txt\",'r',encoding='utf8')\n",
        "print(score_file.readline(),end=\"\")\n",
        "print(score_file.readline(),end=\"\")\n",
        "print(score_file1.readline(),end=\"\")\n",
        "print(score_file1.readline(),end=\"\")\n",
        "score_file.close()"
      ],
      "metadata": {
        "colab": {
          "base_uri": "https://localhost:8080/"
        },
        "id": "11MA2tSW-0b1",
        "outputId": "0d8aec74-9a5a-4698-8081-5df7d43b25eb"
      },
      "execution_count": 88,
      "outputs": [
        {
          "output_type": "stream",
          "name": "stdout",
          "text": [
            "수학: 0 \n",
            "영어 :50\n",
            "과학: 80\n",
            "코딩 : 100"
          ]
        }
      ]
    },
    {
      "cell_type": "code",
      "source": [
        "score_file = open('score.txt','r',encoding='utf8')\n",
        "while True:\n",
        "    line = score_file.readline()\n",
        "    if not line:\n",
        "        break\n",
        "    print(line)\n",
        "score_file.close()        "
      ],
      "metadata": {
        "colab": {
          "base_uri": "https://localhost:8080/"
        },
        "id": "pSmUmiu0--u4",
        "outputId": "71689e30-5b94-41ee-cf0b-66da7685c354"
      },
      "execution_count": 89,
      "outputs": [
        {
          "output_type": "stream",
          "name": "stdout",
          "text": [
            "수학: 0 \n",
            "\n",
            "영어 :50\n",
            "\n"
          ]
        }
      ]
    },
    {
      "cell_type": "code",
      "source": [
        "score_file = open('score.txt','r',encoding='utf8')\n",
        "lines = score_file.readlines()\n",
        "for line in lines:\n",
        "    print(line,end=\"\")\n",
        "score_file.close()    "
      ],
      "metadata": {
        "colab": {
          "base_uri": "https://localhost:8080/"
        },
        "id": "-jdXL88Y_oEy",
        "outputId": "35c8df7f-b085-4b94-eb36-5a52e75ee976"
      },
      "execution_count": 90,
      "outputs": [
        {
          "output_type": "stream",
          "name": "stdout",
          "text": [
            "수학: 0 \n",
            "영어 :50\n"
          ]
        }
      ]
    },
    {
      "cell_type": "markdown",
      "source": [
        "##pickle"
      ],
      "metadata": {
        "id": "j16c3PUk_-Rf"
      }
    },
    {
      "cell_type": "code",
      "source": [
        "import pickle\n",
        "profile_file = open(\"profile.pickle\",\"wb\")\n",
        "profile = {\"이름\":\"박명수\",\"나이\":30,\"취미\":[\"축구\",\"골프\",\"코딩\"]}\n",
        "print(profile)\n",
        "pickle.dump(profile,profile_file) # profile 에 있는 정보를 file에 저장\n",
        "profile_file.close()"
      ],
      "metadata": {
        "colab": {
          "base_uri": "https://localhost:8080/"
        },
        "id": "GePxUKOZ_75k",
        "outputId": "f236533f-5100-445c-ca3d-c775991e68f9"
      },
      "execution_count": 91,
      "outputs": [
        {
          "output_type": "stream",
          "name": "stdout",
          "text": [
            "{'이름': '박명수', '나이': 30, '취미': ['축구', '골프', '코딩']}\n"
          ]
        }
      ]
    },
    {
      "cell_type": "code",
      "source": [
        "import pickle\n",
        "profile_file = open(\"profile.pickle\",\"rb\")\n",
        "profile = pickle.load(profile_file)\n",
        "print(profile)\n",
        "profile_file.close()"
      ],
      "metadata": {
        "colab": {
          "base_uri": "https://localhost:8080/"
        },
        "id": "KQmzU9AXAarI",
        "outputId": "3163455d-8d55-42df-b755-1b63d9b5313d"
      },
      "execution_count": 92,
      "outputs": [
        {
          "output_type": "stream",
          "name": "stdout",
          "text": [
            "{'이름': '박명수', '나이': 30, '취미': ['축구', '골프', '코딩']}\n"
          ]
        }
      ]
    },
    {
      "cell_type": "markdown",
      "source": [
        "#with"
      ],
      "metadata": {
        "id": "1OC2eucCBDBs"
      }
    },
    {
      "cell_type": "code",
      "source": [
        "import pickle\n",
        "with open(\"profile.pickle\",'rb') as profile_file:\n",
        "    print(pickle.load(profile_file))"
      ],
      "metadata": {
        "colab": {
          "base_uri": "https://localhost:8080/"
        },
        "id": "CvOVVQeTA7zD",
        "outputId": "f00c8ec1-e34d-4919-9852-8e819fe1b9fc"
      },
      "execution_count": 93,
      "outputs": [
        {
          "output_type": "stream",
          "name": "stdout",
          "text": [
            "{'이름': '박명수', '나이': 30, '취미': ['축구', '골프', '코딩']}\n"
          ]
        }
      ]
    },
    {
      "cell_type": "code",
      "source": [
        "with open(\"study.txt\",\"w\",encoding='utf8') as study_file:\n",
        "    study_file.write(\"파이썬을 열심히 공부하고 있어요\")"
      ],
      "metadata": {
        "id": "LpIcri67BhoD"
      },
      "execution_count": 94,
      "outputs": []
    },
    {
      "cell_type": "code",
      "source": [
        "with open(\"study.txt\",\"r\",encoding='utf8') as study_file:\n",
        "    print(study_file.read())"
      ],
      "metadata": {
        "colab": {
          "base_uri": "https://localhost:8080/"
        },
        "id": "I7X_Gs0hBsv8",
        "outputId": "8cb44faf-b970-406d-eef9-5d329033a883"
      },
      "execution_count": 95,
      "outputs": [
        {
          "output_type": "stream",
          "name": "stdout",
          "text": [
            "파이썬을 열심히 공부하고 있어요\n"
          ]
        }
      ]
    },
    {
      "cell_type": "markdown",
      "source": [
        "## 퀴즈"
      ],
      "metadata": {
        "id": "rTJRIPfMrvhh"
      }
    },
    {
      "cell_type": "code",
      "source": [
        "# Quiz) 당신의 회사에서는 매주 1회 작성해야 하는 보고서가 있습니다.\n",
        "# 보고서는 항상 아래와 같은 형태로 출력되어야 합니다.\n",
        "\n",
        "# - x 주차 주간보고-\n",
        "# 부서:\n",
        "# 이름:\n",
        "# 업무 요약:\n",
        "\n",
        "# 1주차부터 50주차까지의 보고서 파일을 만드는 프로그램을 작성하시오.\n",
        "\n",
        "# 조건 : 파일명은 '1주차.txt','2주차.txt',...와 같이 만듭니다."
      ],
      "metadata": {
        "id": "Sw5qMJ41rwsh"
      },
      "execution_count": 96,
      "outputs": []
    },
    {
      "cell_type": "code",
      "source": [
        "for i in range(1,51):\n",
        "    with open(str(i) + \"주차.txt\",\"w\",encoding='utf8') as report_file:\n",
        "        report_file.write(\"- {0} 주차 주간보고 -\".format(i)) \n",
        "        report_file.write(\"\\n부서 :\")\n",
        "        report_file.write(\"\\n이름:\")\n",
        "        report_file.write(\"\\n업무 요약:\") "
      ],
      "metadata": {
        "id": "--edFadID5Pd"
      },
      "execution_count": 97,
      "outputs": []
    },
    {
      "cell_type": "markdown",
      "source": [
        "#클래스"
      ],
      "metadata": {
        "id": "SJ_BcSSkKmAh"
      }
    },
    {
      "cell_type": "markdown",
      "source": [
        "#class"
      ],
      "metadata": {
        "id": "q_eBb3hrGy-_"
      }
    },
    {
      "cell_type": "code",
      "source": [
        "name = \"마린\"\n",
        "hp = 40\n",
        "damage = 5\n",
        "print(\"{} 유닛이 생성되었습니다\".format(name))\n",
        "print(\"체력{0},공격력 {1}\\n\".format(hp,damage))"
      ],
      "metadata": {
        "colab": {
          "base_uri": "https://localhost:8080/"
        },
        "id": "djP2fx9REvmX",
        "outputId": "df598beb-e872-4bce-b1e9-e63579246be2"
      },
      "execution_count": 98,
      "outputs": [
        {
          "output_type": "stream",
          "name": "stdout",
          "text": [
            "마린 유닛이 생성되었습니다\n",
            "체력40,공격력 5\n",
            "\n"
          ]
        }
      ]
    },
    {
      "cell_type": "code",
      "source": [
        "tank_name = \"시즈탱크\"\n",
        "tanck_hp = 150\n",
        "tank_damage = 35"
      ],
      "metadata": {
        "id": "-XGKkQEMJdfH"
      },
      "execution_count": 99,
      "outputs": []
    },
    {
      "cell_type": "code",
      "source": [
        "def attack(name,location,damage):\n",
        "    print(\"{0}:{1} 방향으로 적군을 공격 합니다. [공격력 {2}]\".format(\\\n",
        "            name,location,damage))\n",
        "attack(name,\"1시\",damage)    "
      ],
      "metadata": {
        "colab": {
          "base_uri": "https://localhost:8080/"
        },
        "id": "IoMzwc6gI9k0",
        "outputId": "ba2d97d9-c100-498f-dcf0-5cc541613558"
      },
      "execution_count": 100,
      "outputs": [
        {
          "output_type": "stream",
          "name": "stdout",
          "text": [
            "마린:1시 방향으로 적군을 공격 합니다. [공격력 5]\n"
          ]
        }
      ]
    },
    {
      "cell_type": "code",
      "source": [
        "attack(tank_name,\"1시\",tank_damage)    "
      ],
      "metadata": {
        "colab": {
          "base_uri": "https://localhost:8080/"
        },
        "id": "u2BnUiGZJao7",
        "outputId": "ce758a69-bfff-402a-a6a6-08a2cd7d685e"
      },
      "execution_count": 101,
      "outputs": [
        {
          "output_type": "stream",
          "name": "stdout",
          "text": [
            "시즈탱크:1시 방향으로 적군을 공격 합니다. [공격력 35]\n"
          ]
        }
      ]
    },
    {
      "cell_type": "code",
      "source": [
        "class Unit:\n",
        "    def __init__(self,name,hp,damage):\n",
        "        self.name = name\n",
        "        self.hp = hp\n",
        "        self.damage = damage\n",
        "        print(\"{0} 유닛이 생성 되었습니다.\".format(self.name))\n",
        "        print(\"체력 {0},공격력 {1}\".format(self.hp,self.damage))\n",
        "marine1 = Unit(\"마린\",40,5)\n",
        "marine2 = Unit(\"마린\",40,5)\n",
        "tank = Unit(\"탱크\",150,35)        "
      ],
      "metadata": {
        "colab": {
          "base_uri": "https://localhost:8080/"
        },
        "id": "Dodc5gNvJoZs",
        "outputId": "47dfe95c-c2ae-42aa-f795-6586210d3198"
      },
      "execution_count": 9,
      "outputs": [
        {
          "output_type": "stream",
          "name": "stdout",
          "text": [
            "마린 유닛이 생성 되었습니다.\n",
            "체력 40,공격력 5\n",
            "마린 유닛이 생성 되었습니다.\n",
            "체력 40,공격력 5\n",
            "탱크 유닛이 생성 되었습니다.\n",
            "체력 150,공격력 35\n"
          ]
        }
      ]
    },
    {
      "cell_type": "markdown",
      "source": [
        "##멤버변수"
      ],
      "metadata": {
        "id": "ZoDniEyPKiXn"
      }
    },
    {
      "cell_type": "code",
      "source": [
        "wraith1 = Unit(\"레이스\",80,5)\n",
        "print(\"유닛 이름: {0},공격력 : {1}\".format(wraith1.name,wraith1.damage))"
      ],
      "metadata": {
        "colab": {
          "base_uri": "https://localhost:8080/"
        },
        "id": "JichKsz1Kjfr",
        "outputId": "4e8a7568-f87e-4ad5-f4e5-f7c8aee5cf26"
      },
      "execution_count": 10,
      "outputs": [
        {
          "output_type": "stream",
          "name": "stdout",
          "text": [
            "레이스 유닛이 생성 되었습니다.\n",
            "체력 80,공격력 5\n",
            "유닛 이름: 레이스,공격력 : 5\n"
          ]
        }
      ]
    },
    {
      "cell_type": "code",
      "source": [
        "wraith2 = Unit(\"빼앗은 레이스\",80,5)\n",
        "wraith2.clocking = True\n",
        "\n",
        "if wraith2.clocking == True:\n",
        "    print(\"{0}는 현재 클로킹 상태입니다.\".format(wraith2.name))"
      ],
      "metadata": {
        "colab": {
          "base_uri": "https://localhost:8080/"
        },
        "id": "Mlrl_MaTK3cT",
        "outputId": "60634352-2a7a-45be-b1c8-847aa649473a"
      },
      "execution_count": 11,
      "outputs": [
        {
          "output_type": "stream",
          "name": "stdout",
          "text": [
            "빼앗은 레이스 유닛이 생성 되었습니다.\n",
            "체력 80,공격력 5\n",
            "빼앗은 레이스는 현재 클로킹 상태입니다.\n"
          ]
        }
      ]
    },
    {
      "cell_type": "markdown",
      "source": [
        "## 메소드"
      ],
      "metadata": {
        "id": "GoR8eCz8LfFY"
      }
    },
    {
      "cell_type": "code",
      "source": [
        "class AttackUnit:\n",
        "    def __init__(self,name,hp,damage):\n",
        "        self.name = name\n",
        "        self.hp = hp\n",
        "        self.damage = damage\n",
        "    \n",
        "    def attack(self, location):\n",
        "        print('{0} :{1} 방향으로 적군을 공격합니다. [공격력 {2}]'\\\n",
        "              .format(self.name, location, self.damage))\n",
        "    def damaged(self, damage):\n",
        "        print('{0} : {1} 데미지를 입었습니다.'.format(self.name, damage))\n",
        "        self.hp -= damage\n",
        "        print(\"{0} : 현재 체력은 {1}입니다.\".format(self.name, self.hp))\n",
        "        if self.hp <= 0:\n",
        "            print(\"{0} : 파괴되었습니다.\".format(self.name)) "
      ],
      "metadata": {
        "id": "YQ6gOO52LWuS"
      },
      "execution_count": 8,
      "outputs": []
    },
    {
      "cell_type": "code",
      "source": [
        "firebat1 = AttackUnit(\"파이어뱃\",50,16)\n",
        "firebat1.attack(\"5시\")"
      ],
      "metadata": {
        "colab": {
          "base_uri": "https://localhost:8080/"
        },
        "id": "hHBjsNFXMaHP",
        "outputId": "a45f2814-6c43-44b8-a675-88ca52de8e94"
      },
      "execution_count": 12,
      "outputs": [
        {
          "output_type": "stream",
          "name": "stdout",
          "text": [
            "파이어뱃 :5시 방향으로 적군을 공격합니다. [공격력 16]\n"
          ]
        }
      ]
    },
    {
      "cell_type": "code",
      "source": [
        "firebat1.damaged(25)\n",
        "firebat1.damaged(25)"
      ],
      "metadata": {
        "colab": {
          "base_uri": "https://localhost:8080/"
        },
        "id": "I9a-Q12_MojV",
        "outputId": "adf7569b-6554-46c3-bfff-3c11a8c1e51a"
      },
      "execution_count": 13,
      "outputs": [
        {
          "output_type": "stream",
          "name": "stdout",
          "text": [
            "파이어뱃 : 25 데미지를 입었습니다.\n",
            "파이어뱃 : 현재 체력은 25입니다.\n",
            "파이어뱃 : 25 데미지를 입었습니다.\n",
            "파이어뱃 : 현재 체력은 0입니다.\n",
            "파이어뱃 : 파괴되었습니다.\n"
          ]
        }
      ]
    },
    {
      "cell_type": "markdown",
      "source": [
        "#상속"
      ],
      "metadata": {
        "id": "Y9eJ1mNpQIJE"
      }
    },
    {
      "cell_type": "code",
      "source": [
        "class Unit:\n",
        "    def __init__(self,name,hp):\n",
        "        self.name = name\n",
        "        self.hp = hp\n",
        "\n",
        "class attackUnit(Unit):\n",
        "    def __init__(self,name,hp,damage):\n",
        "        Unit.__init__(self,name,hp)   \n",
        "        self.damage = damage\n",
        "    def attack(self,location):\n",
        "        print(\"{0}:{1} 방향으로 적군을 공격 합니다. [공격력{2}]\"\\\n",
        "              .format(self.name,location,self.damage)) \n",
        "    def damaged(self,damage):\n",
        "         print(\"{0} : {1} 데미지를 입었습니다.\".format(self.name,damage)) \n",
        "         self.hp -= damage\n",
        "         print(\"{0}: 현재 체력은 {1}입니다.\".format(self.name,self.hp)) \n",
        "         if self.hp <=0:\n",
        "              print(\"{0} : 파괴되었습니다\".format(self.name))"
      ],
      "metadata": {
        "id": "RMwbh4XMM0rJ"
      },
      "execution_count": 14,
      "outputs": []
    },
    {
      "cell_type": "code",
      "source": [
        "firebat1 = attackUnit(\"파이어뱃\",50,15)\n",
        "firebat1.attack(\"5시\")"
      ],
      "metadata": {
        "colab": {
          "base_uri": "https://localhost:8080/"
        },
        "id": "ynd6fj9rxPsn",
        "outputId": "f070326d-55d8-495c-c974-773990041838"
      },
      "execution_count": 15,
      "outputs": [
        {
          "output_type": "stream",
          "name": "stdout",
          "text": [
            "파이어뱃:5시 방향으로 적군을 공격 합니다. [공격력15]\n"
          ]
        }
      ]
    },
    {
      "cell_type": "code",
      "source": [
        "firebat1.damaged(25)\n",
        "firebat1.damaged(25)"
      ],
      "metadata": {
        "colab": {
          "base_uri": "https://localhost:8080/"
        },
        "id": "h7Dzk_DxQj89",
        "outputId": "effbc7e6-5836-4353-e387-02a7db517e9c"
      },
      "execution_count": 16,
      "outputs": [
        {
          "output_type": "stream",
          "name": "stdout",
          "text": [
            "파이어뱃 : 25 데미지를 입었습니다.\n",
            "파이어뱃: 현재 체력은 25입니다.\n",
            "파이어뱃 : 25 데미지를 입었습니다.\n",
            "파이어뱃: 현재 체력은 0입니다.\n",
            "파이어뱃 : 파괴되었습니다\n"
          ]
        }
      ]
    },
    {
      "cell_type": "markdown",
      "source": [
        "#다중 상속"
      ],
      "metadata": {
        "id": "TKsqp2egODMx"
      }
    },
    {
      "cell_type": "code",
      "source": [
        "class Flyable:\n",
        "    def __init__(self,flying_speed):\n",
        "        self.flying_speed = flying_speed\n",
        "    \n",
        "    def fly(self, name, location):\n",
        "        print(\"{0} : {1} 방향으로 날아갑니다. [속도{2}]\"\\\n",
        "              .format(name, location, self.flying_speed))    "
      ],
      "metadata": {
        "id": "l3a7QOFEOAm5"
      },
      "execution_count": 17,
      "outputs": []
    },
    {
      "cell_type": "code",
      "source": [
        "class FlyableAttackUnit(attackUnit,Flyable):\n",
        "    def __init__(self,name,hp,damage,flying_speed):\n",
        "        AttackUnit.__init__(self, name, hp, damage)\n",
        "        Flyable.__init__(self, flying_speed)        "
      ],
      "metadata": {
        "id": "x1HNsFNdOqxw"
      },
      "execution_count": 18,
      "outputs": []
    },
    {
      "cell_type": "code",
      "source": [
        "valkyrie = FlyableAttackUnit('발키리',200, 6, 5)\n",
        "valkyrie.fly(valkyrie.name,\"3시\")"
      ],
      "metadata": {
        "colab": {
          "base_uri": "https://localhost:8080/"
        },
        "id": "-bpbpCMiPNXs",
        "outputId": "ecf18f17-9ad4-4fe2-eac6-98ae0a8f6081"
      },
      "execution_count": 19,
      "outputs": [
        {
          "output_type": "stream",
          "name": "stdout",
          "text": [
            "발키리 : 3시 방향으로 날아갑니다. [속도5]\n"
          ]
        }
      ]
    },
    {
      "cell_type": "markdown",
      "source": [
        "# 메소드 오버라이딩"
      ],
      "metadata": {
        "id": "OBIx_yupS7i4"
      }
    },
    {
      "cell_type": "code",
      "source": [
        "class Unit:\n",
        "    def __init__(self,name,hp,speed):\n",
        "        self.name = name\n",
        "        self.hp = hp\n",
        "        self.speed = speed\n",
        "    def move(self, location):\n",
        "        print(\"[지상 유닛 이동]\")\n",
        "        print(\"{0} : {1} 방향으로 이동합니다.[속도 {2}]\"\\\n",
        "              .format(self.name,location,self.speed))\n",
        "        \n",
        "\n",
        "class attackUnit(Unit):\n",
        "    def __init__(self,name,hp,speed,damage):\n",
        "        Unit.__init__(self,name,hp,speed)   \n",
        "        self.damage = damage\n",
        "\n",
        "    def attack(self,location):\n",
        "        print(\"{0}:{1} 방향으로 적군을 공격 합니다. [공격력{2}]\"\\\n",
        "              .format(self.name,location,self.damage)) \n",
        "    def damaged(self,damage):\n",
        "         print(\"{0} : {1} 데미지를 입었습니다.\".format(self.name,damage)) \n",
        "         self.hp -= damage\n",
        "         print(\"{0}: 현재 체력은 {1}입니다.\".format(self.name,self.hp)) \n",
        "         if self.hp <=0:\n",
        "              print(\"{0} : 파괴되었습니다\".format(self.name))\n",
        "class FlyableAttackUnit(attackUnit,Flyable):\n",
        "    def __init__(self,name,hp,damage,flying_speed):\n",
        "        AttackUnit.__init__(self, name, hp,damage)#지상 speed 0 \n",
        "        Flyable.__init__(self, flying_speed)\n",
        "    def move(self, location):\n",
        "        print(\"[공중 유닛 이동]\")\n",
        "        self.fly(self.name,location)  "
      ],
      "metadata": {
        "id": "snhlwmkbS9rD"
      },
      "execution_count": 20,
      "outputs": []
    },
    {
      "cell_type": "code",
      "source": [
        "#지상 유닛\n",
        "vulture = attackUnit(\"벌쳐\",80,10,20)\n",
        "#공중 유닛\n",
        "battlecruiser = FlyableAttackUnit(\"배틀크루저\",500,25,3)\n",
        "\n",
        "vulture.move(\"11시\")\n",
        "battlecruiser.move(\"9시\")"
      ],
      "metadata": {
        "colab": {
          "base_uri": "https://localhost:8080/"
        },
        "id": "uM2Vf6d-Tyqn",
        "outputId": "44ddb029-bb52-41dd-ab56-b4361ee6bebd"
      },
      "execution_count": 21,
      "outputs": [
        {
          "output_type": "stream",
          "name": "stdout",
          "text": [
            "[지상 유닛 이동]\n",
            "벌쳐 : 11시 방향으로 이동합니다.[속도 10]\n",
            "[공중 유닛 이동]\n",
            "배틀크루저 : 9시 방향으로 날아갑니다. [속도3]\n"
          ]
        }
      ]
    },
    {
      "cell_type": "markdown",
      "source": [
        "## pass"
      ],
      "metadata": {
        "id": "EBfsPn4xRWLi"
      }
    },
    {
      "cell_type": "code",
      "source": [
        "class BuildingUnit(Unit):\n",
        "    def __init__(self,name,hp,location):\n",
        "        pass\n",
        "supply_depot = BuildingUnit(\"서플라이 디폿\",500,\"7시\")          "
      ],
      "metadata": {
        "id": "yzu_HcNjPUsB"
      },
      "execution_count": 22,
      "outputs": []
    },
    {
      "cell_type": "code",
      "source": [
        "def game_start():\n",
        "    print(\"[알림] 새로운 게임을 시작합니다.\")\n",
        "\n",
        "def game_over():\n",
        "    pass\n",
        "\n",
        "game_start()\n",
        "game_over()\n"
      ],
      "metadata": {
        "id": "NvukXSe3Rnlw",
        "colab": {
          "base_uri": "https://localhost:8080/"
        },
        "outputId": "a623d45b-d1ac-46bd-b326-c0a223cd9ae1"
      },
      "execution_count": 114,
      "outputs": [
        {
          "output_type": "stream",
          "name": "stdout",
          "text": [
            "[알림] 새로운 게임을 시작합니다.\n"
          ]
        }
      ]
    },
    {
      "cell_type": "markdown",
      "source": [
        "##super"
      ],
      "metadata": {
        "id": "yjhlQ_fYYYLG"
      }
    },
    {
      "cell_type": "code",
      "source": [
        "class Unit:\n",
        "    def __init__(self):\n",
        "        print(\"Unit 생성자\")\n",
        "class Flyable:\n",
        "    def __init__(self):\n",
        "        print('Flyable 생성자')\n",
        "class FlyableUnit(Unit, Flyable):\n",
        "    def __init__(self):\n",
        "        super().__init__()\n",
        "dropship = FlyableUnit()                       "
      ],
      "metadata": {
        "id": "nbyOF18HR35x",
        "colab": {
          "base_uri": "https://localhost:8080/"
        },
        "outputId": "86e5650b-add3-4849-8ca7-7919181a55b0"
      },
      "execution_count": 23,
      "outputs": [
        {
          "output_type": "stream",
          "name": "stdout",
          "text": [
            "Unit 생성자\n"
          ]
        }
      ]
    },
    {
      "cell_type": "code",
      "source": [
        "class Unit:\n",
        "    def __init__(self):\n",
        "        print(\"Unit 생성자\")\n",
        "class Flyable:\n",
        "    def __init__(self):\n",
        "        print('Flyable 생성자')\n",
        "class FlyableUnit(Unit, Flyable):\n",
        "    def __init__(self):\n",
        "        #super().__init__()\n",
        "        Unit.__init__(self)\n",
        "        Flyable.__init__(self)\n",
        "dropship = FlyableUnit()"
      ],
      "metadata": {
        "colab": {
          "base_uri": "https://localhost:8080/"
        },
        "id": "G_7989d1EcWg",
        "outputId": "c966c718-9dce-4937-cbda-91aaefc18af3"
      },
      "execution_count": 24,
      "outputs": [
        {
          "output_type": "stream",
          "name": "stdout",
          "text": [
            "Unit 생성자\n",
            "Flyable 생성자\n"
          ]
        }
      ]
    },
    {
      "cell_type": "markdown",
      "source": [
        "## 스타크래프트 프로젝트"
      ],
      "metadata": {
        "id": "YQEHoyjwEqJ3"
      }
    },
    {
      "cell_type": "code",
      "source": [
        "class Unit:\n",
        "    def __init__(self, name, hp, speed):\n",
        "        self.name = name\n",
        "        self.hp = hp\n",
        "        self.spped = speed\n",
        "        print('{0} 유닛이 생성되었습니다.'.format(name))\n",
        "    def move(self, location):\n",
        "        print(\"[지상 유닛 이동]\")\n",
        "        print(\"{0} : {1} 방향으로 이동합니다. [속도 {2}]\"\\\n",
        "              .format(self.name, location, self.speed))\n",
        "#공격 유닛\n",
        "class AttackUnit(Unit):\n",
        "    def __init__(self, name, hp, speed, damage):\n",
        "        Unit.__init__(self, name, hp, speed)\n",
        "        self.damage = damage\n",
        "\n",
        "    def attack(self, location):\n",
        "        print(\"{0} : {1} 방향으로 적군을 공격 합니다.[공격력{2}]\"\\\n",
        "              .format(self.name,location,self.damage))\n",
        "    \n",
        "    def damaged(self, damage):\n",
        "        print(\"{0} : {1} 데미지를 입었습니다.\".format(self.name, damage))\n",
        "        self.hp -= damage\n",
        "        print(\"{0} : 현재 체력은 {1} 입니다.\".format(self.name, self.hp))\n",
        "        if self.hp <= 0:\n",
        "            print(\"{0}: 파괴되었습니다.\".format(self.name))\n"
      ],
      "metadata": {
        "id": "3Kbi3xr0Eo-q"
      },
      "execution_count": null,
      "outputs": []
    },
    {
      "cell_type": "markdown",
      "source": [
        "#예외처리"
      ],
      "metadata": {
        "id": "chQ6N_r9KOzl"
      }
    },
    {
      "cell_type": "code",
      "source": [
        "print(\"나누기 전용 계산기입니다.\")\n",
        "num1 = int(input(\"첫번째 숫자를 입력하세요:\"))\n",
        "num2 = int(input(\"두번째 숫자를 입력하세요:\"))\n",
        "print(\"{0} / {1} = {2}\".format(num1,num2,int(num1/num2)))"
      ],
      "metadata": {
        "id": "uayjXsqFKRiI",
        "colab": {
          "base_uri": "https://localhost:8080/"
        },
        "outputId": "fb3b9603-5467-488a-c3c7-2ca3bb1e0274"
      },
      "execution_count": 26,
      "outputs": [
        {
          "output_type": "stream",
          "name": "stdout",
          "text": [
            "나누기 전용 계산기입니다.\n",
            "첫번째 숫자를 입력하세요:6\n",
            "두번째 숫자를 입력하세요:3\n",
            "6 / 3 = 2\n"
          ]
        }
      ]
    },
    {
      "cell_type": "code",
      "source": [
        "try:\n",
        "    print(\"나누기 전용 계산기입니다.\")\n",
        "    num1 = int(input(\"첫번째 숫자를 입력하세요:\"))\n",
        "    num2 = int(input(\"두번째 숫자를 입력하세요:\"))\n",
        "    print(\"{0} / {1} = {2}\".format(num1,num2,int(num1/num2)))\n",
        "except ValueError:\n",
        "    print(\"에러! 잘못된 값을 입력하였습니다.\")    "
      ],
      "metadata": {
        "id": "sg5mwHh5Kqzg",
        "colab": {
          "base_uri": "https://localhost:8080/"
        },
        "outputId": "bc48e37d-cbe7-4450-f446-4ae17bc30e0d"
      },
      "execution_count": 27,
      "outputs": [
        {
          "output_type": "stream",
          "name": "stdout",
          "text": [
            "나누기 전용 계산기입니다.\n",
            "첫번째 숫자를 입력하세요:6\n",
            "두번째 숫자를 입력하세요:삼\n",
            "에러! 잘못된 값을 입력하였습니다.\n"
          ]
        }
      ]
    },
    {
      "cell_type": "code",
      "source": [
        "try:\n",
        "    print(\"나누기 전용 계산기입니다.\")\n",
        "    num1 = int(input(\"첫번째 숫자를 입력하세요:\"))\n",
        "    num2 = int(input(\"두번째 숫자를 입력하세요:\"))\n",
        "    print(\"{0} / {1} = {2}\".format(num1,num2,int(num1/num2)))\n",
        "except ValueError:\n",
        "    print(\"에러! 잘못된 값을 입력하였습니다.\")\n",
        "except ZeroDivisionError as err:\n",
        "    print(err)\n",
        "    #print('0은 안돼')\n"
      ],
      "metadata": {
        "id": "yQY4Djn2LKUf",
        "colab": {
          "base_uri": "https://localhost:8080/"
        },
        "outputId": "466e4866-5901-469b-f2d4-3384494341c4"
      },
      "execution_count": 29,
      "outputs": [
        {
          "output_type": "stream",
          "name": "stdout",
          "text": [
            "나누기 전용 계산기입니다.\n",
            "첫번째 숫자를 입력하세요:6\n",
            "두번째 숫자를 입력하세요:0\n",
            "division by zero\n"
          ]
        }
      ]
    },
    {
      "cell_type": "code",
      "source": [
        "try:\n",
        "    print(\"나누기 전용 계산기입니다.\")\n",
        "    nums = []\n",
        "    nums.append(int(input(\"첫번째 숫자를 입력하세요:\")))\n",
        "    nums.append(int(input(\"두번째 숫자를 입력하세요:\")))\n",
        "    # nums.append(int(num[0]/num[1]))\n",
        "    print(\"{0} / {1} = {2}\".format(nums[0], nums[1], nums[2]))\n",
        "except ValueError:\n",
        "    print(\"에러! 잘못된 값을 입력하였습니다.\")\n",
        "except ZeroDivisionError as err:\n",
        "    print('0은 안돼')\n",
        "except Exception as err:\n",
        "    print(\"알 수 없는 에러가 발생하였습니다.\")    "
      ],
      "metadata": {
        "id": "KL2ZhbkgLb_e",
        "colab": {
          "base_uri": "https://localhost:8080/"
        },
        "outputId": "830a408d-65b2-487d-afe5-556b98d1be5e"
      },
      "execution_count": 30,
      "outputs": [
        {
          "output_type": "stream",
          "name": "stdout",
          "text": [
            "나누기 전용 계산기입니다.\n",
            "첫번째 숫자를 입력하세요:6\n",
            "두번째 숫자를 입력하세요:h\n",
            "에러! 잘못된 값을 입력하였습니다.\n"
          ]
        }
      ]
    },
    {
      "cell_type": "markdown",
      "source": [
        "##에러 발생시키기"
      ],
      "metadata": {
        "id": "lfPyo9y6Mcwt"
      }
    },
    {
      "cell_type": "code",
      "source": [
        "try:\n",
        "    print(\"한 자리 숫자 나누기 전용 계산기입니다.\")\n",
        "    num1 = int(input(\"첫번째 숫자를 입력:\"))\n",
        "    num2 = int(input(\"두번째 숫자를 입력:\"))\n",
        "    if num1 >= 10 or num2 >=10:\n",
        "         raise ValueError\n",
        "    print(\"{0} / {1} = {2}\".format(num1,num2,int(num1 / num2)))\n",
        "except ValueError:\n",
        "    print(\"잘못된 값을 입력하였습니다. 한 자리 숫자만 입력하세요:\")         "
      ],
      "metadata": {
        "id": "m18QSzzUMBzX",
        "colab": {
          "base_uri": "https://localhost:8080/",
          "height": 299
        },
        "outputId": "dcb8a346-0abd-4c95-ef5c-5e16a9a071ff"
      },
      "execution_count": 32,
      "outputs": [
        {
          "name": "stdout",
          "output_type": "stream",
          "text": [
            "한 자리 숫자 나누기 전용 계산기입니다.\n",
            "첫번째 숫자를 입력:6\n",
            "두번째 숫자를 입력:0\n"
          ]
        },
        {
          "output_type": "error",
          "ename": "ZeroDivisionError",
          "evalue": "ignored",
          "traceback": [
            "\u001b[0;31m---------------------------------------------------------------------------\u001b[0m",
            "\u001b[0;31mZeroDivisionError\u001b[0m                         Traceback (most recent call last)",
            "\u001b[0;32m<ipython-input-32-bb6699662300>\u001b[0m in \u001b[0;36m<module>\u001b[0;34m()\u001b[0m\n\u001b[1;32m      5\u001b[0m     \u001b[0;32mif\u001b[0m \u001b[0mnum1\u001b[0m \u001b[0;34m>=\u001b[0m \u001b[0;36m10\u001b[0m \u001b[0;32mor\u001b[0m \u001b[0mnum2\u001b[0m \u001b[0;34m>=\u001b[0m\u001b[0;36m10\u001b[0m\u001b[0;34m:\u001b[0m\u001b[0;34m\u001b[0m\u001b[0;34m\u001b[0m\u001b[0m\n\u001b[1;32m      6\u001b[0m          \u001b[0;32mraise\u001b[0m \u001b[0mValueError\u001b[0m\u001b[0;34m\u001b[0m\u001b[0;34m\u001b[0m\u001b[0m\n\u001b[0;32m----> 7\u001b[0;31m     \u001b[0mprint\u001b[0m\u001b[0;34m(\u001b[0m\u001b[0;34m\"{0} / {1} = {2}\"\u001b[0m\u001b[0;34m.\u001b[0m\u001b[0mformat\u001b[0m\u001b[0;34m(\u001b[0m\u001b[0mnum1\u001b[0m\u001b[0;34m,\u001b[0m\u001b[0mnum2\u001b[0m\u001b[0;34m,\u001b[0m\u001b[0mint\u001b[0m\u001b[0;34m(\u001b[0m\u001b[0mnum1\u001b[0m \u001b[0;34m/\u001b[0m \u001b[0mnum2\u001b[0m\u001b[0;34m)\u001b[0m\u001b[0;34m)\u001b[0m\u001b[0;34m)\u001b[0m\u001b[0;34m\u001b[0m\u001b[0;34m\u001b[0m\u001b[0m\n\u001b[0m\u001b[1;32m      8\u001b[0m \u001b[0;32mexcept\u001b[0m \u001b[0mValueError\u001b[0m\u001b[0;34m:\u001b[0m\u001b[0;34m\u001b[0m\u001b[0;34m\u001b[0m\u001b[0m\n\u001b[1;32m      9\u001b[0m     \u001b[0mprint\u001b[0m\u001b[0;34m(\u001b[0m\u001b[0;34m\"잘못된 값을 입력하였습니다. 한 자리 숫자만 입력하세요:\"\u001b[0m\u001b[0;34m)\u001b[0m\u001b[0;34m\u001b[0m\u001b[0;34m\u001b[0m\u001b[0m\n",
            "\u001b[0;31mZeroDivisionError\u001b[0m: division by zero"
          ]
        }
      ]
    },
    {
      "cell_type": "markdown",
      "source": [
        "## 사용자 정의 예외처리"
      ],
      "metadata": {
        "id": "xKyLlDAyNWlE"
      }
    },
    {
      "cell_type": "code",
      "source": [
        "class BigNumberError(Exception):\n",
        "    pass\n",
        "try:\n",
        "    print(\"한 자리 숫자 나누기 전용 계산기입니다.\")\n",
        "    num1 = int(input(\"첫번째 숫자를 입력:\"))\n",
        "    num2 = int(input(\"두번째 숫자를 입력:\"))\n",
        "    if num1 >= 10 or num2 >=10:\n",
        "         raise ValueError\n",
        "    print(\"{0} / {1} = {2}\".format(num1,num2,int(num1 / num2)))\n",
        "except ValueError:\n",
        "    print(\"잘못된 값을 입력하였습니다. 한 자리 숫자만 입력하세요:\")\n",
        "except BigNumberError:\n",
        "    print(\"에러가 발생하였습니다. 한자리 숫자만 입력하세요.\")      "
      ],
      "metadata": {
        "id": "r_Dbb0zeNQXH",
        "colab": {
          "base_uri": "https://localhost:8080/"
        },
        "outputId": "56a87106-f0f6-48d2-b35a-2d5f5145b626"
      },
      "execution_count": 33,
      "outputs": [
        {
          "output_type": "stream",
          "name": "stdout",
          "text": [
            "한 자리 숫자 나누기 전용 계산기입니다.\n",
            "첫번째 숫자를 입력:5\n",
            "두번째 숫자를 입력:10\n",
            "잘못된 값을 입력하였습니다. 한 자리 숫자만 입력하세요:\n"
          ]
        }
      ]
    },
    {
      "cell_type": "code",
      "source": [
        "class BigNumberError(Exception):\n",
        "    def __init__(self,msg):\n",
        "        self.msg = msg\n",
        "\n",
        "    def __str__(self):\n",
        "        return self.msg\n",
        "\n",
        "try:\n",
        "    print(\"한 자리 숫자 나누기 전용 계산기입니다.\")\n",
        "    num1 = int(input(\"첫번째 숫자를 입력:\"))\n",
        "    num2 = int(input(\"두번째 숫자를 입력:\"))\n",
        "    if num1 >= 10 or num2 >=10:\n",
        "         raise BigNumberError(\"입력값 :{0},{1} \".format(num1,num2))\n",
        "    print(\"{0} / {1} = {2}\".format(num1,num2,int(num1 / num2)))\n",
        "except ValueError:\n",
        "    print(\"잘못된 값을 입력하였습니다. 한 자리 숫자만 입력하세요:\")\n",
        "except BigNumberError as err:\n",
        "    print(\"에러가 발생하였습니다. 한자리 숫자만 입력하세요.\")\n",
        "    print(err)"
      ],
      "metadata": {
        "id": "hV0KmLniNsNw",
        "colab": {
          "base_uri": "https://localhost:8080/"
        },
        "outputId": "10f5f5f4-1a1f-442b-c77f-7466430ad070"
      },
      "execution_count": 122,
      "outputs": [
        {
          "output_type": "stream",
          "name": "stdout",
          "text": [
            "한 자리 숫자 나누기 전용 계산기입니다.\n",
            "첫번째 숫자를 입력:5\n",
            "두번째 숫자를 입력:\n",
            "잘못된 값을 입력하였습니다. 한 자리 숫자만 입력하세요:\n"
          ]
        }
      ]
    },
    {
      "cell_type": "markdown",
      "source": [
        "##finally"
      ],
      "metadata": {
        "id": "9TGQmcgdOXXk"
      }
    },
    {
      "cell_type": "code",
      "source": [
        "class BigNumberError(Exception):\n",
        "    def __init__(self,msg):\n",
        "        self.msg = msg\n",
        "\n",
        "    def __str__(self):\n",
        "        return self.msg\n",
        "\n",
        "try:\n",
        "    print(\"한 자리 숫자 나누기 전용 계산기입니다.\")\n",
        "    num1 = int(input(\"첫번째 숫자를 입력:\"))\n",
        "    num2 = int(input(\"두번째 숫자를 입력:\"))\n",
        "    if num1 >= 10 or num2 >=10:\n",
        "         raise BigNumberError(\"입력값 :{0},{1} \".format(num1,num2))\n",
        "    print(\"{0} / {1} = {2}\".format(num1,num2,int(num1 / num2)))\n",
        "except ValueError:\n",
        "    print(\"잘못된 값을 입력하였습니다. 한 자리 숫자만 입력하세요:\")\n",
        "except BigNumberError as err:\n",
        "    print(\"에러가 발생하였습니다. 한자리 숫자만 입력하세요.\")\n",
        "    print(err)\n",
        "finally:\n",
        "    print(\"계산기를 이용해 주셔서 감사합니다.\")   "
      ],
      "metadata": {
        "id": "Az5ty6reOMzz",
        "colab": {
          "base_uri": "https://localhost:8080/"
        },
        "outputId": "c5cc09d8-f1ad-41fd-e970-b81df7437b09"
      },
      "execution_count": 34,
      "outputs": [
        {
          "output_type": "stream",
          "name": "stdout",
          "text": [
            "한 자리 숫자 나누기 전용 계산기입니다.\n",
            "첫번째 숫자를 입력:10\n",
            "두번째 숫자를 입력:5\n",
            "에러가 발생하였습니다. 한자리 숫자만 입력하세요.\n",
            "입력값 :10,5 \n",
            "계산기를 이용해 주셔서 감사합니다.\n"
          ]
        }
      ]
    },
    {
      "cell_type": "markdown",
      "source": [
        "#퀴즈"
      ],
      "metadata": {
        "id": "YGYI-k8pOpzs"
      }
    },
    {
      "cell_type": "markdown",
      "source": [
        "![image.png](data:image/png;base64,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)"
      ],
      "metadata": {
        "id": "qGxvWBGUOr2O"
      }
    },
    {
      "cell_type": "code",
      "source": [
        "class SoldOutError(Exception):\n",
        "    pass\n",
        "\n",
        "chicken = 10\n",
        "waiting = 1\n",
        "while(True):\n",
        "    try:\n",
        "        print(\"[남은 치킨 : {0}]\".format(chicken))\n",
        "        order = int(input(\"치킨 몇마리 주문할거:\"))\n",
        "        if order > chicken:\n",
        "            print(\"재료가 부족합니다.\")\n",
        "        elif order <=0:\n",
        "            raise ValueError\n",
        "        else:\n",
        "            print(\"[대기번호 {0}] {1} 마리 주문이 완료.\"\\\n",
        "                  .format(waiting,order))\n",
        "            waiting += 1\n",
        "            chicken -= order\n",
        "        if  chicken == 0:\n",
        "            raise SoldOutError      \n",
        "    except ValueError:\n",
        "        print(\"잘못된 값을 입력하였습니다\")\n",
        "    except SoldOutError:\n",
        "        print(\"재고가 소진되어 더 이상 주문을 받지 않습니다\")\n",
        "        break   "
      ],
      "metadata": {
        "id": "Sk6FzLZgOeLf",
        "colab": {
          "base_uri": "https://localhost:8080/"
        },
        "outputId": "f43f55d5-2f94-4885-e2e2-94b086223b90"
      },
      "execution_count": 35,
      "outputs": [
        {
          "output_type": "stream",
          "name": "stdout",
          "text": [
            "[남은 치킨 : 10]\n",
            "치킨 몇마리 주문할거:3\n",
            "[대기번호 1] 3 마리 주문이 완료.\n",
            "[남은 치킨 : 7]\n",
            "치킨 몇마리 주문할거:8\n",
            "재료가 부족합니다.\n",
            "[남은 치킨 : 7]\n",
            "치킨 몇마리 주문할거:1\n",
            "[대기번호 2] 1 마리 주문이 완료.\n",
            "[남은 치킨 : 6]\n",
            "치킨 몇마리 주문할거:6\n",
            "[대기번호 3] 6 마리 주문이 완료.\n",
            "재고가 소진되어 더 이상 주문을 받지 않습니다\n"
          ]
        }
      ]
    },
    {
      "cell_type": "code",
      "source": [
        ""
      ],
      "metadata": {
        "id": "y9WsC049Slh8"
      },
      "execution_count": 124,
      "outputs": []
    }
  ]
}