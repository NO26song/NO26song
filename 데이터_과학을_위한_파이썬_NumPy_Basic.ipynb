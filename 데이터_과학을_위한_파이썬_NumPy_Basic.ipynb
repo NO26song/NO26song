{
  "nbformat": 4,
  "nbformat_minor": 0,
  "metadata": {
    "colab": {
      "name": "데이터 과학을 위한 파이썬 NumPy Basic",
      "provenance": [],
      "collapsed_sections": [],
      "authorship_tag": "ABX9TyNVoNfYGCtFnQwhGPT1q5c/",
      "include_colab_link": true
    },
    "kernelspec": {
      "name": "python3",
      "display_name": "Python 3"
    },
    "language_info": {
      "name": "python"
    }
  },
  "cells": [
    {
      "cell_type": "markdown",
      "metadata": {
        "id": "view-in-github",
        "colab_type": "text"
      },
      "source": [
        "<a href=\"https://colab.research.google.com/github/NO26song/NO26song/blob/main/%EB%8D%B0%EC%9D%B4%ED%84%B0_%EA%B3%BC%ED%95%99%EC%9D%84_%EC%9C%84%ED%95%9C_%ED%8C%8C%EC%9D%B4%EC%8D%AC_NumPy_Basic.ipynb\" target=\"_parent\"><img src=\"https://colab.research.google.com/assets/colab-badge.svg\" alt=\"Open In Colab\"/></a>"
      ]
    },
    {
      "cell_type": "code",
      "execution_count": 1,
      "metadata": {
        "id": "nZAaDN47s_2n"
      },
      "outputs": [],
      "source": [
        "import numpy as np\n",
        "import pandas as pd\n",
        "import matplotlib.pyplot as plt\n",
        "import seaborn as sns"
      ]
    },
    {
      "cell_type": "markdown",
      "source": [
        "# N차원 배열 생성"
      ],
      "metadata": {
        "id": "yyfSwzmytuag"
      }
    },
    {
      "cell_type": "code",
      "source": [
        "#1차원 배열\n",
        "arr = np.array([1,2,3])\n",
        "print(arr)\n",
        "\n",
        "# 2차원 배열\n",
        "arr1 = np.array([[1,2,3],[4,5,6]])\n",
        "print(arr1)"
      ],
      "metadata": {
        "colab": {
          "base_uri": "https://localhost:8080/"
        },
        "id": "BGYwk10NtOKO",
        "outputId": "4ab4dc0f-cc9f-4147-88af-35179d6d07ce"
      },
      "execution_count": null,
      "outputs": [
        {
          "output_type": "stream",
          "name": "stdout",
          "text": [
            "[1 2 3]\n",
            "[[1 2 3]\n",
            " [4 5 6]]\n"
          ]
        }
      ]
    },
    {
      "cell_type": "code",
      "source": [
        "type(arr)"
      ],
      "metadata": {
        "colab": {
          "base_uri": "https://localhost:8080/"
        },
        "id": "PQhlGsk6t7Il",
        "outputId": "85380003-d158-4736-8d45-6f129f3911ea"
      },
      "execution_count": null,
      "outputs": [
        {
          "output_type": "execute_result",
          "data": {
            "text/plain": [
              "numpy.ndarray"
            ]
          },
          "metadata": {},
          "execution_count": 4
        }
      ]
    },
    {
      "cell_type": "code",
      "source": [
        "tpl = (4,5,6)\n",
        "arr = np.array(tpl)\n",
        "print(arr)\n",
        "\n",
        "lst = [1,2,3]\n",
        "arr1 = np.array(lst)\n",
        "print(arr1)\n",
        "\n",
        "lst2 = [[1,2,3],[4,5,6]]\n",
        "arr2 = np.array(lst2)\n",
        "print(arr2)"
      ],
      "metadata": {
        "colab": {
          "base_uri": "https://localhost:8080/"
        },
        "id": "q1Kt0x9bt-eW",
        "outputId": "c6fbbea4-bab7-4d0b-a861-545189703f3b"
      },
      "execution_count": null,
      "outputs": [
        {
          "output_type": "stream",
          "name": "stdout",
          "text": [
            "[4 5 6]\n",
            "[1 2 3]\n",
            "[[1 2 3]\n",
            " [4 5 6]]\n"
          ]
        }
      ]
    },
    {
      "cell_type": "code",
      "source": [
        "#shape\n",
        "arr1 = np.array([1,2,3])\n",
        "arr2 = np.array([[1,2,3],[4,5,6]])\n",
        "\n",
        "print(arr1.shape,arr2.shape)\n",
        "\n",
        "#ndim\n",
        "print(arr1.ndim,arr2.ndim)\n",
        "\n",
        "#size\n",
        "print(arr1.size,arr2.size)"
      ],
      "metadata": {
        "colab": {
          "base_uri": "https://localhost:8080/"
        },
        "id": "TmuX8w0muP8q",
        "outputId": "40a0033f-1e90-40ba-fb50-4debf618df96"
      },
      "execution_count": null,
      "outputs": [
        {
          "output_type": "stream",
          "name": "stdout",
          "text": [
            "(3,) (2, 3)\n",
            "1 2\n",
            "3 6\n"
          ]
        }
      ]
    },
    {
      "cell_type": "markdown",
      "source": [
        "##1-2 N차원 배열의 데이터 타입"
      ],
      "metadata": {
        "id": "5uIi9c-quufv"
      }
    },
    {
      "cell_type": "code",
      "source": [
        "arr = np.array([1,2,3],dtype=np.float)\n",
        "print(arr,arr.dtype)"
      ],
      "metadata": {
        "colab": {
          "base_uri": "https://localhost:8080/"
        },
        "id": "-lVnysEHuhH6",
        "outputId": "0bd83cf1-2092-45a7-8eea-2ff57d60fb0d"
      },
      "execution_count": null,
      "outputs": [
        {
          "output_type": "stream",
          "name": "stdout",
          "text": [
            "[1. 2. 3.] float64\n"
          ]
        },
        {
          "output_type": "stream",
          "name": "stderr",
          "text": [
            "/usr/local/lib/python3.7/dist-packages/ipykernel_launcher.py:1: DeprecationWarning: `np.float` is a deprecated alias for the builtin `float`. To silence this warning, use `float` by itself. Doing this will not modify any behavior and is safe. If you specifically wanted the numpy scalar type, use `np.float64` here.\n",
            "Deprecated in NumPy 1.20; for more details and guidance: https://numpy.org/devdocs/release/1.20.0-notes.html#deprecations\n",
            "  \"\"\"Entry point for launching an IPython kernel.\n"
          ]
        }
      ]
    },
    {
      "cell_type": "code",
      "source": [
        "arr = np.array([1.1,1.2,1.3],dtype=np.int)\n",
        "print(arr,arr.dtype)"
      ],
      "metadata": {
        "colab": {
          "base_uri": "https://localhost:8080/"
        },
        "id": "2N4-5Qpdu4hc",
        "outputId": "50d54494-4c8a-4498-e6be-5034a22a1939"
      },
      "execution_count": null,
      "outputs": [
        {
          "output_type": "stream",
          "name": "stdout",
          "text": [
            "[1 1 1] int64\n"
          ]
        },
        {
          "output_type": "stream",
          "name": "stderr",
          "text": [
            "/usr/local/lib/python3.7/dist-packages/ipykernel_launcher.py:1: DeprecationWarning: `np.int` is a deprecated alias for the builtin `int`. To silence this warning, use `int` by itself. Doing this will not modify any behavior and is safe. When replacing `np.int`, you may wish to use e.g. `np.int64` or `np.int32` to specify the precision. If you wish to review your current use, check the release note link for additional information.\n",
            "Deprecated in NumPy 1.20; for more details and guidance: https://numpy.org/devdocs/release/1.20.0-notes.html#deprecations\n",
            "  \"\"\"Entry point for launching an IPython kernel.\n"
          ]
        }
      ]
    },
    {
      "cell_type": "code",
      "source": [
        "#데이터 타입이 혼재하는 경우\n",
        "arr = np.array([1,2,3.4,\"64\"],dtype=int)\n",
        "print(arr,arr.dtype)\n",
        "#arr = np.array([1,2,3.4,\"64\",문자열],dtype=int) error 뜸\n",
        "#print(arr,arr.dtype)"
      ],
      "metadata": {
        "colab": {
          "base_uri": "https://localhost:8080/"
        },
        "id": "kujnQMD2vDLL",
        "outputId": "7f4dc0a6-4c0c-4414-f041-2e52a859ae1f"
      },
      "execution_count": null,
      "outputs": [
        {
          "output_type": "stream",
          "name": "stdout",
          "text": [
            "[ 1  2  3 64] int64\n"
          ]
        }
      ]
    },
    {
      "cell_type": "markdown",
      "source": [
        "## 1-3 정해진 형식의 N차원 배열 생성하기"
      ],
      "metadata": {
        "id": "SGHnBPZRvbtC"
      }
    },
    {
      "cell_type": "code",
      "source": [
        "#np.zeros\n",
        "arr = np.zeros([2,2])\n",
        "print(arr)\n",
        "\n",
        "#np.ones\n",
        "arr1 = np.ones([3,5])\n",
        "print(arr1)\n",
        "\n",
        "#np.full()\n",
        "arr2 = np.full((2,3),5)\n",
        "print(arr2)\n",
        "\n",
        "#np.eye()\n",
        "arr3 = np.eye(3,4,k=0) #1시작지점\n",
        "print(arr3)"
      ],
      "metadata": {
        "colab": {
          "base_uri": "https://localhost:8080/"
        },
        "id": "IpoXVxkIva0F",
        "outputId": "14618d4f-efb8-4132-8702-48bb50e45aca"
      },
      "execution_count": null,
      "outputs": [
        {
          "output_type": "stream",
          "name": "stdout",
          "text": [
            "[[0. 0.]\n",
            " [0. 0.]]\n",
            "[[1. 1. 1. 1. 1.]\n",
            " [1. 1. 1. 1. 1.]\n",
            " [1. 1. 1. 1. 1.]]\n",
            "[[5 5 5]\n",
            " [5 5 5]]\n",
            "[[1. 0. 0. 0.]\n",
            " [0. 1. 0. 0.]\n",
            " [0. 0. 1. 0.]]\n"
          ]
        }
      ]
    },
    {
      "cell_type": "code",
      "source": [
        "arr = np.array([[1,2,3],[4,5,6]])\n",
        "\n",
        "#np.zeros_like()\n",
        "arr_z = np.zeros_like(arr)\n",
        "print(arr_z)\n",
        "\n",
        "#np.ones_like()\n",
        "arr_0 = np.ones_like(arr)\n",
        "print(arr_0)\n",
        "\n",
        "#np.full_like()\n",
        "arr_f = np.full_like(arr,9)\n",
        "print(arr_f)"
      ],
      "metadata": {
        "colab": {
          "base_uri": "https://localhost:8080/"
        },
        "id": "IVF9fqs1vvn0",
        "outputId": "7bff0be8-82f0-4ebd-dece-016f8803dc2b"
      },
      "execution_count": null,
      "outputs": [
        {
          "output_type": "stream",
          "name": "stdout",
          "text": [
            "[[0 0 0]\n",
            " [0 0 0]]\n",
            "[[1 1 1]\n",
            " [1 1 1]]\n",
            "[[9 9 9]\n",
            " [9 9 9]]\n"
          ]
        }
      ]
    },
    {
      "cell_type": "markdown",
      "source": [
        "## 1-4 특정 범위의 값을 가지는 N차원 배열 생성하기"
      ],
      "metadata": {
        "id": "lD2EonuVwb_b"
      }
    },
    {
      "cell_type": "code",
      "source": [
        "lst = list(range(0,9,2))\n",
        "lst"
      ],
      "metadata": {
        "colab": {
          "base_uri": "https://localhost:8080/"
        },
        "id": "VerbpHfTwLOr",
        "outputId": "c9192153-5fd8-4f46-f37c-aefb65182ef7"
      },
      "execution_count": null,
      "outputs": [
        {
          "output_type": "execute_result",
          "data": {
            "text/plain": [
              "[0, 2, 4, 6, 8]"
            ]
          },
          "metadata": {},
          "execution_count": 27
        }
      ]
    },
    {
      "cell_type": "code",
      "source": [
        "arr = np.arange(9)\n",
        "print(arr)\n",
        "arr = np.arange(3,12)\n",
        "print(arr)\n",
        "arr = np.arange(3,13,3)\n",
        "print(arr)"
      ],
      "metadata": {
        "colab": {
          "base_uri": "https://localhost:8080/"
        },
        "id": "yDwchA3Twjfr",
        "outputId": "d9c12956-e8eb-4450-f434-4cebe8e9d3e9"
      },
      "execution_count": null,
      "outputs": [
        {
          "output_type": "stream",
          "name": "stdout",
          "text": [
            "[0 1 2 3 4 5 6 7 8]\n",
            "[ 3  4  5  6  7  8  9 10 11]\n",
            "[ 3  6  9 12]\n"
          ]
        }
      ]
    },
    {
      "cell_type": "code",
      "source": [
        "#np.linspace()\n",
        "arr = np.linspace(0,100,11)\n",
        "print(arr)"
      ],
      "metadata": {
        "colab": {
          "base_uri": "https://localhost:8080/"
        },
        "id": "zWNX1gb0wrbO",
        "outputId": "11d34fd4-c7c5-4d69-c1e5-b76729a915ba"
      },
      "execution_count": null,
      "outputs": [
        {
          "output_type": "stream",
          "name": "stdout",
          "text": [
            "[  0.  10.  20.  30.  40.  50.  60.  70.  80.  90. 100.]\n"
          ]
        }
      ]
    },
    {
      "cell_type": "code",
      "source": [
        "#np.logspace()\n",
        "\n",
        "arr = np.linspace(1,10,10)\n",
        "print(arr, end='\\n\\n')\n",
        "\n",
        "arr = np.logspace(1,10,10,base=2)\n",
        "print(arr)\n",
        "\n",
        "arr = np.logspace(1,10,10)\n",
        "print(arr)"
      ],
      "metadata": {
        "colab": {
          "base_uri": "https://localhost:8080/"
        },
        "id": "48wBKMU_xAjX",
        "outputId": "7240d4f4-82f4-4624-f150-519b4c378221"
      },
      "execution_count": null,
      "outputs": [
        {
          "output_type": "stream",
          "name": "stdout",
          "text": [
            "[ 1.  2.  3.  4.  5.  6.  7.  8.  9. 10.]\n",
            "\n",
            "[   2.    4.    8.   16.   32.   64.  128.  256.  512. 1024.]\n",
            "[1.e+01 1.e+02 1.e+03 1.e+04 1.e+05 1.e+06 1.e+07 1.e+08 1.e+09 1.e+10]\n"
          ]
        }
      ]
    },
    {
      "cell_type": "markdown",
      "source": [
        "## 1-5 난수로 N차원 배열 생성하기"
      ],
      "metadata": {
        "id": "coKzO2W5xTdQ"
      }
    },
    {
      "cell_type": "code",
      "source": [
        "#np.random.normal() 정규분포\n",
        "# arr = np.random.normal(loc,scale,size)\n",
        "arr = np.random.normal(0,1,(2,3))\n",
        "print(arr)"
      ],
      "metadata": {
        "colab": {
          "base_uri": "https://localhost:8080/"
        },
        "id": "ujS3_F1vxPrJ",
        "outputId": "f5111a34-5658-4fc3-8379-0f69e425edb1"
      },
      "execution_count": null,
      "outputs": [
        {
          "output_type": "stream",
          "name": "stdout",
          "text": [
            "[[ 1.20682338  0.30723587 -1.37724397]\n",
            " [ 1.19145651 -0.20027806 -1.33457464]]\n"
          ]
        }
      ]
    },
    {
      "cell_type": "code",
      "source": [
        "arr = np.random.normal(0,1,1000)\n",
        "plt.hist(arr,bins=100)\n",
        "plt.show()"
      ],
      "metadata": {
        "colab": {
          "base_uri": "https://localhost:8080/",
          "height": 265
        },
        "id": "pg7KDuuuxkBR",
        "outputId": "f5be6268-1e3e-4669-e1f8-29561374eb69"
      },
      "execution_count": null,
      "outputs": [
        {
          "output_type": "display_data",
          "data": {
            "text/plain": [
              "<Figure size 432x288 with 1 Axes>"
            ],
            "image/png": "[encoded data removed]"
          },
          "metadata": {
            "needs_background": "light"
          }
        }
      ]
    },
    {
      "cell_type": "code",
      "source": [
        "#np.random.rand() 0~1 사이의 값을 균등한 비율로 표본 추출\n",
        "arr = np.random.rand(1000)\n",
        "plt.hist(arr,bins=100)\n",
        "plt.show()"
      ],
      "metadata": {
        "colab": {
          "base_uri": "https://localhost:8080/",
          "height": 265
        },
        "id": "6z3TthpTxtrh",
        "outputId": "96be39d3-1f7b-485f-fdcb-b67e64144075"
      },
      "execution_count": null,
      "outputs": [
        {
          "output_type": "display_data",
          "data": {
            "text/plain": [
              "<Figure size 432x288 with 1 Axes>"
            ],
            "image/png": "[encoded data removed]"
          },
          "metadata": {
            "needs_background": "light"
          }
        }
      ]
    },
    {
      "cell_type": "code",
      "source": [
        "#np.random.randn() -1~1 사이의 값을 정규분포(가우시안)로 추출\n",
        "arr = np.random.randn(1000)\n",
        "plt.hist(arr,bins=100)\n",
        "plt.show()"
      ],
      "metadata": {
        "colab": {
          "base_uri": "https://localhost:8080/",
          "height": 265
        },
        "id": "KL8Em4g6xxhs",
        "outputId": "efe94137-438f-4d1b-dc45-d92c68fd50b3"
      },
      "execution_count": null,
      "outputs": [
        {
          "output_type": "display_data",
          "data": {
            "text/plain": [
              "<Figure size 432x288 with 1 Axes>"
            ],
            "image/png": "[encoded data removed]"
          },
          "metadata": {
            "needs_background": "light"
          }
        }
      ]
    },
    {
      "cell_type": "code",
      "source": [
        "#np.random.randint() 랜덤한 정수만 추출\n",
        "arr = np.random.randint(low=1,high=5,size=10)\n",
        "print(arr)"
      ],
      "metadata": {
        "colab": {
          "base_uri": "https://localhost:8080/"
        },
        "id": "z1kCzdtOyFab",
        "outputId": "4fb19014-bfdf-4f6f-bc2d-5494d8580eba"
      },
      "execution_count": null,
      "outputs": [
        {
          "output_type": "stream",
          "name": "stdout",
          "text": [
            "[1 2 1 4 3 1 4 4 2 2]\n"
          ]
        }
      ]
    },
    {
      "cell_type": "code",
      "source": [
        "arr = np.random.randint(100,200,1000)\n",
        "plt.hist(arr,100)\n",
        "plt.show()"
      ],
      "metadata": {
        "colab": {
          "base_uri": "https://localhost:8080/",
          "height": 265
        },
        "id": "oTpQXFlWyPuE",
        "outputId": "f5df7792-f976-4d11-e318-6f62725a5215"
      },
      "execution_count": null,
      "outputs": [
        {
          "output_type": "display_data",
          "data": {
            "text/plain": [
              "<Figure size 432x288 with 1 Axes>"
            ],
            "image/png": "[encoded data removed]"
          },
          "metadata": {
            "needs_background": "light"
          }
        }
      ]
    },
    {
      "cell_type": "markdown",
      "source": [
        "##1-6 시드(seed)값을 통한 난수 생성 제어"
      ],
      "metadata": {
        "id": "aUXnGSH7ygA9"
      }
    },
    {
      "cell_type": "code",
      "source": [
        "arr = np.random.rand(10)\n",
        "print('난수 발생 1\\n',arr)\n",
        "\n",
        "arr = np.random.rand(10)\n",
        "print('난수 발생2\\n',arr)"
      ],
      "metadata": {
        "colab": {
          "base_uri": "https://localhost:8080/"
        },
        "id": "eyrWuSE_yj9z",
        "outputId": "49af339f-67a5-4e39-b5a8-2a3d6e3e1ca7"
      },
      "execution_count": null,
      "outputs": [
        {
          "output_type": "stream",
          "name": "stdout",
          "text": [
            "난수 발생 1\n",
            " [0.83145257 0.10772231 0.45115043 0.52558643 0.83573096 0.90599052\n",
            " 0.01484362 0.79921038 0.13966765 0.83476445]\n",
            "난수 발생2\n",
            " [0.46059321 0.46889443 0.86914481 0.13944379 0.76247388 0.07575355\n",
            " 0.89050886 0.90281958 0.94343827 0.42019981]\n"
          ]
        }
      ]
    },
    {
      "cell_type": "code",
      "source": [
        "np.random.seed(1)\n",
        "arr = np.random.rand(10)\n",
        "print('난수 발생 1\\n',arr)\n",
        "\n",
        "np.random.seed(1)\n",
        "arr = np.random.rand(10)\n",
        "print('난수 발생 2\\n',arr)"
      ],
      "metadata": {
        "colab": {
          "base_uri": "https://localhost:8080/"
        },
        "id": "wGgI7X-7yvj6",
        "outputId": "bf0523e6-8c94-4ecd-f251-9b8988902e8a"
      },
      "execution_count": null,
      "outputs": [
        {
          "output_type": "stream",
          "name": "stdout",
          "text": [
            "난수 발생 1\n",
            " [4.17022005e-01 7.20324493e-01 1.14374817e-04 3.02332573e-01\n",
            " 1.46755891e-01 9.23385948e-02 1.86260211e-01 3.45560727e-01\n",
            " 3.96767474e-01 5.38816734e-01]\n",
            "난수 발생 2\n",
            " [4.17022005e-01 7.20324493e-01 1.14374817e-04 3.02332573e-01\n",
            " 1.46755891e-01 9.23385948e-02 1.86260211e-01 3.45560727e-01\n",
            " 3.96767474e-01 5.38816734e-01]\n"
          ]
        }
      ]
    },
    {
      "cell_type": "markdown",
      "source": [
        "## 2-1 배열의 index 접근하기"
      ],
      "metadata": {
        "id": "hAlOoe0Iy9mk"
      }
    },
    {
      "cell_type": "code",
      "source": [
        "#1차원 배열\n",
        "arr = np.array([0,1,2,3,4,5,6,7,8,9])\n",
        "arr = np.arange(10)\n",
        "print(arr)\n",
        "print(arr[3])\n",
        "print(arr[-1])\n",
        "print(arr[-10])"
      ],
      "metadata": {
        "colab": {
          "base_uri": "https://localhost:8080/"
        },
        "id": "UwELkC9Ay2qj",
        "outputId": "a9b88d94-b1f5-40dd-debb-cfd274495883"
      },
      "execution_count": null,
      "outputs": [
        {
          "output_type": "stream",
          "name": "stdout",
          "text": [
            "[0 1 2 3 4 5 6 7 8 9]\n",
            "3\n",
            "9\n",
            "0\n"
          ]
        }
      ]
    },
    {
      "cell_type": "code",
      "source": [
        "# 2차원 배열\n",
        "arr = np.array([[1,2,3,4],[5,6,7,8],[9,10,11,12]])\n",
        "print(arr,arr.shape,arr.ndim)"
      ],
      "metadata": {
        "colab": {
          "base_uri": "https://localhost:8080/"
        },
        "id": "18AUEBCOz1kO",
        "outputId": "c1f5652a-114d-40d5-9160-7c6aa539e35d"
      },
      "execution_count": null,
      "outputs": [
        {
          "output_type": "stream",
          "name": "stdout",
          "text": [
            "[[ 1  2  3  4]\n",
            " [ 5  6  7  8]\n",
            " [ 9 10 11 12]] (3, 4) 2\n"
          ]
        }
      ]
    },
    {
      "cell_type": "markdown",
      "source": [
        "##2-2 배열의 Fancy 인덱싱"
      ],
      "metadata": {
        "id": "XYlbpYe20zLC"
      }
    },
    {
      "cell_type": "code",
      "source": [
        "#1차원 배열\n",
        "arr = np.array([5,10,15,20,25,30])\n",
        "print(arr[[0,2,4]])"
      ],
      "metadata": {
        "colab": {
          "base_uri": "https://localhost:8080/"
        },
        "id": "RdbGkiyS0BGy",
        "outputId": "545535bf-c5d2-443c-f37f-8accd315344b"
      },
      "execution_count": null,
      "outputs": [
        {
          "output_type": "stream",
          "name": "stdout",
          "text": [
            "[ 5 15 25]\n"
          ]
        }
      ]
    },
    {
      "cell_type": "code",
      "source": [
        "# 2차원 배열\n",
        "arr = np.array([[5,10,15,20],[25,30,35,40],[45,50,55,60]])\n",
        "print(arr[[0,2],2:])\n",
        "print(\"\")\n",
        "print(arr[1:,[2,3]])"
      ],
      "metadata": {
        "colab": {
          "base_uri": "https://localhost:8080/"
        },
        "id": "ELaHfNf30_D2",
        "outputId": "62448fbf-e593-41b6-adf8-ae945852b1ee"
      },
      "execution_count": null,
      "outputs": [
        {
          "output_type": "stream",
          "name": "stdout",
          "text": [
            "[[15 20]\n",
            " [55 60]]\n",
            "\n",
            "[[35 40]\n",
            " [55 60]]\n"
          ]
        }
      ]
    },
    {
      "cell_type": "markdown",
      "source": [
        "## 2-3 배열의 Bollean 인덱싱"
      ],
      "metadata": {
        "id": "9zJt74Ci1VMz"
      }
    },
    {
      "cell_type": "code",
      "source": [
        "arr = np.array([1,2,3,4])\n",
        "print(arr[[True,False,True,True]])"
      ],
      "metadata": {
        "colab": {
          "base_uri": "https://localhost:8080/"
        },
        "id": "kzEE3xHK1R2j",
        "outputId": "ad9a88a6-0628-484f-a9d4-6f6483e07c06"
      },
      "execution_count": null,
      "outputs": [
        {
          "output_type": "stream",
          "name": "stdout",
          "text": [
            "[1 3 4]\n"
          ]
        }
      ]
    },
    {
      "cell_type": "code",
      "source": [
        "arr = np.array([[1,2,3,4],[5,6,7,8]])\n",
        "print(arr[[True,False],True])"
      ],
      "metadata": {
        "colab": {
          "base_uri": "https://localhost:8080/"
        },
        "id": "cS9R_zEF1bxJ",
        "outputId": "30e507a7-46af-4fe3-cba0-6dda1bd31cfd"
      },
      "execution_count": null,
      "outputs": [
        {
          "output_type": "stream",
          "name": "stdout",
          "text": [
            "[[1 2 3 4]]\n"
          ]
        }
      ]
    },
    {
      "cell_type": "code",
      "source": [
        "arr = np.array([[1,2,3,4],[5,6,7,8]])\n",
        "print(arr[arr > 3])\n",
        "print(arr[arr <=2])"
      ],
      "metadata": {
        "colab": {
          "base_uri": "https://localhost:8080/"
        },
        "id": "2yBheyZn1n3j",
        "outputId": "d063f4cc-7a8a-4594-9399-89dabae6e9f4"
      },
      "execution_count": null,
      "outputs": [
        {
          "output_type": "stream",
          "name": "stdout",
          "text": [
            "[4 5 6 7 8]\n",
            "[1 2]\n"
          ]
        }
      ]
    },
    {
      "cell_type": "markdown",
      "source": [
        "##3-1 배열의 연산1: 사칙연산/제곱/몫/나머지"
      ],
      "metadata": {
        "id": "XOdbX7491wyw"
      }
    },
    {
      "cell_type": "code",
      "source": [
        "arr1 = np.array([[1,2,3],[4,5,6],[7,8,9]])\n",
        "arr2 = np.array([[2,2,2],[2,2,2],[2,2,2]])\n",
        "print(arr1)\n",
        "print(arr2)"
      ],
      "metadata": {
        "colab": {
          "base_uri": "https://localhost:8080/"
        },
        "id": "3iTKMLK51uVi",
        "outputId": "33023e27-f81c-4fa2-aa09-ccf26fa0185e"
      },
      "execution_count": null,
      "outputs": [
        {
          "output_type": "stream",
          "name": "stdout",
          "text": [
            "[[1 2 3]\n",
            " [4 5 6]\n",
            " [7 8 9]]\n",
            "[[2 2 2]\n",
            " [2 2 2]\n",
            " [2 2 2]]\n"
          ]
        }
      ]
    },
    {
      "cell_type": "code",
      "source": [
        "#덧셈\n",
        "arr1+arr2\n",
        "print(np.add(arr1,arr2))"
      ],
      "metadata": {
        "colab": {
          "base_uri": "https://localhost:8080/"
        },
        "id": "hQ9E4kMo2BHP",
        "outputId": "8d21dce7-1f2c-48df-862d-c658edb2ce0b"
      },
      "execution_count": null,
      "outputs": [
        {
          "output_type": "stream",
          "name": "stdout",
          "text": [
            "[[ 3  4  5]\n",
            " [ 6  7  8]\n",
            " [ 9 10 11]]\n"
          ]
        }
      ]
    },
    {
      "cell_type": "code",
      "source": [
        "#뺄셈\n",
        "print(arr1,arr2)\n",
        "print(np.subtract(arr1,arr2))"
      ],
      "metadata": {
        "colab": {
          "base_uri": "https://localhost:8080/"
        },
        "id": "z8ARGw192OLv",
        "outputId": "a6ced408-f73e-42a5-d06b-b845836e081b"
      },
      "execution_count": null,
      "outputs": [
        {
          "output_type": "stream",
          "name": "stdout",
          "text": [
            "[[1 2 3]\n",
            " [4 5 6]\n",
            " [7 8 9]] [[2 2 2]\n",
            " [2 2 2]\n",
            " [2 2 2]]\n",
            "[[-1  0  1]\n",
            " [ 2  3  4]\n",
            " [ 5  6  7]]\n"
          ]
        }
      ]
    },
    {
      "cell_type": "code",
      "source": [
        "#곱셈\n",
        "print(arr1*arr2)\n",
        "print(np.multiply(arr1,arr2))"
      ],
      "metadata": {
        "colab": {
          "base_uri": "https://localhost:8080/"
        },
        "id": "tc59NzXh2W6g",
        "outputId": "557b7efe-09f2-4d1d-9021-215b7070baa3"
      },
      "execution_count": null,
      "outputs": [
        {
          "output_type": "stream",
          "name": "stdout",
          "text": [
            "[[ 2  4  6]\n",
            " [ 8 10 12]\n",
            " [14 16 18]]\n",
            "[[ 2  4  6]\n",
            " [ 8 10 12]\n",
            " [14 16 18]]\n"
          ]
        }
      ]
    },
    {
      "cell_type": "code",
      "source": [
        "#나눗셈\n",
        "print(arr1/arr2)\n",
        "print(np.divide(arr1,arr2))"
      ],
      "metadata": {
        "colab": {
          "base_uri": "https://localhost:8080/"
        },
        "id": "b20H15N12axH",
        "outputId": "a06b79ad-a083-46f1-dff6-491a7c8f2543"
      },
      "execution_count": null,
      "outputs": [
        {
          "output_type": "stream",
          "name": "stdout",
          "text": [
            "[[0.5 1.  1.5]\n",
            " [2.  2.5 3. ]\n",
            " [3.5 4.  4.5]]\n",
            "[[0.5 1.  1.5]\n",
            " [2.  2.5 3. ]\n",
            " [3.5 4.  4.5]]\n"
          ]
        }
      ]
    },
    {
      "cell_type": "code",
      "source": [
        "#제곱\n",
        "print(arr1 ** 5)\n",
        "print(np.square(arr1))\n",
        "\n",
        "#제곱근\n",
        "print(np.sqrt(arr1))"
      ],
      "metadata": {
        "colab": {
          "base_uri": "https://localhost:8080/"
        },
        "id": "XPGVuh5J2i2n",
        "outputId": "c8b86f3a-98b8-4c99-d515-6d506c861637"
      },
      "execution_count": null,
      "outputs": [
        {
          "output_type": "stream",
          "name": "stdout",
          "text": [
            "[[    1    32   243]\n",
            " [ 1024  3125  7776]\n",
            " [16807 32768 59049]]\n",
            "[[ 1  4  9]\n",
            " [16 25 36]\n",
            " [49 64 81]]\n",
            "[[1.         1.41421356 1.73205081]\n",
            " [2.         2.23606798 2.44948974]\n",
            " [2.64575131 2.82842712 3.        ]]\n"
          ]
        }
      ]
    },
    {
      "cell_type": "code",
      "source": [
        "#몫\n",
        "print(arr1//2)\n",
        "\n",
        "#나머지\n",
        "print(arr1 % 2)"
      ],
      "metadata": {
        "colab": {
          "base_uri": "https://localhost:8080/"
        },
        "id": "YtY-dt6m2qNP",
        "outputId": "a636e798-bc3a-4e72-de52-ccc587bf92d1"
      },
      "execution_count": null,
      "outputs": [
        {
          "output_type": "stream",
          "name": "stdout",
          "text": [
            "[[0 1 1]\n",
            " [2 2 3]\n",
            " [3 4 4]]\n",
            "[[1 0 1]\n",
            " [0 1 0]\n",
            " [1 0 1]]\n"
          ]
        }
      ]
    },
    {
      "cell_type": "markdown",
      "source": [
        "## 3-2 배열의연산2:내적(dot product)/절댓값/올림/내림/반올림/버림"
      ],
      "metadata": {
        "id": "cILvP-7k2zp3"
      }
    },
    {
      "cell_type": "code",
      "source": [
        "# 1차원 행렬\n",
        "arr1 = np.array([2,3,4])\n",
        "arr2 = np.array([1,2,3])\n",
        "\n",
        "print(np.dot(arr1,arr2))"
      ],
      "metadata": {
        "colab": {
          "base_uri": "https://localhost:8080/"
        },
        "id": "SDW9OpYQ2u0u",
        "outputId": "2a2ae852-a1fd-492e-ddcf-8b3dabfad893"
      },
      "execution_count": null,
      "outputs": [
        {
          "output_type": "stream",
          "name": "stdout",
          "text": [
            "20\n"
          ]
        }
      ]
    },
    {
      "cell_type": "code",
      "source": [
        "#2차원 행렬\n",
        "arr1 = np.array([[1,2],[3,4]])\n",
        "arr2 = np.array([[1,2],[0,3]])\n",
        "print(np.dot(arr1,arr2))"
      ],
      "metadata": {
        "colab": {
          "base_uri": "https://localhost:8080/"
        },
        "id": "r6Bkj5Xd2_EE",
        "outputId": "6cb32cec-4793-4133-821b-2738c51b1539"
      },
      "execution_count": null,
      "outputs": [
        {
          "output_type": "stream",
          "name": "stdout",
          "text": [
            "[[ 1  8]\n",
            " [ 3 18]]\n"
          ]
        }
      ]
    },
    {
      "cell_type": "code",
      "source": [
        "#절댓값\n",
        "arr1 = np.array([[1,-2],[-4,5]])\n",
        "print(np.abs(arr1))"
      ],
      "metadata": {
        "colab": {
          "base_uri": "https://localhost:8080/"
        },
        "id": "0hp2jgYq3Own",
        "outputId": "3031d1d8-e2fe-46f4-d152-622d7cd86ec2"
      },
      "execution_count": null,
      "outputs": [
        {
          "output_type": "stream",
          "name": "stdout",
          "text": [
            "[[1 2]\n",
            " [4 5]]\n"
          ]
        }
      ]
    },
    {
      "cell_type": "code",
      "source": [
        "#올림\n",
        "arr1 = np.array([[1.932,-2.339],[-4.145,5.206]])\n",
        "print(np.ceil(arr1))\n",
        "\n",
        "#내림\n",
        "print(np.floor(arr1))\n",
        "\n",
        "#반올림\n",
        "print(np.round(arr1))\n",
        "\n",
        "#버림\n",
        "print(np.trunc(arr1))"
      ],
      "metadata": {
        "colab": {
          "base_uri": "https://localhost:8080/"
        },
        "id": "bZ9C9I9C3bUa",
        "outputId": "8b79b3f6-c652-4578-821d-0c6c6bc781f8"
      },
      "execution_count": null,
      "outputs": [
        {
          "output_type": "stream",
          "name": "stdout",
          "text": [
            "[[ 2. -2.]\n",
            " [-4.  6.]]\n",
            "[[ 1. -3.]\n",
            " [-5.  5.]]\n",
            "[[ 2. -2.]\n",
            " [-4.  5.]]\n",
            "[[ 1. -2.]\n",
            " [-4.  5.]]\n"
          ]
        }
      ]
    },
    {
      "cell_type": "markdown",
      "source": [
        "## 3-3 배열의 연산3:min/max/mean/std/cumsum/median"
      ],
      "metadata": {
        "id": "SRFl_Fxi3umg"
      }
    },
    {
      "cell_type": "code",
      "source": [
        "arr = np.array([[1,2,3],[0,1,4]])"
      ],
      "metadata": {
        "id": "kPKNkeQ63nBk"
      },
      "execution_count": null,
      "outputs": []
    },
    {
      "cell_type": "code",
      "source": [
        "# min()\n",
        "print(np.min(arr))\n",
        "print(arr.min())\n",
        "print(arr.min(axis=0))"
      ],
      "metadata": {
        "colab": {
          "base_uri": "https://localhost:8080/"
        },
        "id": "tkEjl72i31sv",
        "outputId": "7cfc6392-feef-470f-e638-2a3877b286bb"
      },
      "execution_count": null,
      "outputs": [
        {
          "output_type": "stream",
          "name": "stdout",
          "text": [
            "0\n",
            "0\n",
            "[0 1 3]\n"
          ]
        }
      ]
    },
    {
      "cell_type": "code",
      "source": [
        "#max()\n",
        "print(np.max(arr))\n",
        "print(arr.max(axis=1))"
      ],
      "metadata": {
        "colab": {
          "base_uri": "https://localhost:8080/"
        },
        "id": "Q-wgpheI348b",
        "outputId": "8adede4b-6b6d-4002-a4e1-48bd652b52d7"
      },
      "execution_count": null,
      "outputs": [
        {
          "output_type": "stream",
          "name": "stdout",
          "text": [
            "4\n",
            "[3 4]\n"
          ]
        }
      ]
    },
    {
      "cell_type": "code",
      "source": [
        "#sum()\n",
        "print(np.sum(arr))\n",
        "print(arr.sum(axis=1))"
      ],
      "metadata": {
        "colab": {
          "base_uri": "https://localhost:8080/"
        },
        "id": "6h5vMHkH4jBc",
        "outputId": "1314b0c2-6bf5-4aec-a250-1dc1ff4e2c5d"
      },
      "execution_count": null,
      "outputs": [
        {
          "output_type": "stream",
          "name": "stdout",
          "text": [
            "11\n",
            "[6 5]\n"
          ]
        }
      ]
    },
    {
      "cell_type": "code",
      "source": [
        "#mean()\n",
        "print(np.mean(arr))\n",
        "print(arr.mean(axis=1))"
      ],
      "metadata": {
        "colab": {
          "base_uri": "https://localhost:8080/"
        },
        "id": "hHIJpuQL4mYT",
        "outputId": "7a185d2e-1e3b-46ea-9776-59e8ef8f6df6"
      },
      "execution_count": null,
      "outputs": [
        {
          "output_type": "stream",
          "name": "stdout",
          "text": [
            "1.8333333333333333\n",
            "[2.         1.66666667]\n"
          ]
        }
      ]
    },
    {
      "cell_type": "code",
      "source": [
        "#std()\n",
        "print(np.std(arr))\n",
        "print(arr.std(axis=1))\n",
        "\n",
        "#cumsum()\n",
        "print(np.cumsum(arr))\n",
        "print(arr.cumsum(axis=0))"
      ],
      "metadata": {
        "colab": {
          "base_uri": "https://localhost:8080/"
        },
        "id": "EVDJGs054t-w",
        "outputId": "2a449782-37b3-4b52-e20d-21cbbae5d6be"
      },
      "execution_count": null,
      "outputs": [
        {
          "output_type": "stream",
          "name": "stdout",
          "text": [
            "1.343709624716425\n",
            "[0.81649658 1.69967317]\n",
            "[ 1  3  6  6  7 11]\n",
            "[[1 2 3]\n",
            " [1 3 7]]\n"
          ]
        }
      ]
    },
    {
      "cell_type": "code",
      "source": [
        "#median()\n",
        "print(np.median(arr))"
      ],
      "metadata": {
        "colab": {
          "base_uri": "https://localhost:8080/"
        },
        "id": "1AnF3Blf47WP",
        "outputId": "4d443634-7a9a-403c-c056-3b36b1026298"
      },
      "execution_count": null,
      "outputs": [
        {
          "output_type": "stream",
          "name": "stdout",
          "text": [
            "1.5\n"
          ]
        }
      ]
    },
    {
      "cell_type": "markdown",
      "source": [
        "##3-4배열의연산4:비교연산/삼각함수"
      ],
      "metadata": {
        "id": "ZPFYhTC85PuP"
      }
    },
    {
      "cell_type": "code",
      "source": [
        "#비교연산\n",
        "arr1 = np.array([[1,2,3],[4,5,6]])\n",
        "arr2 = np.array([[1,0,3],[4,-2,9]])\n",
        "print(arr1==arr2)\n",
        "print(np.array_equal(arr1,arr2))"
      ],
      "metadata": {
        "colab": {
          "base_uri": "https://localhost:8080/"
        },
        "id": "AEN6GwkH5SpG",
        "outputId": "52cdaaee-72b9-4b84-b8b7-4197f7a80fba"
      },
      "execution_count": null,
      "outputs": [
        {
          "output_type": "stream",
          "name": "stdout",
          "text": [
            "[[ True False  True]\n",
            " [ True False False]]\n",
            "False\n"
          ]
        }
      ]
    },
    {
      "cell_type": "code",
      "source": [
        "#삼각함수\n",
        "arr = np.array([[1,2,3],[4,5,6]])\n",
        "\n",
        "#sin()\n",
        "print(np.sin(arr))\n",
        "\n",
        "#cos()\n",
        "print(np.cos(arr))\n",
        "\n",
        "#tan()\n",
        "print(np.tan(arr))\n",
        "#pi\n",
        "print(np.pi)"
      ],
      "metadata": {
        "colab": {
          "base_uri": "https://localhost:8080/"
        },
        "id": "Q6GWHJFh5eAR",
        "outputId": "343e567d-9e68-435b-cb6d-75871a644f77"
      },
      "execution_count": null,
      "outputs": [
        {
          "output_type": "stream",
          "name": "stdout",
          "text": [
            "[[ 0.84147098  0.90929743  0.14112001]\n",
            " [-0.7568025  -0.95892427 -0.2794155 ]]\n",
            "[[ 0.54030231 -0.41614684 -0.9899925 ]\n",
            " [-0.65364362  0.28366219  0.96017029]]\n",
            "[[ 1.55740772 -2.18503986 -0.14254654]\n",
            " [ 1.15782128 -3.38051501 -0.29100619]]\n",
            "3.141592653589793\n"
          ]
        }
      ]
    },
    {
      "cell_type": "markdown",
      "source": [
        "## 3-5 브로드캐스팅"
      ],
      "metadata": {
        "id": "JKqAGEIa5uW8"
      }
    },
    {
      "cell_type": "code",
      "source": [
        "arr1 = np.array([[0,0,0],[1,1,1],[2,2,2]])\n",
        "arr2 = np.array([[5,6,7]])\n",
        "\n",
        "print(arr1+arr2)\n",
        "\n",
        "arr1 = np.array([[1,1,1]])\n",
        "arr2 = np.array([[0],[1],[2]])\n",
        "\n",
        "print(arr1+arr2)"
      ],
      "metadata": {
        "colab": {
          "base_uri": "https://localhost:8080/"
        },
        "id": "3dkcZUvE55m7",
        "outputId": "59eed42f-60c0-455e-97fe-dcb622f2823c"
      },
      "execution_count": null,
      "outputs": [
        {
          "output_type": "stream",
          "name": "stdout",
          "text": [
            "[[5 6 7]\n",
            " [6 7 8]\n",
            " [7 8 9]]\n",
            "[[1 1 1]\n",
            " [2 2 2]\n",
            " [3 3 3]]\n"
          ]
        }
      ]
    },
    {
      "cell_type": "markdown",
      "source": [
        "## 3-6 백터 연산의 장점"
      ],
      "metadata": {
        "id": "OYChJT9B5ueD"
      }
    },
    {
      "cell_type": "code",
      "source": [
        "import time"
      ],
      "metadata": {
        "id": "12f6OrEo6eOp"
      },
      "execution_count": null,
      "outputs": []
    },
    {
      "cell_type": "code",
      "source": [
        "arr = np.arange(99999999)"
      ],
      "metadata": {
        "id": "Gkc8WA2D6heO"
      },
      "execution_count": null,
      "outputs": []
    },
    {
      "cell_type": "code",
      "source": [
        "sum = 0;\n",
        "before = time.time()\n",
        "for i in arr:\n",
        "     sum+= i\n",
        "after = time.time()\n",
        "print(sum,after-before,'초')     "
      ],
      "metadata": {
        "colab": {
          "base_uri": "https://localhost:8080/"
        },
        "id": "vDclbxKz6jan",
        "outputId": "994000d4-9269-4cd3-ffba-b576d5c2300f"
      },
      "execution_count": null,
      "outputs": [
        {
          "output_type": "stream",
          "name": "stdout",
          "text": [
            "4999999850000001 21.93434476852417 초\n"
          ]
        }
      ]
    },
    {
      "cell_type": "code",
      "source": [
        "#백터 연산\n",
        "before = time.time()\n",
        "sum = np.sum(arr)\n",
        "after = time.time()\n",
        "print(sum,after-before,'초')"
      ],
      "metadata": {
        "colab": {
          "base_uri": "https://localhost:8080/"
        },
        "id": "CsQq95aq6yed",
        "outputId": "23ece969-a522-4bf6-a575-9560ac71aea3"
      },
      "execution_count": null,
      "outputs": [
        {
          "output_type": "stream",
          "name": "stdout",
          "text": [
            "4999999850000001 0.10431766510009766 초\n"
          ]
        }
      ]
    },
    {
      "cell_type": "code",
      "source": [
        "sum = 0\n",
        "before = time.time()\n",
        "for i,j in zip(arr1,arr2):\n",
        "    sum += i*j\n",
        "after = time.time()\n",
        "print(sum,after-before,'초')    "
      ],
      "metadata": {
        "colab": {
          "base_uri": "https://localhost:8080/"
        },
        "id": "SKE74avI679y",
        "outputId": "bee91c7f-e631-46ca-857d-a560fe663add"
      },
      "execution_count": null,
      "outputs": [
        {
          "output_type": "stream",
          "name": "stdout",
          "text": [
            "[0 0 0] 0.00011301040649414062 초\n"
          ]
        }
      ]
    },
    {
      "cell_type": "code",
      "source": [
        "#백터연산\n",
        "before = time.time()\n",
        "sum = np.dot(arr1,arr2)\n",
        "after = time.time()\n",
        "print(sum,after-before,'초')"
      ],
      "metadata": {
        "colab": {
          "base_uri": "https://localhost:8080/"
        },
        "id": "OEh3_2Ck7KZb",
        "outputId": "f92a0189-dd43-4156-e6ea-403e33495176"
      },
      "execution_count": null,
      "outputs": [
        {
          "output_type": "stream",
          "name": "stdout",
          "text": [
            "[[3]] 0.0012564659118652344 초\n"
          ]
        }
      ]
    },
    {
      "cell_type": "markdown",
      "source": [
        "## 4-1 1차원 배열의 정렬"
      ],
      "metadata": {
        "id": "iNE7v42x7cCM"
      }
    },
    {
      "cell_type": "code",
      "source": [
        "arr = np.random.randint(10,size=10)\n",
        "print(arr)"
      ],
      "metadata": {
        "colab": {
          "base_uri": "https://localhost:8080/"
        },
        "id": "pKCrc_OL7UXe",
        "outputId": "07a1e8c4-9bb8-455f-ba7d-5a4097f0c85f"
      },
      "execution_count": null,
      "outputs": [
        {
          "output_type": "stream",
          "name": "stdout",
          "text": [
            "[5 2 4 2 4 7 7 9 1 7]\n"
          ]
        }
      ]
    },
    {
      "cell_type": "code",
      "source": [
        "print(np.sort(arr))\n",
        "print(np.sort(arr)[::-1])"
      ],
      "metadata": {
        "colab": {
          "base_uri": "https://localhost:8080/"
        },
        "id": "8yV3szQp7ipN",
        "outputId": "86e4da86-42a1-4ad3-ae74-7ea5dc99240f"
      },
      "execution_count": null,
      "outputs": [
        {
          "output_type": "stream",
          "name": "stdout",
          "text": [
            "[1 2 2 4 4 5 7 7 7 9]\n",
            "[9 7 7 7 5 4 4 2 2 1]\n"
          ]
        }
      ]
    },
    {
      "cell_type": "code",
      "source": [
        "arr = np.sort(arr)"
      ],
      "metadata": {
        "id": "-SFa-io97kJb"
      },
      "execution_count": null,
      "outputs": []
    },
    {
      "cell_type": "markdown",
      "source": [
        "## 4-2 2차원 배열의 정렬"
      ],
      "metadata": {
        "id": "WfK3GbE070DO"
      }
    },
    {
      "cell_type": "code",
      "source": [
        "arr = np.random.randint(15,size=(3,4))\n",
        "print(arr)"
      ],
      "metadata": {
        "colab": {
          "base_uri": "https://localhost:8080/"
        },
        "id": "YtgS8nPh716V",
        "outputId": "de35aa03-3794-41a1-a17d-9e18fcff04a2"
      },
      "execution_count": null,
      "outputs": [
        {
          "output_type": "stream",
          "name": "stdout",
          "text": [
            "[[12  1  8  8]\n",
            " [13  3 10  9]\n",
            " [ 8 14  7  3]]\n"
          ]
        }
      ]
    },
    {
      "cell_type": "code",
      "source": [
        "print(np.sort(arr,axis=None))"
      ],
      "metadata": {
        "colab": {
          "base_uri": "https://localhost:8080/"
        },
        "id": "_RNHiWsY76Mq",
        "outputId": "89537129-3399-4187-be73-e1169806d546"
      },
      "execution_count": null,
      "outputs": [
        {
          "output_type": "stream",
          "name": "stdout",
          "text": [
            "[ 1  3  3  7  8  8  8  9 10 12 13 14]\n"
          ]
        }
      ]
    },
    {
      "cell_type": "code",
      "source": [
        "# argsort()\n",
        "print(np.sort(arr,axis=1))\n",
        "print(np.argsort(arr,axis=1))"
      ],
      "metadata": {
        "colab": {
          "base_uri": "https://localhost:8080/"
        },
        "id": "nxjC_hZO8BXp",
        "outputId": "cc48977f-d100-41a9-a92f-94e8cdac98bc"
      },
      "execution_count": null,
      "outputs": [
        {
          "output_type": "stream",
          "name": "stdout",
          "text": [
            "[[ 1  8  8 12]\n",
            " [ 3  9 10 13]\n",
            " [ 3  7  8 14]]\n",
            "[[1 2 3 0]\n",
            " [1 3 2 0]\n",
            " [3 2 0 1]]\n"
          ]
        }
      ]
    },
    {
      "cell_type": "markdown",
      "source": [
        "## 5-1 배열의 형태 변경1:reshape()"
      ],
      "metadata": {
        "id": "V3o4mr7n8ahu"
      }
    },
    {
      "cell_type": "code",
      "source": [
        "arr = np.arange(12)\n",
        "print(arr,arr.ndim)\n",
        "\n",
        "arr = arr.reshape(3,4)\n",
        "print(arr,arr.ndim)"
      ],
      "metadata": {
        "colab": {
          "base_uri": "https://localhost:8080/"
        },
        "id": "fWTBpw96_hi0",
        "outputId": "4400c739-2c39-4fc3-e565-56ab21d01ac7"
      },
      "execution_count": null,
      "outputs": [
        {
          "output_type": "stream",
          "name": "stdout",
          "text": [
            "[ 0  1  2  3  4  5  6  7  8  9 10 11] 1\n",
            "[[ 0  1  2  3]\n",
            " [ 4  5  6  7]\n",
            " [ 8  9 10 11]] 2\n"
          ]
        }
      ]
    },
    {
      "cell_type": "markdown",
      "source": [
        "## 5-1 배열의 형태 변경2:resize(),ravel()"
      ],
      "metadata": {
        "id": "3jh78tMh_9_5"
      }
    },
    {
      "cell_type": "code",
      "source": [
        "arr = np.arange(12)\n",
        "print(arr)"
      ],
      "metadata": {
        "colab": {
          "base_uri": "https://localhost:8080/"
        },
        "id": "k4se3KKf_kKA",
        "outputId": "7e842990-a1cc-453e-a5eb-72bc5ba7ef4b"
      },
      "execution_count": null,
      "outputs": [
        {
          "output_type": "stream",
          "name": "stdout",
          "text": [
            "[ 0  1  2  3  4  5  6  7  8  9 10 11]\n"
          ]
        }
      ]
    },
    {
      "cell_type": "code",
      "source": [
        "arr.resize(3,4)\n",
        "print(arr)\n",
        "\n",
        "arr = arr.ravel() # 1차원 배열로 변경\n",
        "print(arr)"
      ],
      "metadata": {
        "colab": {
          "base_uri": "https://localhost:8080/"
        },
        "id": "c6nyD-o4AIo8",
        "outputId": "0bdd0d22-bd15-4c03-af4a-bb503751d19a"
      },
      "execution_count": null,
      "outputs": [
        {
          "output_type": "stream",
          "name": "stdout",
          "text": [
            "[[ 0  1  2  3]\n",
            " [ 4  5  6  7]\n",
            " [ 8  9 10 11]]\n",
            "[ 0  1  2  3  4  5  6  7  8  9 10 11]\n"
          ]
        }
      ]
    },
    {
      "cell_type": "code",
      "source": [
        "arr = np.arange(1,13)\n",
        "print(arr)\n",
        "\n",
        "arr = arr.reshape(3,-1) # -1 자동으로 만들어줌,2개는 불가"
      ],
      "metadata": {
        "colab": {
          "base_uri": "https://localhost:8080/"
        },
        "id": "PORN_Ld6AKLW",
        "outputId": "2916e421-bd41-4a81-d469-62db8466b65c"
      },
      "execution_count": null,
      "outputs": [
        {
          "output_type": "stream",
          "name": "stdout",
          "text": [
            "[ 1  2  3  4  5  6  7  8  9 10 11 12]\n"
          ]
        }
      ]
    },
    {
      "cell_type": "markdown",
      "source": [
        "##5-3배열의 형태 변경3:expand_dims(),squeeze()"
      ],
      "metadata": {
        "id": "Qa6kJGtPAly3"
      }
    },
    {
      "cell_type": "code",
      "source": [
        "# expand_dims()\n",
        "arr = np.array([1,2])\n",
        "print(arr,arr.shape)\n",
        "arr = np.expand_dims(arr,axis=0)\n",
        "print(arr,arr.shape)"
      ],
      "metadata": {
        "colab": {
          "base_uri": "https://localhost:8080/"
        },
        "id": "ad33-NidAgva",
        "outputId": "3381fcdd-50fa-4c5f-d7f9-83255cc4080f"
      },
      "execution_count": null,
      "outputs": [
        {
          "output_type": "stream",
          "name": "stdout",
          "text": [
            "[1 2] (2,)\n",
            "[[1 2]] (1, 2)\n"
          ]
        }
      ]
    },
    {
      "cell_type": "code",
      "source": [
        "#squeeze()\n",
        "arr = np.array([[1,2]])\n",
        "print(arr,arr.shape,arr.ndim)\n",
        "arr = np.squeeze(arr,axis=0)\n",
        "print(arr,arr.shape,arr.ndim)"
      ],
      "metadata": {
        "colab": {
          "base_uri": "https://localhost:8080/"
        },
        "id": "bIFUXd7fA0KF",
        "outputId": "6b63ce8c-d713-45ef-f02a-9ed692dae152"
      },
      "execution_count": null,
      "outputs": [
        {
          "output_type": "stream",
          "name": "stdout",
          "text": [
            "[[1 2]] (1, 2) 2\n",
            "[1 2] (2,) 1\n"
          ]
        }
      ]
    },
    {
      "cell_type": "code",
      "source": [
        "arr = np.array([[[1,2,3]]])\n",
        "arr = np.squeeze(arr,axis=1)\n",
        "print(arr,arr.shape,arr.ndim)"
      ],
      "metadata": {
        "colab": {
          "base_uri": "https://localhost:8080/"
        },
        "id": "Pf2f8WNWBEaK",
        "outputId": "8a4b037f-b0b8-4357-be65-8f6543dbcddc"
      },
      "execution_count": null,
      "outputs": [
        {
          "output_type": "stream",
          "name": "stdout",
          "text": [
            "[[1 2 3]] (1, 3) 2\n"
          ]
        }
      ]
    },
    {
      "cell_type": "markdown",
      "source": [
        "## 5-4 전치행렬"
      ],
      "metadata": {
        "id": "LBPID87BBp9S"
      }
    },
    {
      "cell_type": "code",
      "source": [
        "arr = np.array([[1,2],[3,4]])\n",
        "print(arr.T)\n",
        "arr = np.array([[1,2,3],[4,5,6],[7,8,9]])\n",
        "print(arr.T)"
      ],
      "metadata": {
        "colab": {
          "base_uri": "https://localhost:8080/"
        },
        "id": "olrWxGOpBrWH",
        "outputId": "1af5f308-af0d-476c-80f8-b7ff0046e621"
      },
      "execution_count": null,
      "outputs": [
        {
          "output_type": "stream",
          "name": "stdout",
          "text": [
            "[[1 3]\n",
            " [2 4]]\n",
            "[[1 4 7]\n",
            " [2 5 8]\n",
            " [3 6 9]]\n"
          ]
        }
      ]
    },
    {
      "cell_type": "code",
      "source": [
        "arr = np.array([[1,2],[3,4],[5,6]])\n",
        "print(arr.T)"
      ],
      "metadata": {
        "colab": {
          "base_uri": "https://localhost:8080/"
        },
        "id": "iWtMOZXZB4EZ",
        "outputId": "697228ad-8da2-44fd-c51a-07b62f843885"
      },
      "execution_count": null,
      "outputs": [
        {
          "output_type": "stream",
          "name": "stdout",
          "text": [
            "[[1 3 5]\n",
            " [2 4 6]]\n"
          ]
        }
      ]
    },
    {
      "cell_type": "markdown",
      "source": [
        "## 6-1 배열에 원소 추가 및 삭제"
      ],
      "metadata": {
        "id": "y5wbBgqFCU9N"
      }
    },
    {
      "cell_type": "code",
      "source": [
        "#python list\n",
        "arr = [1,2,3,4,5,6,7,8]\n",
        "arr.insert(2,50)\n",
        "print(arr)\n",
        "\n",
        "#1차원배열\n",
        "arr = np.arange(1,9)\n",
        "arr = np.insert(arr,2,50)\n",
        "print(arr)"
      ],
      "metadata": {
        "colab": {
          "base_uri": "https://localhost:8080/"
        },
        "id": "F4u1cSewB9rI",
        "outputId": "57701e0e-b74b-49de-ddb3-1bdfdc1813f9"
      },
      "execution_count": null,
      "outputs": [
        {
          "output_type": "stream",
          "name": "stdout",
          "text": [
            "[1, 2, 50, 3, 4, 5, 6, 7, 8]\n",
            "[ 1  2 50  3  4  5  6  7  8]\n"
          ]
        }
      ]
    },
    {
      "cell_type": "code",
      "source": [
        "#2차원 배열\n",
        "arr = np.arange(1,13).reshape(3,4)\n",
        "arr = np.insert(arr,2,50,axis=0)\n",
        "print(arr)"
      ],
      "metadata": {
        "colab": {
          "base_uri": "https://localhost:8080/"
        },
        "id": "hPdWfLNDChQ8",
        "outputId": "ed345171-6f99-4698-9db3-cbc6d4de38da"
      },
      "execution_count": null,
      "outputs": [
        {
          "output_type": "stream",
          "name": "stdout",
          "text": [
            "[[ 1  2  3  4]\n",
            " [ 5  6  7  8]\n",
            " [50 50 50 50]\n",
            " [ 9 10 11 12]]\n"
          ]
        }
      ]
    },
    {
      "cell_type": "code",
      "source": [
        "#delete()\n",
        "arr = np.arange(1,13).reshape(3,4)\n",
        "arr = np.delete(arr,2,axis=0)\n",
        "print(arr)\n",
        "arr = np.delete(arr,2)\n",
        "print(arr)"
      ],
      "metadata": {
        "colab": {
          "base_uri": "https://localhost:8080/"
        },
        "id": "ktQKmaLpCrm7",
        "outputId": "03b56b6c-d578-4042-a719-7088ce2635b9"
      },
      "execution_count": null,
      "outputs": [
        {
          "output_type": "stream",
          "name": "stdout",
          "text": [
            "[[1 2 3 4]\n",
            " [5 6 7 8]]\n",
            "[1 2 4 5 6 7 8]\n"
          ]
        }
      ]
    },
    {
      "cell_type": "markdown",
      "source": [
        "## 6-2 배열 간의 병합"
      ],
      "metadata": {
        "id": "JiWYVVccC_vS"
      }
    },
    {
      "cell_type": "code",
      "source": [
        "#append()\n",
        "arr1 = np.arange(1,13).reshape(3,4)\n",
        "arr2 = np.arange(13,25).reshape(3,4)\n",
        "print(arr1)\n",
        "print(arr2, end='\\n\\n')\n",
        "\n",
        "#axis=0\n",
        "arr3 = np.append(arr1,arr2,axis=0)\n",
        "print(arr3,end='\\n\\n')"
      ],
      "metadata": {
        "colab": {
          "base_uri": "https://localhost:8080/"
        },
        "id": "te2BrYPxC2zk",
        "outputId": "6065f141-c5ee-452d-d1f3-02acbac8179b"
      },
      "execution_count": null,
      "outputs": [
        {
          "output_type": "stream",
          "name": "stdout",
          "text": [
            "[[ 1  2  3  4]\n",
            " [ 5  6  7  8]\n",
            " [ 9 10 11 12]]\n",
            "[[13 14 15 16]\n",
            " [17 18 19 20]\n",
            " [21 22 23 24]]\n",
            "\n",
            "[[ 1  2  3  4]\n",
            " [ 5  6  7  8]\n",
            " [ 9 10 11 12]\n",
            " [13 14 15 16]\n",
            " [17 18 19 20]\n",
            " [21 22 23 24]]\n",
            "\n"
          ]
        }
      ]
    },
    {
      "cell_type": "code",
      "source": [
        "#vstack(),hstack()\n",
        "arr1 = np.arange(1,7).reshape(2,3)\n",
        "arr2 = np.arange(7,13).reshape(2,3)\n",
        "\n",
        "arr3 = np.vstack((arr1,arr2))\n",
        "print(arr3)\n",
        "\n",
        "arr3 = np.hstack((arr1,arr2))\n",
        "print(arr3)"
      ],
      "metadata": {
        "colab": {
          "base_uri": "https://localhost:8080/"
        },
        "id": "QosDalVyDP-S",
        "outputId": "3c6eafd2-1adc-4be6-d9a3-3859876fdaae"
      },
      "execution_count": null,
      "outputs": [
        {
          "output_type": "stream",
          "name": "stdout",
          "text": [
            "[[ 1  2  3]\n",
            " [ 4  5  6]\n",
            " [ 7  8  9]\n",
            " [10 11 12]]\n",
            "[[ 1  2  3  7  8  9]\n",
            " [ 4  5  6 10 11 12]]\n"
          ]
        }
      ]
    },
    {
      "cell_type": "code",
      "source": [
        "#concatenate()\n",
        "arr3 = np.concatenate([arr1,arr2],axis=1)\n",
        "arr3"
      ],
      "metadata": {
        "colab": {
          "base_uri": "https://localhost:8080/"
        },
        "id": "iVFsL36_Dol1",
        "outputId": "56d4987a-f698-49b1-ba20-55bd6fcba602"
      },
      "execution_count": null,
      "outputs": [
        {
          "output_type": "execute_result",
          "data": {
            "text/plain": [
              "array([[ 1,  2,  3,  7,  8,  9],\n",
              "       [ 4,  5,  6, 10, 11, 12]])"
            ]
          },
          "metadata": {},
          "execution_count": 162
        }
      ]
    },
    {
      "cell_type": "markdown",
      "source": [
        "## 6-3 배열 분할"
      ],
      "metadata": {
        "id": "OxDCYH1OD1ZX"
      }
    },
    {
      "cell_type": "code",
      "source": [
        "#2차원 배열\n",
        "arr = np.arange(1,13).reshape(3,4)\n",
        "print(arr)\n",
        "\n",
        "#vsplit() -> axis=0\n",
        "arr_vsplit = np.vsplit(arr,3)\n",
        "print(arr_vsplit)\n",
        "\n",
        "\n",
        "#hsplit() -> axis=1\n",
        "arr_hsplit = np.hsplit(arr,2)\n",
        "print(arr_hsplit)"
      ],
      "metadata": {
        "colab": {
          "base_uri": "https://localhost:8080/"
        },
        "id": "-NPSs2l9Dwie",
        "outputId": "74c1512f-e511-440a-bab2-5c38b4d0e459"
      },
      "execution_count": null,
      "outputs": [
        {
          "output_type": "stream",
          "name": "stdout",
          "text": [
            "[[ 1  2  3  4]\n",
            " [ 5  6  7  8]\n",
            " [ 9 10 11 12]]\n",
            "[array([[1, 2, 3, 4]]), array([[5, 6, 7, 8]]), array([[ 9, 10, 11, 12]])]\n",
            "[array([[ 1,  2],\n",
            "       [ 5,  6],\n",
            "       [ 9, 10]]), array([[ 3,  4],\n",
            "       [ 7,  8],\n",
            "       [11, 12]])]\n"
          ]
        }
      ]
    },
    {
      "cell_type": "code",
      "source": [
        "# 3차원 배열\n",
        "arr = np.random.randint(0,10,(4,6,8))\n",
        "print(arr)"
      ],
      "metadata": {
        "colab": {
          "base_uri": "https://localhost:8080/"
        },
        "id": "F-8X7AHDEL0H",
        "outputId": "ea89f17e-23df-4e91-9dcc-1129da9b6dbf"
      },
      "execution_count": null,
      "outputs": [
        {
          "output_type": "stream",
          "name": "stdout",
          "text": [
            "[[[6 5 1 9 3 4 8 1]\n",
            "  [4 0 3 9 2 0 4 9]\n",
            "  [2 7 7 9 8 6 9 3]\n",
            "  [7 7 4 5 9 3 6 8]\n",
            "  [0 2 7 7 9 7 3 0]\n",
            "  [8 7 7 1 1 3 0 8]]\n",
            "\n",
            " [[6 4 5 6 2 5 7 8]\n",
            "  [4 4 7 7 4 9 0 2]\n",
            "  [0 7 1 7 9 8 4 0]\n",
            "  [1 9 8 2 3 1 2 7]\n",
            "  [2 6 0 9 2 6 6 2]\n",
            "  [7 7 0 6 5 1 4 6]]\n",
            "\n",
            " [[0 6 5 1 2 1 5 4]\n",
            "  [0 7 8 9 5 7 0 9]\n",
            "  [3 9 1 4 4 6 8 8]\n",
            "  [9 2 7 5 5 4 5 8]\n",
            "  [5 8 1 1 8 7 0 3]\n",
            "  [4 2 0 3 5 1 2 4]]\n",
            "\n",
            " [[3 0 6 0 7 2 8 3]\n",
            "  [0 8 4 2 9 0 3 8]\n",
            "  [1 4 3 3 6 7 3 5]\n",
            "  [3 2 4 4 0 3 3 8]\n",
            "  [3 5 6 7 5 1 7 0]\n",
            "  [2 8 2 1 4 0 4 1]]]\n"
          ]
        }
      ]
    },
    {
      "cell_type": "code",
      "source": [
        "arr_vsplit = np.vsplit(arr,2)\n",
        "print(arr_vsplit)"
      ],
      "metadata": {
        "colab": {
          "base_uri": "https://localhost:8080/"
        },
        "id": "tT5yNbMNES4Y",
        "outputId": "c69433e3-8042-43e5-f346-fdda3d4bf9ad"
      },
      "execution_count": null,
      "outputs": [
        {
          "output_type": "stream",
          "name": "stdout",
          "text": [
            "[array([[[6, 5, 1, 9, 3, 4, 8, 1],\n",
            "        [4, 0, 3, 9, 2, 0, 4, 9],\n",
            "        [2, 7, 7, 9, 8, 6, 9, 3],\n",
            "        [7, 7, 4, 5, 9, 3, 6, 8],\n",
            "        [0, 2, 7, 7, 9, 7, 3, 0],\n",
            "        [8, 7, 7, 1, 1, 3, 0, 8]],\n",
            "\n",
            "       [[6, 4, 5, 6, 2, 5, 7, 8],\n",
            "        [4, 4, 7, 7, 4, 9, 0, 2],\n",
            "        [0, 7, 1, 7, 9, 8, 4, 0],\n",
            "        [1, 9, 8, 2, 3, 1, 2, 7],\n",
            "        [2, 6, 0, 9, 2, 6, 6, 2],\n",
            "        [7, 7, 0, 6, 5, 1, 4, 6]]]), array([[[0, 6, 5, 1, 2, 1, 5, 4],\n",
            "        [0, 7, 8, 9, 5, 7, 0, 9],\n",
            "        [3, 9, 1, 4, 4, 6, 8, 8],\n",
            "        [9, 2, 7, 5, 5, 4, 5, 8],\n",
            "        [5, 8, 1, 1, 8, 7, 0, 3],\n",
            "        [4, 2, 0, 3, 5, 1, 2, 4]],\n",
            "\n",
            "       [[3, 0, 6, 0, 7, 2, 8, 3],\n",
            "        [0, 8, 4, 2, 9, 0, 3, 8],\n",
            "        [1, 4, 3, 3, 6, 7, 3, 5],\n",
            "        [3, 2, 4, 4, 0, 3, 3, 8],\n",
            "        [3, 5, 6, 7, 5, 1, 7, 0],\n",
            "        [2, 8, 2, 1, 4, 0, 4, 1]]])]\n"
          ]
        }
      ]
    },
    {
      "cell_type": "code",
      "source": [
        "arr_hsplit = np.hsplit(arr,2)\n",
        "print(arr_hsplit)"
      ],
      "metadata": {
        "colab": {
          "base_uri": "https://localhost:8080/"
        },
        "id": "sfHi-pqcEeQE",
        "outputId": "d28df896-cf5a-4460-dfe9-35f14fdad699"
      },
      "execution_count": null,
      "outputs": [
        {
          "output_type": "stream",
          "name": "stdout",
          "text": [
            "[array([[[6, 5, 1, 9, 3, 4, 8, 1],\n",
            "        [4, 0, 3, 9, 2, 0, 4, 9],\n",
            "        [2, 7, 7, 9, 8, 6, 9, 3]],\n",
            "\n",
            "       [[6, 4, 5, 6, 2, 5, 7, 8],\n",
            "        [4, 4, 7, 7, 4, 9, 0, 2],\n",
            "        [0, 7, 1, 7, 9, 8, 4, 0]],\n",
            "\n",
            "       [[0, 6, 5, 1, 2, 1, 5, 4],\n",
            "        [0, 7, 8, 9, 5, 7, 0, 9],\n",
            "        [3, 9, 1, 4, 4, 6, 8, 8]],\n",
            "\n",
            "       [[3, 0, 6, 0, 7, 2, 8, 3],\n",
            "        [0, 8, 4, 2, 9, 0, 3, 8],\n",
            "        [1, 4, 3, 3, 6, 7, 3, 5]]]), array([[[7, 7, 4, 5, 9, 3, 6, 8],\n",
            "        [0, 2, 7, 7, 9, 7, 3, 0],\n",
            "        [8, 7, 7, 1, 1, 3, 0, 8]],\n",
            "\n",
            "       [[1, 9, 8, 2, 3, 1, 2, 7],\n",
            "        [2, 6, 0, 9, 2, 6, 6, 2],\n",
            "        [7, 7, 0, 6, 5, 1, 4, 6]],\n",
            "\n",
            "       [[9, 2, 7, 5, 5, 4, 5, 8],\n",
            "        [5, 8, 1, 1, 8, 7, 0, 3],\n",
            "        [4, 2, 0, 3, 5, 1, 2, 4]],\n",
            "\n",
            "       [[3, 2, 4, 4, 0, 3, 3, 8],\n",
            "        [3, 5, 6, 7, 5, 1, 7, 0],\n",
            "        [2, 8, 2, 1, 4, 0, 4, 1]]])]\n"
          ]
        }
      ]
    },
    {
      "cell_type": "markdown",
      "source": [
        "# 실습"
      ],
      "metadata": {
        "id": "HCXnWxq7ErZe"
      }
    },
    {
      "cell_type": "code",
      "source": [
        "# 원소가 모두 3인 (3,4,5)형태의 numpy.array를 출력하시오.\n",
        "np.ones(60).reshape(3,4,-1)*3\n",
        "arr = np.full((3,4,5),3)\n",
        "arr"
      ],
      "metadata": {
        "colab": {
          "base_uri": "https://localhost:8080/"
        },
        "id": "bUgJOL1pEswv",
        "outputId": "434350cf-d410-4fa5-f055-b0be95f437a0"
      },
      "execution_count": null,
      "outputs": [
        {
          "output_type": "execute_result",
          "data": {
            "text/plain": [
              "array([[[3, 3, 3, 3, 3],\n",
              "        [3, 3, 3, 3, 3],\n",
              "        [3, 3, 3, 3, 3],\n",
              "        [3, 3, 3, 3, 3]],\n",
              "\n",
              "       [[3, 3, 3, 3, 3],\n",
              "        [3, 3, 3, 3, 3],\n",
              "        [3, 3, 3, 3, 3],\n",
              "        [3, 3, 3, 3, 3]],\n",
              "\n",
              "       [[3, 3, 3, 3, 3],\n",
              "        [3, 3, 3, 3, 3],\n",
              "        [3, 3, 3, 3, 3],\n",
              "        [3, 3, 3, 3, 3]]])"
            ]
          },
          "metadata": {},
          "execution_count": 172
        }
      ]
    },
    {
      "cell_type": "code",
      "source": [
        "# 정수 -50~50의 범위 안의 난수로 이루어진(4,5)형태의 numpy.array를 출력하고\n",
        "## 행을 기준으로 오름차순 정렬한 결과와 전체배열을 1차원 배열로 변경하여 오름차순 정렬한\n",
        "##결과를 출력하시오.\n",
        "arr = np.random.randint(-50,50,(4,5))\n",
        "print(np.sort(arr,axis=0))\n",
        "print(np.sort(arr,axis=None))"
      ],
      "metadata": {
        "colab": {
          "base_uri": "https://localhost:8080/"
        },
        "id": "iIGtdffLE6z8",
        "outputId": "ce208b96-ebb6-478e-eb76-e4b9e213e95c"
      },
      "execution_count": null,
      "outputs": [
        {
          "output_type": "stream",
          "name": "stdout",
          "text": [
            "[[-28 -38 -37 -14 -47]\n",
            " [ 11 -28 -11   2 -27]\n",
            " [ 14  16  42  33  -2]\n",
            " [ 20  20  48  45   3]]\n",
            "[-47 -38 -37 -28 -28 -27 -14 -11  -2   2   3  11  14  16  20  20  33  42\n",
            "  45  48]\n"
          ]
        }
      ]
    },
    {
      "cell_type": "code",
      "source": [
        "# 파이썬 list가 존재한다\n",
        "## list 안에 있는 각 numpy.array의 원소들의 평균값과 표준편차,중앙값을 순서대로 구하여\n",
        "### 구한 순서대로 원소가 이루어진 새로운 list를 구성하고 출력하시오.\n",
        "py= [np.full(3,8),\n",
        "           np.array([33,-15,26]),\n",
        "           np.linspace(17,26,3)]\n",
        "result_arr = []\n",
        "for i in py:\n",
        "    result_arr.append(np.mean(i))\n",
        "    result_arr.append(np.std(i))\n",
        "    result_arr.append(np.median(i))\n",
        "print(result_arr)   "
      ],
      "metadata": {
        "colab": {
          "base_uri": "https://localhost:8080/"
        },
        "id": "6nJ1sgvcGJ8W",
        "outputId": "06b8cc44-9e55-4a7e-b603-b786c02b713f"
      },
      "execution_count": null,
      "outputs": [
        {
          "output_type": "stream",
          "name": "stdout",
          "text": [
            "[8.0, 0.0, 8.0, 14.666666666666666, 21.171259344267224, 26.0, 21.5, 3.6742346141747673, 21.5]\n"
          ]
        }
      ]
    },
    {
      "cell_type": "markdown",
      "source": [
        "#실습2"
      ],
      "metadata": {
        "id": "dcVvvES1G98Q"
      }
    },
    {
      "cell_type": "code",
      "source": [
        "#다음과 같은 numpy.array가 존재한다. 이배열을 행을 기준으로 3개의 배열로 분할하여\n",
        "##분할된 각 배열의 원소들을 제곱한 결과를 다시 원본 배열에 행을 기준으로 병합하시오.\n",
        "arr = np.arange(2,20,2).reshape((3,3))\n",
        "s1 = np.vsplit(arr,3)\n",
        "print(s1)\n",
        "s2 = np.square(s1)\n",
        "print(s2)\n",
        "s3 = np.squeeze(s2,axis=1)\n",
        "print(s3)\n",
        "result_arr = np.vstack((arr,s3))\n",
        "print(result_arr)"
      ],
      "metadata": {
        "colab": {
          "base_uri": "https://localhost:8080/"
        },
        "id": "7PKCCugfG6ZY",
        "outputId": "fed6a197-363e-49fc-bf87-3716365dafe6"
      },
      "execution_count": null,
      "outputs": [
        {
          "output_type": "stream",
          "name": "stdout",
          "text": [
            "[array([[2, 4, 6]]), array([[ 8, 10, 12]]), array([[14, 16, 18]])]\n",
            "[[[  4  16  36]]\n",
            "\n",
            " [[ 64 100 144]]\n",
            "\n",
            " [[196 256 324]]]\n",
            "[[  4  16  36]\n",
            " [ 64 100 144]\n",
            " [196 256 324]]\n",
            "[[  2   4   6]\n",
            " [  8  10  12]\n",
            " [ 14  16  18]\n",
            " [  4  16  36]\n",
            " [ 64 100 144]\n",
            " [196 256 324]]\n"
          ]
        }
      ]
    },
    {
      "cell_type": "code",
      "source": [
        "# 삼각함수의 특수각(0,30,60,90)을 numpy.array로 생성한후\n",
        "##특수각에 해당하는 sin,cos,tan 값을 각각 구하여\n",
        "### 파이썬 list에 담은 다음 해당 list에 들어있는 값들을 출력하시오.\n",
        "arr = np.arange(0,91,30)\n",
        "print(arr)\n",
        "\n",
        "lst = []\n",
        "lst.append(np.sin(arr*np.pi/180))\n",
        "lst.append(np.cos(arr*np.pi/180))\n",
        "lst.append(np.tan(arr*np.pi/180))\n",
        "\n",
        "for value_lst in lst:\n",
        "    for value in value_lst:\n",
        "        if value > 9999999999:\n",
        "          print('INF')\n",
        "        print(value)\n",
        "    print()    "
      ],
      "metadata": {
        "colab": {
          "base_uri": "https://localhost:8080/"
        },
        "id": "FyecV123H081",
        "outputId": "ca2340ab-de89-4095-9b10-f651ad6758eb"
      },
      "execution_count": null,
      "outputs": [
        {
          "output_type": "stream",
          "name": "stdout",
          "text": [
            "[ 0 30 60 90]\n",
            "0.0\n",
            "0.49999999999999994\n",
            "0.8660254037844386\n",
            "1.0\n",
            "\n",
            "1.0\n",
            "0.8660254037844387\n",
            "0.5000000000000001\n",
            "6.123233995736766e-17\n",
            "\n",
            "0.0\n",
            "0.5773502691896257\n",
            "1.7320508075688767\n",
            "INF\n",
            "1.633123935319537e+16\n",
            "\n"
          ]
        }
      ]
    },
    {
      "cell_type": "code",
      "source": [
        "# numpy.array를 이용하여 다음과 같은 패턴을 출력하시오.(반복문을 사용할것)\n",
        "arr = np.zeros((7,7),dtype=int)\n",
        "arr[::2,1::2] = 1\n",
        "arr[1::2,::2] = 1\n",
        "arr"
      ],
      "metadata": {
        "colab": {
          "base_uri": "https://localhost:8080/"
        },
        "id": "3naIdgJsIreI",
        "outputId": "2b506831-7167-43b1-afd7-18075be9c0a2"
      },
      "execution_count": null,
      "outputs": [
        {
          "output_type": "execute_result",
          "data": {
            "text/plain": [
              "array([[0, 1, 0, 1, 0, 1, 0],\n",
              "       [1, 0, 1, 0, 1, 0, 1],\n",
              "       [0, 1, 0, 1, 0, 1, 0],\n",
              "       [1, 0, 1, 0, 1, 0, 1],\n",
              "       [0, 1, 0, 1, 0, 1, 0],\n",
              "       [1, 0, 1, 0, 1, 0, 1],\n",
              "       [0, 1, 0, 1, 0, 1, 0]])"
            ]
          },
          "metadata": {},
          "execution_count": 209
        }
      ]
    }
  ]
}