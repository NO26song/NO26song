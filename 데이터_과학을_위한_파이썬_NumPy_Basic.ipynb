{
  "nbformat": 4,
  "nbformat_minor": 0,
  "metadata": {
    "colab": {
      "name": "데이터 과학을 위한 파이썬 NumPy Basic",
      "provenance": [],
      "collapsed_sections": [],
      "authorship_tag": "ABX9TyP0xdO2s6ssDemhpP1SJmpT",
      "include_colab_link": true
    },
    "kernelspec": {
      "name": "python3",
      "display_name": "Python 3"
    },
    "language_info": {
      "name": "python"
    }
  },
  "cells": [
    {
      "cell_type": "markdown",
      "metadata": {
        "id": "view-in-github",
        "colab_type": "text"
      },
      "source": [
        "<a href=\"https://colab.research.google.com/github/NO26song/NO26song/blob/main/%EB%8D%B0%EC%9D%B4%ED%84%B0_%EA%B3%BC%ED%95%99%EC%9D%84_%EC%9C%84%ED%95%9C_%ED%8C%8C%EC%9D%B4%EC%8D%AC_NumPy_Basic.ipynb\" target=\"_parent\"><img src=\"https://colab.research.google.com/assets/colab-badge.svg\" alt=\"Open In Colab\"/></a>"
      ]
    },
    {
      "cell_type": "code",
      "execution_count": 1,
      "metadata": {
        "id": "nZAaDN47s_2n"
      },
      "outputs": [],
      "source": [
        "import numpy as np\n",
        "import pandas as pd\n",
        "import matplotlib.pyplot as plt\n",
        "import seaborn as sns"
      ]
    },
    {
      "cell_type": "markdown",
      "source": [
        "# Section 1. N차원 배열(ndarray) 생성하기"
      ],
      "metadata": {
        "id": "yyfSwzmytuag"
      }
    },
    {
      "cell_type": "markdown",
      "source": [
        "## 1-1 N차원 배열(ndarray)생성하기"
      ],
      "metadata": {
        "id": "IppOD1_2nGFX"
      }
    },
    {
      "cell_type": "code",
      "source": [
        "#1차원 배열\n",
        "arr = np.array([1,2,3])\n",
        "print(\"1차원 배열:\",arr)\n",
        "print(\" \")\n",
        "# 2차원 배열\n",
        "arr1 = np.array([[1,2,3],[4,5,6]])\n",
        "print(\"2차원 배열:\",arr1)"
      ],
      "metadata": {
        "colab": {
          "base_uri": "https://localhost:8080/"
        },
        "id": "BGYwk10NtOKO",
        "outputId": "4ca100b6-1cba-4d7d-d81d-67bd2294fcdb"
      },
      "execution_count": 3,
      "outputs": [
        {
          "output_type": "stream",
          "name": "stdout",
          "text": [
            "1차원 배열: [1 2 3]\n",
            " \n",
            "2차원 배열: [[1 2 3]\n",
            " [4 5 6]]\n"
          ]
        }
      ]
    },
    {
      "cell_type": "code",
      "source": [
        "type(arr)"
      ],
      "metadata": {
        "colab": {
          "base_uri": "https://localhost:8080/"
        },
        "id": "PQhlGsk6t7Il",
        "outputId": "a8f9db0a-d6f7-46b1-ff46-bff67c3b3bb4"
      },
      "execution_count": 4,
      "outputs": [
        {
          "output_type": "execute_result",
          "data": {
            "text/plain": [
              "numpy.ndarray"
            ]
          },
          "metadata": {},
          "execution_count": 4
        }
      ]
    },
    {
      "cell_type": "code",
      "source": [
        "tpl = (4,5,6)\n",
        "arr = np.array(tpl)\n",
        "print(arr)\n",
        "\n",
        "lst = [1,2,3]\n",
        "arr1 = np.array(lst)\n",
        "print(arr1)\n",
        "\n",
        "lst2 = [[1,2,3],[4,5,6]]\n",
        "arr2 = np.array(lst2)\n",
        "print(arr2)"
      ],
      "metadata": {
        "colab": {
          "base_uri": "https://localhost:8080/"
        },
        "id": "q1Kt0x9bt-eW",
        "outputId": "a4d574ed-0969-4098-a804-3db85a955da6"
      },
      "execution_count": 5,
      "outputs": [
        {
          "output_type": "stream",
          "name": "stdout",
          "text": [
            "[4 5 6]\n",
            "[1 2 3]\n",
            "[[1 2 3]\n",
            " [4 5 6]]\n"
          ]
        }
      ]
    },
    {
      "cell_type": "code",
      "source": [
        "#shape\n",
        "arr1 = np.array([1,2,3])\n",
        "arr2 = np.array([[1,2,3],[4,5,6]])\n",
        "\n",
        "print(arr1.shape,arr2.shape)\n",
        "\n",
        "#ndim(차원)\n",
        "print(arr1.ndim,arr2.ndim)\n",
        "\n",
        "#size(원소 갯수)\n",
        "print(arr1.size,arr2.size)"
      ],
      "metadata": {
        "colab": {
          "base_uri": "https://localhost:8080/"
        },
        "id": "TmuX8w0muP8q",
        "outputId": "e59e3805-a341-478d-e223-20f1c50672f7"
      },
      "execution_count": 6,
      "outputs": [
        {
          "output_type": "stream",
          "name": "stdout",
          "text": [
            "(3,) (2, 3)\n",
            "1 2\n",
            "3 6\n"
          ]
        }
      ]
    },
    {
      "cell_type": "markdown",
      "source": [
        "##1-2 N차원 배열의 데이터 타입"
      ],
      "metadata": {
        "id": "5uIi9c-quufv"
      }
    },
    {
      "cell_type": "code",
      "source": [
        "arr = np.array([1,2,3],dtype=np.float)\n",
        "print(arr,arr.dtype)"
      ],
      "metadata": {
        "colab": {
          "base_uri": "https://localhost:8080/"
        },
        "id": "-lVnysEHuhH6",
        "outputId": "ae93757d-fb84-4a1d-ac63-f32acb62cfe9"
      },
      "execution_count": 9,
      "outputs": [
        {
          "output_type": "stream",
          "name": "stdout",
          "text": [
            "[1. 2. 3.] float64\n"
          ]
        },
        {
          "output_type": "stream",
          "name": "stderr",
          "text": [
            "/usr/local/lib/python3.7/dist-packages/ipykernel_launcher.py:1: DeprecationWarning: `np.float` is a deprecated alias for the builtin `float`. To silence this warning, use `float` by itself. Doing this will not modify any behavior and is safe. If you specifically wanted the numpy scalar type, use `np.float64` here.\n",
            "Deprecated in NumPy 1.20; for more details and guidance: https://numpy.org/devdocs/release/1.20.0-notes.html#deprecations\n",
            "  \"\"\"Entry point for launching an IPython kernel.\n"
          ]
        }
      ]
    },
    {
      "cell_type": "code",
      "source": [
        "arr = np.array([1.1,1.2,1.3],dtype=np.int)\n",
        "print(arr,arr.dtype)"
      ],
      "metadata": {
        "colab": {
          "base_uri": "https://localhost:8080/"
        },
        "id": "2N4-5Qpdu4hc",
        "outputId": "d45c8182-aabe-44d0-bcf3-c769644ee2cc"
      },
      "execution_count": 10,
      "outputs": [
        {
          "output_type": "stream",
          "name": "stdout",
          "text": [
            "[1 1 1] int64\n"
          ]
        },
        {
          "output_type": "stream",
          "name": "stderr",
          "text": [
            "/usr/local/lib/python3.7/dist-packages/ipykernel_launcher.py:1: DeprecationWarning: `np.int` is a deprecated alias for the builtin `int`. To silence this warning, use `int` by itself. Doing this will not modify any behavior and is safe. When replacing `np.int`, you may wish to use e.g. `np.int64` or `np.int32` to specify the precision. If you wish to review your current use, check the release note link for additional information.\n",
            "Deprecated in NumPy 1.20; for more details and guidance: https://numpy.org/devdocs/release/1.20.0-notes.html#deprecations\n",
            "  \"\"\"Entry point for launching an IPython kernel.\n"
          ]
        }
      ]
    },
    {
      "cell_type": "code",
      "source": [
        "#데이터 타입이 혼재하는 경우\n",
        "arr = np.array([1,2,3.4,\"64\"],dtype=int)\n",
        "print(arr,arr.dtype)\n",
        "#arr = np.array([1,2,3.4,\"64\",문자열],dtype=int) error 뜸\n",
        "#print(arr,arr.dtype)"
      ],
      "metadata": {
        "colab": {
          "base_uri": "https://localhost:8080/"
        },
        "id": "kujnQMD2vDLL",
        "outputId": "7f4dc0a6-4c0c-4414-f041-2e52a859ae1f"
      },
      "execution_count": null,
      "outputs": [
        {
          "output_type": "stream",
          "name": "stdout",
          "text": [
            "[ 1  2  3 64] int64\n"
          ]
        }
      ]
    },
    {
      "cell_type": "markdown",
      "source": [
        "## 1-3 정해진 형식의 N차원 배열 생성하기"
      ],
      "metadata": {
        "id": "SGHnBPZRvbtC"
      }
    },
    {
      "cell_type": "code",
      "source": [
        "#np.zeros\n",
        "arr = np.zeros([2,2])\n",
        "print(arr)\n",
        "\n",
        "#np.ones\n",
        "arr1 = np.ones([3,5])\n",
        "print(arr1)\n",
        "\n",
        "#np.full()\n",
        "arr2 = np.full((2,3),5)\n",
        "print(arr2)\n",
        "\n",
        "#np.eye()\n",
        "arr3 = np.eye(3,4,k=0) #1시작지점\n",
        "print(arr3)"
      ],
      "metadata": {
        "colab": {
          "base_uri": "https://localhost:8080/"
        },
        "id": "IpoXVxkIva0F",
        "outputId": "14618d4f-efb8-4132-8702-48bb50e45aca"
      },
      "execution_count": null,
      "outputs": [
        {
          "output_type": "stream",
          "name": "stdout",
          "text": [
            "[[0. 0.]\n",
            " [0. 0.]]\n",
            "[[1. 1. 1. 1. 1.]\n",
            " [1. 1. 1. 1. 1.]\n",
            " [1. 1. 1. 1. 1.]]\n",
            "[[5 5 5]\n",
            " [5 5 5]]\n",
            "[[1. 0. 0. 0.]\n",
            " [0. 1. 0. 0.]\n",
            " [0. 0. 1. 0.]]\n"
          ]
        }
      ]
    },
    {
      "cell_type": "code",
      "source": [
        "arr = np.array([[1,2,3],[4,5,6]])\n",
        "\n",
        "#np.zeros_like()\n",
        "arr_z = np.zeros_like(arr)\n",
        "print(arr_z)\n",
        "\n",
        "#np.ones_like()\n",
        "arr_0 = np.ones_like(arr)\n",
        "print(arr_0)\n",
        "\n",
        "#np.full_like()\n",
        "arr_f = np.full_like(arr,9)\n",
        "print(arr_f)"
      ],
      "metadata": {
        "colab": {
          "base_uri": "https://localhost:8080/"
        },
        "id": "IVF9fqs1vvn0",
        "outputId": "64854c4b-02ad-49e9-834f-c3fae024b61e"
      },
      "execution_count": 11,
      "outputs": [
        {
          "output_type": "stream",
          "name": "stdout",
          "text": [
            "[[0 0 0]\n",
            " [0 0 0]]\n",
            "[[1 1 1]\n",
            " [1 1 1]]\n",
            "[[9 9 9]\n",
            " [9 9 9]]\n"
          ]
        }
      ]
    },
    {
      "cell_type": "markdown",
      "source": [
        "## 1-4 특정 범위의 값을 가지는 N차원 배열 생성하기"
      ],
      "metadata": {
        "id": "lD2EonuVwb_b"
      }
    },
    {
      "cell_type": "code",
      "source": [
        "lst = list(range(0,9,2))\n",
        "lst"
      ],
      "metadata": {
        "colab": {
          "base_uri": "https://localhost:8080/"
        },
        "id": "VerbpHfTwLOr",
        "outputId": "76c191a4-815c-4453-dce6-32925dff4594"
      },
      "execution_count": 12,
      "outputs": [
        {
          "output_type": "execute_result",
          "data": {
            "text/plain": [
              "[0, 2, 4, 6, 8]"
            ]
          },
          "metadata": {},
          "execution_count": 12
        }
      ]
    },
    {
      "cell_type": "code",
      "source": [
        "arr = np.arange(9)\n",
        "print(arr)\n",
        "arr = np.arange(3,12)\n",
        "print(arr)\n",
        "arr = np.arange(3,13,3)\n",
        "print(arr)"
      ],
      "metadata": {
        "colab": {
          "base_uri": "https://localhost:8080/"
        },
        "id": "yDwchA3Twjfr",
        "outputId": "5c82a527-83a2-43e8-fd60-914b6cfd4ec1"
      },
      "execution_count": 13,
      "outputs": [
        {
          "output_type": "stream",
          "name": "stdout",
          "text": [
            "[0 1 2 3 4 5 6 7 8]\n",
            "[ 3  4  5  6  7  8  9 10 11]\n",
            "[ 3  6  9 12]\n"
          ]
        }
      ]
    },
    {
      "cell_type": "code",
      "source": [
        "#np.linspace()\n",
        "arr = np.linspace(0,100,11)\n",
        "print(arr)"
      ],
      "metadata": {
        "colab": {
          "base_uri": "https://localhost:8080/"
        },
        "id": "zWNX1gb0wrbO",
        "outputId": "ba6390e2-6d45-4efa-cd28-c6a8685a338c"
      },
      "execution_count": 14,
      "outputs": [
        {
          "output_type": "stream",
          "name": "stdout",
          "text": [
            "[  0.  10.  20.  30.  40.  50.  60.  70.  80.  90. 100.]\n"
          ]
        }
      ]
    },
    {
      "cell_type": "code",
      "source": [
        "#np.logspace()\n",
        "\n",
        "arr = np.linspace(1,10,10)\n",
        "print(arr, end='\\n\\n')\n",
        "\n",
        "arr = np.logspace(1,10,10,base=2) # base:로그의 밑 수\n",
        "print(arr)\n",
        "\n",
        "arr = np.logspace(1,10,10)\n",
        "print(arr)"
      ],
      "metadata": {
        "colab": {
          "base_uri": "https://localhost:8080/"
        },
        "id": "48wBKMU_xAjX",
        "outputId": "e7ef2714-b303-48a3-f879-da50d2e86a80"
      },
      "execution_count": 15,
      "outputs": [
        {
          "output_type": "stream",
          "name": "stdout",
          "text": [
            "[ 1.  2.  3.  4.  5.  6.  7.  8.  9. 10.]\n",
            "\n",
            "[   2.    4.    8.   16.   32.   64.  128.  256.  512. 1024.]\n",
            "[1.e+01 1.e+02 1.e+03 1.e+04 1.e+05 1.e+06 1.e+07 1.e+08 1.e+09 1.e+10]\n"
          ]
        }
      ]
    },
    {
      "cell_type": "markdown",
      "source": [
        "## 1-5 난수로 N차원 배열 생성하기"
      ],
      "metadata": {
        "id": "coKzO2W5xTdQ"
      }
    },
    {
      "cell_type": "code",
      "source": [
        "#np.random.normal() 정규분포\n",
        "# arr = np.random.normal(loc,scale,size)\n",
        "arr = np.random.normal(0,1,(2,3))\n",
        "print(arr)"
      ],
      "metadata": {
        "colab": {
          "base_uri": "https://localhost:8080/"
        },
        "id": "ujS3_F1vxPrJ",
        "outputId": "f5111a34-5658-4fc3-8379-0f69e425edb1"
      },
      "execution_count": null,
      "outputs": [
        {
          "output_type": "stream",
          "name": "stdout",
          "text": [
            "[[ 1.20682338  0.30723587 -1.37724397]\n",
            " [ 1.19145651 -0.20027806 -1.33457464]]\n"
          ]
        }
      ]
    },
    {
      "cell_type": "code",
      "source": [
        "arr = np.random.normal(0,1,1000) #np.random.normal(평균값,표준편차,표본의개수)\n",
        "plt.hist(arr,bins=100)\n",
        "plt.show()"
      ],
      "metadata": {
        "colab": {
          "base_uri": "https://localhost:8080/",
          "height": 265
        },
        "id": "pg7KDuuuxkBR",
        "outputId": "756f4be2-f7d2-4b12-e197-59e452021979"
      },
      "execution_count": 16,
      "outputs": [
        {
          "output_type": "display_data",
          "data": {
            "text/plain": [
              "<Figure size 432x288 with 1 Axes>"
            ],
            "image/png": "[encoded data removed]"
          },
          "metadata": {
            "needs_background": "light"
          }
        }
      ]
    },
    {
      "cell_type": "code",
      "source": [
        "#np.random.rand() 0~1 사이의 값을 균등한 비율로 표본 추출\n",
        "arr = np.random.rand(1000)\n",
        "plt.hist(arr,bins=100)\n",
        "plt.show()"
      ],
      "metadata": {
        "colab": {
          "base_uri": "https://localhost:8080/",
          "height": 265
        },
        "id": "6z3TthpTxtrh",
        "outputId": "b8f31afa-249a-4ab3-93d3-00e4eee6eed4"
      },
      "execution_count": 17,
      "outputs": [
        {
          "output_type": "display_data",
          "data": {
            "text/plain": [
              "<Figure size 432x288 with 1 Axes>"
            ],
            "image/png": "[encoded data removed]"
          },
          "metadata": {
            "needs_background": "light"
          }
        }
      ]
    },
    {
      "cell_type": "code",
      "source": [
        "#np.random.randn() -1~1 사이의 값을 정규분포(가우시안)로 추출\n",
        "arr = np.random.randn(1000)\n",
        "plt.hist(arr,bins=100)\n",
        "plt.show()"
      ],
      "metadata": {
        "colab": {
          "base_uri": "https://localhost:8080/",
          "height": 265
        },
        "id": "KL8Em4g6xxhs",
        "outputId": "b34d60d6-72af-4b44-a8b6-5c4dca85281f"
      },
      "execution_count": 18,
      "outputs": [
        {
          "output_type": "display_data",
          "data": {
            "text/plain": [
              "<Figure size 432x288 with 1 Axes>"
            ],
            "image/png": "[encoded data removed]"
          },
          "metadata": {
            "needs_background": "light"
          }
        }
      ]
    },
    {
      "cell_type": "code",
      "source": [
        "#np.random.randint() 랜덤한 정수만 추출\n",
        "arr = np.random.randint(low=1,high=5,size=10)\n",
        "print(arr)\n",
        "arr = np.random.randint(low=1,high=5,size=(3,4))\n",
        "print(arr)"
      ],
      "metadata": {
        "colab": {
          "base_uri": "https://localhost:8080/"
        },
        "id": "z1kCzdtOyFab",
        "outputId": "8e6e86fe-e1db-49cd-8ef0-0e22f450f96f"
      },
      "execution_count": 19,
      "outputs": [
        {
          "output_type": "stream",
          "name": "stdout",
          "text": [
            "[2 4 4 3 4 4 4 2 1 1]\n",
            "[[4 4 2 4]\n",
            " [4 3 4 4]\n",
            " [1 3 4 1]]\n"
          ]
        }
      ]
    },
    {
      "cell_type": "code",
      "source": [
        "arr = np.random.randint(100,200,1000)\n",
        "plt.hist(arr,100)\n",
        "plt.show()"
      ],
      "metadata": {
        "colab": {
          "base_uri": "https://localhost:8080/",
          "height": 265
        },
        "id": "oTpQXFlWyPuE",
        "outputId": "ed859c91-6ac1-4585-e19b-ff1928912436"
      },
      "execution_count": 20,
      "outputs": [
        {
          "output_type": "display_data",
          "data": {
            "text/plain": [
              "<Figure size 432x288 with 1 Axes>"
            ],
            "image/png": "[encoded data removed]"
          },
          "metadata": {
            "needs_background": "light"
          }
        }
      ]
    },
    {
      "cell_type": "markdown",
      "source": [
        "##1-6 시드(seed)값을 통한 난수 생성 제어"
      ],
      "metadata": {
        "id": "aUXnGSH7ygA9"
      }
    },
    {
      "cell_type": "code",
      "source": [
        "arr = np.random.rand(10)\n",
        "print('난수 발생1 \\n',arr)\n",
        "\n",
        "arr = np.random.rand(10)\n",
        "print('난수 발생2 \\n',arr)"
      ],
      "metadata": {
        "colab": {
          "base_uri": "https://localhost:8080/"
        },
        "id": "eyrWuSE_yj9z",
        "outputId": "31736d24-bdb3-418b-c134-52814dbafe5f"
      },
      "execution_count": 21,
      "outputs": [
        {
          "output_type": "stream",
          "name": "stdout",
          "text": [
            "난수 발생1 \n",
            " [0.4765801  0.5298152  0.36022158 0.8925521  0.56616722 0.88617368\n",
            " 0.1667808  0.5806763  0.9092783  0.18670004]\n",
            "난수 발생2 \n",
            " [0.67817255 0.4032168  0.98232422 0.69217014 0.27791666 0.59529836\n",
            " 0.53767339 0.6597556  0.99817252 0.9853812 ]\n"
          ]
        }
      ]
    },
    {
      "cell_type": "code",
      "source": [
        "np.random.seed(1)\n",
        "arr = np.random.rand(10)\n",
        "print('난수 발생 1\\n',arr)\n",
        "\n",
        "np.random.seed(1)\n",
        "arr = np.random.rand(10)\n",
        "print('난수 발생 2\\n',arr)"
      ],
      "metadata": {
        "colab": {
          "base_uri": "https://localhost:8080/"
        },
        "id": "wGgI7X-7yvj6",
        "outputId": "6a2a3aa3-730b-4b67-b261-0f1902ef45d1"
      },
      "execution_count": 22,
      "outputs": [
        {
          "output_type": "stream",
          "name": "stdout",
          "text": [
            "난수 발생 1\n",
            " [4.17022005e-01 7.20324493e-01 1.14374817e-04 3.02332573e-01\n",
            " 1.46755891e-01 9.23385948e-02 1.86260211e-01 3.45560727e-01\n",
            " 3.96767474e-01 5.38816734e-01]\n",
            "난수 발생 2\n",
            " [4.17022005e-01 7.20324493e-01 1.14374817e-04 3.02332573e-01\n",
            " 1.46755891e-01 9.23385948e-02 1.86260211e-01 3.45560727e-01\n",
            " 3.96767474e-01 5.38816734e-01]\n"
          ]
        }
      ]
    },
    {
      "cell_type": "markdown",
      "source": [
        "# Section 2.N차원 배열의 인덱싱"
      ],
      "metadata": {
        "id": "7-2aDq-cua1B"
      }
    },
    {
      "cell_type": "markdown",
      "source": [
        "### 2-1 배열의 index 접근하기"
      ],
      "metadata": {
        "id": "hAlOoe0Iy9mk"
      }
    },
    {
      "cell_type": "code",
      "source": [
        "#1차원 배열\n",
        "arr = np.array([0,1,2,3,4,5,6,7,8,9])\n",
        "arr = np.arange(10)\n",
        "print(arr)\n",
        "print(arr[3])\n",
        "print(arr[-1])\n",
        "print(arr[-10])"
      ],
      "metadata": {
        "colab": {
          "base_uri": "https://localhost:8080/"
        },
        "id": "UwELkC9Ay2qj",
        "outputId": "74a70501-6152-458b-eb6a-a743393ed21e"
      },
      "execution_count": 25,
      "outputs": [
        {
          "output_type": "stream",
          "name": "stdout",
          "text": [
            "[0 1 2 3 4 5 6 7 8 9]\n",
            "3\n",
            "9\n",
            "0\n"
          ]
        }
      ]
    },
    {
      "cell_type": "code",
      "source": [
        "arr = np.array([0,1,2,3,4,5,6,7,8,9])\n",
        "print(arr[3:8])\n",
        "print(arr[3:])\n",
        "print(arr[:7])\n",
        "print(arr[:-1])"
      ],
      "metadata": {
        "colab": {
          "base_uri": "https://localhost:8080/"
        },
        "id": "-B02qAHPvHQZ",
        "outputId": "9aebee6d-f2c6-4030-df9d-966f7c73296f"
      },
      "execution_count": 28,
      "outputs": [
        {
          "output_type": "stream",
          "name": "stdout",
          "text": [
            "[3 4 5 6 7]\n",
            "[3 4 5 6 7 8 9]\n",
            "[0 1 2 3 4 5 6]\n",
            "[0 1 2 3 4 5 6 7 8]\n"
          ]
        }
      ]
    },
    {
      "cell_type": "code",
      "source": [
        "arr = np.array([[1,2,3,4],\n",
        "                [5,6,7,8],\n",
        "                [9,10,11,12]])\n",
        "print(arr[0,:])\n",
        "print(arr[:,1])"
      ],
      "metadata": {
        "colab": {
          "base_uri": "https://localhost:8080/"
        },
        "id": "-Li9S4n_vdbN",
        "outputId": "7d192684-c0e1-450a-a84d-951daaccbb15"
      },
      "execution_count": 31,
      "outputs": [
        {
          "output_type": "stream",
          "name": "stdout",
          "text": [
            "[1 2 3 4]\n",
            "[ 2  6 10]\n"
          ]
        }
      ]
    },
    {
      "cell_type": "code",
      "source": [
        "# 2차원 배열\n",
        "arr = np.array([[1,2,3,4],[5,6,7,8],[9,10,11,12]])\n",
        "print(arr,arr.shape,arr.ndim)"
      ],
      "metadata": {
        "colab": {
          "base_uri": "https://localhost:8080/"
        },
        "id": "18AUEBCOz1kO",
        "outputId": "3af1f356-696f-4bfc-e44c-852c51547c35"
      },
      "execution_count": 29,
      "outputs": [
        {
          "output_type": "stream",
          "name": "stdout",
          "text": [
            "[[ 1  2  3  4]\n",
            " [ 5  6  7  8]\n",
            " [ 9 10 11 12]] (3, 4) 2\n"
          ]
        }
      ]
    },
    {
      "cell_type": "markdown",
      "source": [
        "##2-2 배열의 Fancy 인덱싱"
      ],
      "metadata": {
        "id": "XYlbpYe20zLC"
      }
    },
    {
      "cell_type": "code",
      "source": [
        "#1차원 배열\n",
        "arr = np.array([5,10,15,20,25,30])\n",
        "print(arr[[0,2,4]])"
      ],
      "metadata": {
        "colab": {
          "base_uri": "https://localhost:8080/"
        },
        "id": "RdbGkiyS0BGy",
        "outputId": "002f3f91-1f98-4939-a642-4a79d2c5a60f"
      },
      "execution_count": 32,
      "outputs": [
        {
          "output_type": "stream",
          "name": "stdout",
          "text": [
            "[ 5 15 25]\n"
          ]
        }
      ]
    },
    {
      "cell_type": "code",
      "source": [
        "# 2차원 배열\n",
        "arr = np.array([[5,10,15,20],[25,30,35,40],[45,50,55,60]])\n",
        "print(arr[[0,2],2:])\n",
        "print(\"\")\n",
        "print(arr[1:,[2,3]])"
      ],
      "metadata": {
        "colab": {
          "base_uri": "https://localhost:8080/"
        },
        "id": "ELaHfNf30_D2",
        "outputId": "95879def-f6ca-4aa9-dded-637b1740b4ca"
      },
      "execution_count": 33,
      "outputs": [
        {
          "output_type": "stream",
          "name": "stdout",
          "text": [
            "[[15 20]\n",
            " [55 60]]\n",
            "\n",
            "[[35 40]\n",
            " [55 60]]\n"
          ]
        }
      ]
    },
    {
      "cell_type": "markdown",
      "source": [
        "## 2-3 배열의 Bollean 인덱싱"
      ],
      "metadata": {
        "id": "9zJt74Ci1VMz"
      }
    },
    {
      "cell_type": "code",
      "source": [
        "arr = np.array([1,2,3,4])\n",
        "print(arr[[True,False,True,True]])"
      ],
      "metadata": {
        "colab": {
          "base_uri": "https://localhost:8080/"
        },
        "id": "kzEE3xHK1R2j",
        "outputId": "4acb6bb8-d41e-4c44-a5ba-7928fd383579"
      },
      "execution_count": 34,
      "outputs": [
        {
          "output_type": "stream",
          "name": "stdout",
          "text": [
            "[1 3 4]\n"
          ]
        }
      ]
    },
    {
      "cell_type": "code",
      "source": [
        "arr = np.array([[1,2,3,4],[5,6,7,8]])\n",
        "print(arr[[True,False],True])"
      ],
      "metadata": {
        "colab": {
          "base_uri": "https://localhost:8080/"
        },
        "id": "cS9R_zEF1bxJ",
        "outputId": "92c6b460-a524-4134-8770-2095a894c194"
      },
      "execution_count": 35,
      "outputs": [
        {
          "output_type": "stream",
          "name": "stdout",
          "text": [
            "[[1 2 3 4]]\n"
          ]
        }
      ]
    },
    {
      "cell_type": "code",
      "source": [
        "arr = np.array([[1,2,3,4],[5,6,7,8]])\n",
        "print(arr[arr > 3])\n",
        "print(arr[arr <=2])"
      ],
      "metadata": {
        "colab": {
          "base_uri": "https://localhost:8080/"
        },
        "id": "2yBheyZn1n3j",
        "outputId": "c8da4a60-bd58-4fbf-d872-0581b6be294b"
      },
      "execution_count": 36,
      "outputs": [
        {
          "output_type": "stream",
          "name": "stdout",
          "text": [
            "[4 5 6 7 8]\n",
            "[1 2]\n"
          ]
        }
      ]
    },
    {
      "cell_type": "markdown",
      "source": [
        "# Section 3.N차원 배열 연산법"
      ],
      "metadata": {
        "id": "dobMY4Hb7FgN"
      }
    },
    {
      "cell_type": "markdown",
      "source": [
        "##3-1 배열의 연산1: 사칙연산/제곱/몫/나머지"
      ],
      "metadata": {
        "id": "XOdbX7491wyw"
      }
    },
    {
      "cell_type": "code",
      "source": [
        "arr1 = np.array([[1,2,3],[4,5,6],[7,8,9]])\n",
        "arr2 = np.array([[2,2,2],[2,2,2],[2,2,2]])\n",
        "print(arr1)\n",
        "print(arr2)"
      ],
      "metadata": {
        "colab": {
          "base_uri": "https://localhost:8080/"
        },
        "id": "3iTKMLK51uVi",
        "outputId": "506d2e07-e8be-41c5-c107-b2d86b8b4791"
      },
      "execution_count": 37,
      "outputs": [
        {
          "output_type": "stream",
          "name": "stdout",
          "text": [
            "[[1 2 3]\n",
            " [4 5 6]\n",
            " [7 8 9]]\n",
            "[[2 2 2]\n",
            " [2 2 2]\n",
            " [2 2 2]]\n"
          ]
        }
      ]
    },
    {
      "cell_type": "code",
      "source": [
        "#덧셈\n",
        "print(arr1+arr2)\n",
        "print(\" \")\n",
        "print(np.add(arr1,arr2))"
      ],
      "metadata": {
        "colab": {
          "base_uri": "https://localhost:8080/"
        },
        "id": "hQ9E4kMo2BHP",
        "outputId": "df4737b9-2649-43fd-9169-0c12af2cc5fa"
      },
      "execution_count": 40,
      "outputs": [
        {
          "output_type": "stream",
          "name": "stdout",
          "text": [
            "[[ 3  4  5]\n",
            " [ 6  7  8]\n",
            " [ 9 10 11]]\n",
            " \n",
            "[[ 3  4  5]\n",
            " [ 6  7  8]\n",
            " [ 9 10 11]]\n"
          ]
        }
      ]
    },
    {
      "cell_type": "code",
      "source": [
        "#뺄셈\n",
        "print(arr1 - arr2)\n",
        "print(\" \")\n",
        "print(np.subtract(arr1,arr2))"
      ],
      "metadata": {
        "colab": {
          "base_uri": "https://localhost:8080/"
        },
        "id": "z8ARGw192OLv",
        "outputId": "9400d929-75da-4068-c1e5-37fda3f84771"
      },
      "execution_count": 41,
      "outputs": [
        {
          "output_type": "stream",
          "name": "stdout",
          "text": [
            "[[-1  0  1]\n",
            " [ 2  3  4]\n",
            " [ 5  6  7]]\n",
            " \n",
            "[[-1  0  1]\n",
            " [ 2  3  4]\n",
            " [ 5  6  7]]\n"
          ]
        }
      ]
    },
    {
      "cell_type": "code",
      "source": [
        "#곱셈\n",
        "print(arr1*arr2)\n",
        "print(np.multiply(arr1,arr2))"
      ],
      "metadata": {
        "colab": {
          "base_uri": "https://localhost:8080/"
        },
        "id": "tc59NzXh2W6g",
        "outputId": "6209c640-5b65-4b27-ef6f-9994d9484111"
      },
      "execution_count": 42,
      "outputs": [
        {
          "output_type": "stream",
          "name": "stdout",
          "text": [
            "[[ 2  4  6]\n",
            " [ 8 10 12]\n",
            " [14 16 18]]\n",
            "[[ 2  4  6]\n",
            " [ 8 10 12]\n",
            " [14 16 18]]\n"
          ]
        }
      ]
    },
    {
      "cell_type": "code",
      "source": [
        "#나눗셈\n",
        "print(arr1/arr2)\n",
        "print(np.divide(arr1,arr2))"
      ],
      "metadata": {
        "colab": {
          "base_uri": "https://localhost:8080/"
        },
        "id": "b20H15N12axH",
        "outputId": "0ad2b1c0-980e-4907-a631-5221a4d80af7"
      },
      "execution_count": 43,
      "outputs": [
        {
          "output_type": "stream",
          "name": "stdout",
          "text": [
            "[[0.5 1.  1.5]\n",
            " [2.  2.5 3. ]\n",
            " [3.5 4.  4.5]]\n",
            "[[0.5 1.  1.5]\n",
            " [2.  2.5 3. ]\n",
            " [3.5 4.  4.5]]\n"
          ]
        }
      ]
    },
    {
      "cell_type": "code",
      "source": [
        "#제곱\n",
        "print(arr1 ** 5)\n",
        "print(np.square(arr1))\n",
        "\n",
        "#제곱근\n",
        "print(np.sqrt(arr1))"
      ],
      "metadata": {
        "colab": {
          "base_uri": "https://localhost:8080/"
        },
        "id": "XPGVuh5J2i2n",
        "outputId": "70462131-6fcc-4867-ac01-369df4cbabe0"
      },
      "execution_count": 44,
      "outputs": [
        {
          "output_type": "stream",
          "name": "stdout",
          "text": [
            "[[    1    32   243]\n",
            " [ 1024  3125  7776]\n",
            " [16807 32768 59049]]\n",
            "[[ 1  4  9]\n",
            " [16 25 36]\n",
            " [49 64 81]]\n",
            "[[1.         1.41421356 1.73205081]\n",
            " [2.         2.23606798 2.44948974]\n",
            " [2.64575131 2.82842712 3.        ]]\n"
          ]
        }
      ]
    },
    {
      "cell_type": "code",
      "source": [
        "#몫\n",
        "print(arr1//2)\n",
        "\n",
        "#나머지\n",
        "print(arr1 % 2)"
      ],
      "metadata": {
        "colab": {
          "base_uri": "https://localhost:8080/"
        },
        "id": "YtY-dt6m2qNP",
        "outputId": "a636e798-bc3a-4e72-de52-ccc587bf92d1"
      },
      "execution_count": null,
      "outputs": [
        {
          "output_type": "stream",
          "name": "stdout",
          "text": [
            "[[0 1 1]\n",
            " [2 2 3]\n",
            " [3 4 4]]\n",
            "[[1 0 1]\n",
            " [0 1 0]\n",
            " [1 0 1]]\n"
          ]
        }
      ]
    },
    {
      "cell_type": "markdown",
      "source": [
        "## 3-2 배열의연산2:내적(dot product)/절댓값/올림/내림/반올림/버림"
      ],
      "metadata": {
        "id": "cILvP-7k2zp3"
      }
    },
    {
      "cell_type": "code",
      "source": [
        "# 1차원 행렬\n",
        "arr1 = np.array([2,3,4])\n",
        "arr2 = np.array([1,2,3])\n",
        "\n",
        "print(np.dot(arr1,arr2))"
      ],
      "metadata": {
        "colab": {
          "base_uri": "https://localhost:8080/"
        },
        "id": "SDW9OpYQ2u0u",
        "outputId": "209de63b-6e80-46f4-936d-68c7a7cda171"
      },
      "execution_count": 45,
      "outputs": [
        {
          "output_type": "stream",
          "name": "stdout",
          "text": [
            "20\n"
          ]
        }
      ]
    },
    {
      "cell_type": "code",
      "source": [
        "#2차원 행렬\n",
        "arr1 = np.array([[1,2],[3,4]])\n",
        "arr2 = np.array([[1,2],[0,3]])\n",
        "print(np.dot(arr1,arr2))\n",
        "print(\" \")\n",
        "print(arr1 @ arr2)"
      ],
      "metadata": {
        "colab": {
          "base_uri": "https://localhost:8080/"
        },
        "id": "r6Bkj5Xd2_EE",
        "outputId": "a39c3a25-3269-4dc7-f9d9-ee1a0a469f11"
      },
      "execution_count": 48,
      "outputs": [
        {
          "output_type": "stream",
          "name": "stdout",
          "text": [
            "[[ 1  8]\n",
            " [ 3 18]]\n",
            " \n",
            "[[ 1  8]\n",
            " [ 3 18]]\n"
          ]
        }
      ]
    },
    {
      "cell_type": "code",
      "source": [
        "#절댓값\n",
        "arr1 = np.array([[1,-2],[-4,5]])\n",
        "print(np.abs(arr1))"
      ],
      "metadata": {
        "colab": {
          "base_uri": "https://localhost:8080/"
        },
        "id": "0hp2jgYq3Own",
        "outputId": "e8972bf4-9914-49df-8dbe-7e91bb4d4324"
      },
      "execution_count": 49,
      "outputs": [
        {
          "output_type": "stream",
          "name": "stdout",
          "text": [
            "[[1 2]\n",
            " [4 5]]\n"
          ]
        }
      ]
    },
    {
      "cell_type": "code",
      "source": [
        "#올림\n",
        "arr1 = np.array([[1.932,-2.339],[-4.145,5.206]])\n",
        "print(np.ceil(arr1))\n",
        "\n",
        "#내림\n",
        "print(np.floor(arr1))\n",
        "\n",
        "#반올림\n",
        "print(np.round(arr1))\n",
        "\n",
        "#버림\n",
        "print(np.trunc(arr1))"
      ],
      "metadata": {
        "colab": {
          "base_uri": "https://localhost:8080/"
        },
        "id": "bZ9C9I9C3bUa",
        "outputId": "7fcbfa9d-e7c6-4a34-de4b-2b77e8a49624"
      },
      "execution_count": 50,
      "outputs": [
        {
          "output_type": "stream",
          "name": "stdout",
          "text": [
            "[[ 2. -2.]\n",
            " [-4.  6.]]\n",
            "[[ 1. -3.]\n",
            " [-5.  5.]]\n",
            "[[ 2. -2.]\n",
            " [-4.  5.]]\n",
            "[[ 1. -2.]\n",
            " [-4.  5.]]\n"
          ]
        }
      ]
    },
    {
      "cell_type": "markdown",
      "source": [
        "## 3-3 배열의 연산3:min/max/mean/std/cumsum/median"
      ],
      "metadata": {
        "id": "SRFl_Fxi3umg"
      }
    },
    {
      "cell_type": "code",
      "source": [
        "arr = np.array([[1,2,3],[0,1,4]])"
      ],
      "metadata": {
        "id": "kPKNkeQ63nBk"
      },
      "execution_count": 51,
      "outputs": []
    },
    {
      "cell_type": "code",
      "source": [
        "# min()\n",
        "print(np.min(arr))\n",
        "print(arr.min())\n",
        "print(arr.min(axis=0))"
      ],
      "metadata": {
        "colab": {
          "base_uri": "https://localhost:8080/"
        },
        "id": "tkEjl72i31sv",
        "outputId": "9f55788d-e9b2-4234-a388-2e1ecde5d945"
      },
      "execution_count": 52,
      "outputs": [
        {
          "output_type": "stream",
          "name": "stdout",
          "text": [
            "0\n",
            "0\n",
            "[0 1 3]\n"
          ]
        }
      ]
    },
    {
      "cell_type": "code",
      "source": [
        "#max()\n",
        "print(np.max(arr))\n",
        "print(arr.max(axis=1))"
      ],
      "metadata": {
        "colab": {
          "base_uri": "https://localhost:8080/"
        },
        "id": "Q-wgpheI348b",
        "outputId": "a9c2ba39-6469-4443-e719-37faeea8cb7d"
      },
      "execution_count": 53,
      "outputs": [
        {
          "output_type": "stream",
          "name": "stdout",
          "text": [
            "4\n",
            "[3 4]\n"
          ]
        }
      ]
    },
    {
      "cell_type": "code",
      "source": [
        "#sum()\n",
        "print(np.sum(arr))\n",
        "print(arr.sum(axis=1))"
      ],
      "metadata": {
        "colab": {
          "base_uri": "https://localhost:8080/"
        },
        "id": "6h5vMHkH4jBc",
        "outputId": "172aa845-9e0f-472a-ea79-c5663c113a7e"
      },
      "execution_count": 54,
      "outputs": [
        {
          "output_type": "stream",
          "name": "stdout",
          "text": [
            "11\n",
            "[6 5]\n"
          ]
        }
      ]
    },
    {
      "cell_type": "code",
      "source": [
        "#mean()\n",
        "print(np.mean(arr))\n",
        "print(arr.mean(axis=1))"
      ],
      "metadata": {
        "colab": {
          "base_uri": "https://localhost:8080/"
        },
        "id": "hHIJpuQL4mYT",
        "outputId": "e9ce0b20-4ce5-4e89-f03e-b1e02ade08e1"
      },
      "execution_count": 55,
      "outputs": [
        {
          "output_type": "stream",
          "name": "stdout",
          "text": [
            "1.8333333333333333\n",
            "[2.         1.66666667]\n"
          ]
        }
      ]
    },
    {
      "cell_type": "code",
      "source": [
        "#std()\n",
        "print(np.std(arr))\n",
        "print(arr.std(axis=1))\n",
        "\n",
        "#cumsum()\n",
        "print(np.cumsum(arr))\n",
        "print(arr.cumsum(axis=0))"
      ],
      "metadata": {
        "colab": {
          "base_uri": "https://localhost:8080/"
        },
        "id": "EVDJGs054t-w",
        "outputId": "dfb623cb-4d12-4a15-eaf9-918a08e2f4c0"
      },
      "execution_count": 56,
      "outputs": [
        {
          "output_type": "stream",
          "name": "stdout",
          "text": [
            "1.343709624716425\n",
            "[0.81649658 1.69967317]\n",
            "[ 1  3  6  6  7 11]\n",
            "[[1 2 3]\n",
            " [1 3 7]]\n"
          ]
        }
      ]
    },
    {
      "cell_type": "code",
      "source": [
        "#median()\n",
        "print(np.median(arr))"
      ],
      "metadata": {
        "colab": {
          "base_uri": "https://localhost:8080/"
        },
        "id": "1AnF3Blf47WP",
        "outputId": "22e159cb-368b-49b1-b0bc-5e48fc848e22"
      },
      "execution_count": 57,
      "outputs": [
        {
          "output_type": "stream",
          "name": "stdout",
          "text": [
            "1.5\n"
          ]
        }
      ]
    },
    {
      "cell_type": "markdown",
      "source": [
        "##3-4배열의연산4:비교연산/삼각함수"
      ],
      "metadata": {
        "id": "ZPFYhTC85PuP"
      }
    },
    {
      "cell_type": "code",
      "source": [
        "#비교연산\n",
        "arr1 = np.array([[1,2,3],[4,5,6]])\n",
        "arr2 = np.array([[1,0,3],[4,-2,9]])\n",
        "print(arr1==arr2)\n",
        "print(np.array_equal(arr1,arr2))"
      ],
      "metadata": {
        "colab": {
          "base_uri": "https://localhost:8080/"
        },
        "id": "AEN6GwkH5SpG",
        "outputId": "46216a50-b97f-48ab-aec7-62de723ab5e5"
      },
      "execution_count": 58,
      "outputs": [
        {
          "output_type": "stream",
          "name": "stdout",
          "text": [
            "[[ True False  True]\n",
            " [ True False False]]\n",
            "False\n"
          ]
        }
      ]
    },
    {
      "cell_type": "code",
      "source": [
        "#삼각함수\n",
        "arr = np.array([[1,2,3],[4,5,6]])\n",
        "\n",
        "#sin()\n",
        "print(np.sin(arr))\n",
        "\n",
        "#cos()\n",
        "print(np.cos(arr))\n",
        "\n",
        "#tan()\n",
        "print(np.tan(arr))\n",
        "#pi\n",
        "print(np.pi)"
      ],
      "metadata": {
        "colab": {
          "base_uri": "https://localhost:8080/"
        },
        "id": "Q6GWHJFh5eAR",
        "outputId": "5a9437f2-5f43-4af6-d9f0-09d559717dc7"
      },
      "execution_count": 59,
      "outputs": [
        {
          "output_type": "stream",
          "name": "stdout",
          "text": [
            "[[ 0.84147098  0.90929743  0.14112001]\n",
            " [-0.7568025  -0.95892427 -0.2794155 ]]\n",
            "[[ 0.54030231 -0.41614684 -0.9899925 ]\n",
            " [-0.65364362  0.28366219  0.96017029]]\n",
            "[[ 1.55740772 -2.18503986 -0.14254654]\n",
            " [ 1.15782128 -3.38051501 -0.29100619]]\n",
            "3.141592653589793\n"
          ]
        }
      ]
    },
    {
      "cell_type": "markdown",
      "source": [
        "## 3-5 브로드캐스팅"
      ],
      "metadata": {
        "id": "JKqAGEIa5uW8"
      }
    },
    {
      "cell_type": "code",
      "source": [
        "arr1 = np.array([[0,0,0],[1,1,1],[2,2,2]])\n",
        "arr2 = np.array([[5,6,7]])\n",
        "\n",
        "print(arr1+arr2)\n",
        "\n",
        "arr1 = np.array([[1,1,1]])\n",
        "arr2 = np.array([[0],[1],[2]])\n",
        "\n",
        "print(arr1+arr2)"
      ],
      "metadata": {
        "colab": {
          "base_uri": "https://localhost:8080/"
        },
        "id": "3dkcZUvE55m7",
        "outputId": "cf277e9e-9bfe-4b07-8761-fa9accb8f076"
      },
      "execution_count": 60,
      "outputs": [
        {
          "output_type": "stream",
          "name": "stdout",
          "text": [
            "[[5 6 7]\n",
            " [6 7 8]\n",
            " [7 8 9]]\n",
            "[[1 1 1]\n",
            " [2 2 2]\n",
            " [3 3 3]]\n"
          ]
        }
      ]
    },
    {
      "cell_type": "markdown",
      "source": [
        "## 3-6 백터 연산의 장점"
      ],
      "metadata": {
        "id": "OYChJT9B5ueD"
      }
    },
    {
      "cell_type": "code",
      "source": [
        "import time"
      ],
      "metadata": {
        "id": "12f6OrEo6eOp"
      },
      "execution_count": 61,
      "outputs": []
    },
    {
      "cell_type": "code",
      "source": [
        "arr1 = np.arange(99999999)\n",
        "arr2 = np.arange(99999999)"
      ],
      "metadata": {
        "id": "Gkc8WA2D6heO"
      },
      "execution_count": 67,
      "outputs": []
    },
    {
      "cell_type": "code",
      "source": [
        "sum = 0;\n",
        "before = time.time()\n",
        "for i in arr:\n",
        "     sum+= i\n",
        "after = time.time()\n",
        "print(sum,after-before,'초')     "
      ],
      "metadata": {
        "colab": {
          "base_uri": "https://localhost:8080/"
        },
        "id": "vDclbxKz6jan",
        "outputId": "21454793-0e42-470c-b53c-e444a287e58b"
      },
      "execution_count": 63,
      "outputs": [
        {
          "output_type": "stream",
          "name": "stdout",
          "text": [
            "4999999850000001 18.553375005722046 초\n"
          ]
        }
      ]
    },
    {
      "cell_type": "code",
      "source": [
        "#백터 연산\n",
        "before = time.time()\n",
        "sum = np.sum(arr)\n",
        "after = time.time()\n",
        "print(sum,after-before,'초')"
      ],
      "metadata": {
        "colab": {
          "base_uri": "https://localhost:8080/"
        },
        "id": "CsQq95aq6yed",
        "outputId": "29b65d06-886c-416f-cd83-bde1c2fa8da9"
      },
      "execution_count": 64,
      "outputs": [
        {
          "output_type": "stream",
          "name": "stdout",
          "text": [
            "4999999850000001 0.10639071464538574 초\n"
          ]
        }
      ]
    },
    {
      "cell_type": "code",
      "source": [
        "sum = 0\n",
        "before = time.time()\n",
        "for i,j in zip(arr1,arr2):\n",
        "    sum += i*j\n",
        "after = time.time()\n",
        "print(sum,after-before,'초')    "
      ],
      "metadata": {
        "colab": {
          "base_uri": "https://localhost:8080/"
        },
        "id": "SKE74avI679y",
        "outputId": "8287256d-e2a3-42bc-e4f6-57d3b169aa42"
      },
      "execution_count": 68,
      "outputs": [
        {
          "output_type": "stream",
          "name": "stderr",
          "text": [
            "/usr/local/lib/python3.7/dist-packages/ipykernel_launcher.py:4: RuntimeWarning: overflow encountered in long_scalars\n",
            "  after removing the cwd from sys.path.\n"
          ]
        },
        {
          "output_type": "stream",
          "name": "stdout",
          "text": [
            "652921401952298879 31.293764114379883 초\n"
          ]
        }
      ]
    },
    {
      "cell_type": "code",
      "source": [
        "#백터연산\n",
        "before = time.time()\n",
        "sum = np.dot(arr1,arr2)\n",
        "after = time.time()\n",
        "print(sum,after-before,'초')"
      ],
      "metadata": {
        "colab": {
          "base_uri": "https://localhost:8080/"
        },
        "id": "OEh3_2Ck7KZb",
        "outputId": "48c23d28-cc83-4482-98cf-a924963753e6"
      },
      "execution_count": 69,
      "outputs": [
        {
          "output_type": "stream",
          "name": "stdout",
          "text": [
            "652921401952298879 0.17133045196533203 초\n"
          ]
        }
      ]
    },
    {
      "cell_type": "markdown",
      "source": [
        "# Section 4.N차원 배열 정렬"
      ],
      "metadata": {
        "id": "9KCHpXbI7Lh2"
      }
    },
    {
      "cell_type": "markdown",
      "source": [
        "## 4-1. 1차원 배열의 정렬"
      ],
      "metadata": {
        "id": "iNE7v42x7cCM"
      }
    },
    {
      "cell_type": "code",
      "source": [
        "arr = np.random.randint(10,size=10)\n",
        "print(arr)"
      ],
      "metadata": {
        "colab": {
          "base_uri": "https://localhost:8080/"
        },
        "id": "pKCrc_OL7UXe",
        "outputId": "a501940a-e3c0-4147-923c-e1de52a6d0cd"
      },
      "execution_count": 70,
      "outputs": [
        {
          "output_type": "stream",
          "name": "stdout",
          "text": [
            "[5 2 4 2 4 7 7 9 1 7]\n"
          ]
        }
      ]
    },
    {
      "cell_type": "code",
      "source": [
        "print(np.sort(arr))\n",
        "print(np.sort(arr)[::-1])"
      ],
      "metadata": {
        "colab": {
          "base_uri": "https://localhost:8080/"
        },
        "id": "8yV3szQp7ipN",
        "outputId": "82d84f2f-4d9e-449e-952b-7cd41896b013"
      },
      "execution_count": 71,
      "outputs": [
        {
          "output_type": "stream",
          "name": "stdout",
          "text": [
            "[1 2 2 4 4 5 7 7 7 9]\n",
            "[9 7 7 7 5 4 4 2 2 1]\n"
          ]
        }
      ]
    },
    {
      "cell_type": "code",
      "source": [
        "arr = np.sort(arr)"
      ],
      "metadata": {
        "id": "-SFa-io97kJb"
      },
      "execution_count": 72,
      "outputs": []
    },
    {
      "cell_type": "markdown",
      "source": [
        "## 4-2 2차원 배열의 정렬"
      ],
      "metadata": {
        "id": "WfK3GbE070DO"
      }
    },
    {
      "cell_type": "code",
      "source": [
        "arr = np.random.randint(15,size=(3,4))\n",
        "print(arr)"
      ],
      "metadata": {
        "colab": {
          "base_uri": "https://localhost:8080/"
        },
        "id": "YtgS8nPh716V",
        "outputId": "d49092cd-58dd-4fc9-c792-ddf0d1de7273"
      },
      "execution_count": 74,
      "outputs": [
        {
          "output_type": "stream",
          "name": "stdout",
          "text": [
            "[[12  1  8  8]\n",
            " [13  3 10  9]\n",
            " [ 8 14  7  3]]\n"
          ]
        }
      ]
    },
    {
      "cell_type": "code",
      "source": [
        "print(np.sort(arr,axis=None))"
      ],
      "metadata": {
        "colab": {
          "base_uri": "https://localhost:8080/"
        },
        "id": "_RNHiWsY76Mq",
        "outputId": "b6f2b55d-8e34-4936-c29c-a124b61e089e"
      },
      "execution_count": 75,
      "outputs": [
        {
          "output_type": "stream",
          "name": "stdout",
          "text": [
            "[ 1  3  3  7  8  8  8  9 10 12 13 14]\n"
          ]
        }
      ]
    },
    {
      "cell_type": "code",
      "source": [
        "# argsort()\n",
        "print(np.sort(arr,axis=1))\n",
        "print(np.argsort(arr,axis=1))"
      ],
      "metadata": {
        "colab": {
          "base_uri": "https://localhost:8080/"
        },
        "id": "nxjC_hZO8BXp",
        "outputId": "6dd0138c-00e3-4be4-90b8-5719b2745a35"
      },
      "execution_count": 76,
      "outputs": [
        {
          "output_type": "stream",
          "name": "stdout",
          "text": [
            "[[ 1  8  8 12]\n",
            " [ 3  9 10 13]\n",
            " [ 3  7  8 14]]\n",
            "[[1 2 3 0]\n",
            " [1 3 2 0]\n",
            " [3 2 0 1]]\n"
          ]
        }
      ]
    },
    {
      "cell_type": "markdown",
      "source": [
        "# Section 5.N차원 배열의 형태 변경"
      ],
      "metadata": {
        "id": "Kfa4ehtB7Qvc"
      }
    },
    {
      "cell_type": "markdown",
      "source": [
        "## 5-1 배열의 형태 변경1:reshape()"
      ],
      "metadata": {
        "id": "V3o4mr7n8ahu"
      }
    },
    {
      "cell_type": "code",
      "source": [
        "arr = np.arange(12)\n",
        "print(arr,arr.ndim)\n",
        "\n",
        "arr = arr.reshape(3,4)\n",
        "print(arr,arr.ndim)"
      ],
      "metadata": {
        "colab": {
          "base_uri": "https://localhost:8080/"
        },
        "id": "fWTBpw96_hi0",
        "outputId": "b0b29a4e-204d-4cd1-d4e4-7c24013ef8e6"
      },
      "execution_count": 78,
      "outputs": [
        {
          "output_type": "stream",
          "name": "stdout",
          "text": [
            "[ 0  1  2  3  4  5  6  7  8  9 10 11] 1\n",
            "[[ 0  1  2  3]\n",
            " [ 4  5  6  7]\n",
            " [ 8  9 10 11]] 2\n"
          ]
        }
      ]
    },
    {
      "cell_type": "markdown",
      "source": [
        "## 5-1 배열의 형태 변경2:resize(),ravel()"
      ],
      "metadata": {
        "id": "3jh78tMh_9_5"
      }
    },
    {
      "cell_type": "code",
      "source": [
        "arr = np.arange(12)\n",
        "print(arr)"
      ],
      "metadata": {
        "colab": {
          "base_uri": "https://localhost:8080/"
        },
        "id": "k4se3KKf_kKA",
        "outputId": "399f973a-bbda-4ccb-e394-206fcb742b88"
      },
      "execution_count": 79,
      "outputs": [
        {
          "output_type": "stream",
          "name": "stdout",
          "text": [
            "[ 0  1  2  3  4  5  6  7  8  9 10 11]\n"
          ]
        }
      ]
    },
    {
      "cell_type": "code",
      "source": [
        "arr.resize(3,4)\n",
        "print(arr)\n",
        "\n",
        "arr = arr.ravel() # 1차원 배열로 변경\n",
        "print(arr)"
      ],
      "metadata": {
        "colab": {
          "base_uri": "https://localhost:8080/"
        },
        "id": "c6nyD-o4AIo8",
        "outputId": "aa9a24a3-8fee-46b3-e33d-c14cc1926065"
      },
      "execution_count": 80,
      "outputs": [
        {
          "output_type": "stream",
          "name": "stdout",
          "text": [
            "[[ 0  1  2  3]\n",
            " [ 4  5  6  7]\n",
            " [ 8  9 10 11]]\n",
            "[ 0  1  2  3  4  5  6  7  8  9 10 11]\n"
          ]
        }
      ]
    },
    {
      "cell_type": "code",
      "source": [
        "arr = np.arange(1,13)\n",
        "print(arr)\n",
        "\n",
        "arr = arr.reshape(3,-1) # -1 자동으로 만들어줌,2개는 불가"
      ],
      "metadata": {
        "colab": {
          "base_uri": "https://localhost:8080/"
        },
        "id": "PORN_Ld6AKLW",
        "outputId": "c7ce64b2-60aa-4a86-9b2d-0fc8edb8ecc0"
      },
      "execution_count": 81,
      "outputs": [
        {
          "output_type": "stream",
          "name": "stdout",
          "text": [
            "[ 1  2  3  4  5  6  7  8  9 10 11 12]\n"
          ]
        }
      ]
    },
    {
      "cell_type": "markdown",
      "source": [
        "##5-3배열의 형태 변경3:expand_dims(),squeeze()"
      ],
      "metadata": {
        "id": "Qa6kJGtPAly3"
      }
    },
    {
      "cell_type": "code",
      "source": [
        "# expand_dims() 차원증가 \n",
        "arr = np.array([1,2])\n",
        "print(arr,arr.shape)\n",
        "arr = np.expand_dims(arr,axis=0)\n",
        "print(arr,arr.shape)"
      ],
      "metadata": {
        "colab": {
          "base_uri": "https://localhost:8080/"
        },
        "id": "ad33-NidAgva",
        "outputId": "22584614-4502-452f-e8e3-fced01542948"
      },
      "execution_count": 82,
      "outputs": [
        {
          "output_type": "stream",
          "name": "stdout",
          "text": [
            "[1 2] (2,)\n",
            "[[1 2]] (1, 2)\n"
          ]
        }
      ]
    },
    {
      "cell_type": "code",
      "source": [
        "#squeeze() 차원 축소\n",
        "arr = np.array([[1,2]])\n",
        "print(arr,arr.shape,arr.ndim)\n",
        "arr = np.squeeze(arr,axis=0)\n",
        "print(arr,arr.shape,arr.ndim)"
      ],
      "metadata": {
        "colab": {
          "base_uri": "https://localhost:8080/"
        },
        "id": "bIFUXd7fA0KF",
        "outputId": "9c5082b6-db24-4c96-b109-84e8392c8c91"
      },
      "execution_count": 83,
      "outputs": [
        {
          "output_type": "stream",
          "name": "stdout",
          "text": [
            "[[1 2]] (1, 2) 2\n",
            "[1 2] (2,) 1\n"
          ]
        }
      ]
    },
    {
      "cell_type": "code",
      "source": [
        "arr = np.array([[[1,2,3]]])\n",
        "arr = np.squeeze(arr,axis=1)\n",
        "print(arr,arr.shape,arr.ndim)"
      ],
      "metadata": {
        "colab": {
          "base_uri": "https://localhost:8080/"
        },
        "id": "Pf2f8WNWBEaK",
        "outputId": "fb6355bf-8450-4925-8eed-cb2b82933493"
      },
      "execution_count": 84,
      "outputs": [
        {
          "output_type": "stream",
          "name": "stdout",
          "text": [
            "[[1 2 3]] (1, 3) 2\n"
          ]
        }
      ]
    },
    {
      "cell_type": "markdown",
      "source": [
        "## 5-4 전치행렬"
      ],
      "metadata": {
        "id": "LBPID87BBp9S"
      }
    },
    {
      "cell_type": "code",
      "source": [
        "arr = np.array([[1,2],[3,4]])\n",
        "print(arr.T)\n",
        "#np.transpose(arr)도 적용 가능\n",
        "arr = np.array([[1,2,3],[4,5,6],[7,8,9]])\n",
        "print(arr.T)"
      ],
      "metadata": {
        "colab": {
          "base_uri": "https://localhost:8080/"
        },
        "id": "olrWxGOpBrWH",
        "outputId": "95db6b27-93db-4e3d-c94c-9d7fbf1c3347"
      },
      "execution_count": 85,
      "outputs": [
        {
          "output_type": "stream",
          "name": "stdout",
          "text": [
            "[[1 3]\n",
            " [2 4]]\n",
            "[[1 4 7]\n",
            " [2 5 8]\n",
            " [3 6 9]]\n"
          ]
        }
      ]
    },
    {
      "cell_type": "code",
      "source": [
        "arr = np.array([[1,2],[3,4],[5,6]])\n",
        "print(arr.T)"
      ],
      "metadata": {
        "colab": {
          "base_uri": "https://localhost:8080/"
        },
        "id": "iWtMOZXZB4EZ",
        "outputId": "2f619d46-ad3b-49e4-97e2-33ed0a421003"
      },
      "execution_count": 87,
      "outputs": [
        {
          "output_type": "stream",
          "name": "stdout",
          "text": [
            "[[1 3 5]\n",
            " [2 4 6]]\n"
          ]
        },
        {
          "output_type": "execute_result",
          "data": {
            "text/plain": [
              "array([[2, 2],\n",
              "       [2, 2],\n",
              "       [2, 2]])"
            ]
          },
          "metadata": {},
          "execution_count": 87
        }
      ]
    },
    {
      "cell_type": "markdown",
      "source": [
        "# Section 6. N차원 배열의 병합"
      ],
      "metadata": {
        "id": "Q2SviRcV665-"
      }
    },
    {
      "cell_type": "markdown",
      "source": [
        "## 6-1 배열에 원소 추가 및 삭제"
      ],
      "metadata": {
        "id": "y5wbBgqFCU9N"
      }
    },
    {
      "cell_type": "code",
      "source": [
        "#python list\n",
        "arr = [1,2,3,4,5,6,7,8]\n",
        "arr.insert(2,50)\n",
        "print(arr)\n",
        "\n",
        "#1차원배열\n",
        "arr = np.arange(1,9)\n",
        "arr = np.insert(arr,2,50)\n",
        "print(arr)"
      ],
      "metadata": {
        "colab": {
          "base_uri": "https://localhost:8080/"
        },
        "id": "F4u1cSewB9rI",
        "outputId": "3f57ae0c-d4ab-4325-b58f-4814ee161aaf"
      },
      "execution_count": 88,
      "outputs": [
        {
          "output_type": "stream",
          "name": "stdout",
          "text": [
            "[1, 2, 50, 3, 4, 5, 6, 7, 8]\n",
            "[ 1  2 50  3  4  5  6  7  8]\n"
          ]
        }
      ]
    },
    {
      "cell_type": "code",
      "source": [
        "#2차원 배열\n",
        "arr = np.arange(1,13).reshape(3,4)\n",
        "arr = np.insert(arr,2,50,axis=0)\n",
        "print(arr)"
      ],
      "metadata": {
        "colab": {
          "base_uri": "https://localhost:8080/"
        },
        "id": "hPdWfLNDChQ8",
        "outputId": "8809a08d-54bd-4acd-b9d7-6aca06672544"
      },
      "execution_count": 89,
      "outputs": [
        {
          "output_type": "stream",
          "name": "stdout",
          "text": [
            "[[ 1  2  3  4]\n",
            " [ 5  6  7  8]\n",
            " [50 50 50 50]\n",
            " [ 9 10 11 12]]\n"
          ]
        }
      ]
    },
    {
      "cell_type": "code",
      "source": [
        "#delete()\n",
        "arr = np.arange(1,13).reshape(3,4)\n",
        "arr = np.delete(arr,2,axis=0)\n",
        "print(arr)\n",
        "arr = np.delete(arr,2)\n",
        "print(arr)"
      ],
      "metadata": {
        "colab": {
          "base_uri": "https://localhost:8080/"
        },
        "id": "ktQKmaLpCrm7",
        "outputId": "5ac32090-062e-4158-d6e1-24c3d371d186"
      },
      "execution_count": 90,
      "outputs": [
        {
          "output_type": "stream",
          "name": "stdout",
          "text": [
            "[[1 2 3 4]\n",
            " [5 6 7 8]]\n",
            "[1 2 4 5 6 7 8]\n"
          ]
        }
      ]
    },
    {
      "cell_type": "markdown",
      "source": [
        "## 6-2 배열 간의 병합"
      ],
      "metadata": {
        "id": "JiWYVVccC_vS"
      }
    },
    {
      "cell_type": "code",
      "source": [
        "#append()\n",
        "arr1 = np.arange(1,13).reshape(3,4)\n",
        "arr2 = np.arange(13,25).reshape(3,4)\n",
        "print(arr1)\n",
        "print(arr2, end='\\n\\n')\n",
        "\n",
        "#axis=0\n",
        "arr3 = np.append(arr1,arr2,axis=0)\n",
        "print(arr3,end='\\n\\n')"
      ],
      "metadata": {
        "colab": {
          "base_uri": "https://localhost:8080/"
        },
        "id": "te2BrYPxC2zk",
        "outputId": "17ab2cff-2b64-4b0c-e5f2-203cf1d2315f"
      },
      "execution_count": 93,
      "outputs": [
        {
          "output_type": "stream",
          "name": "stdout",
          "text": [
            "[[ 1  2  3  4]\n",
            " [ 5  6  7  8]\n",
            " [ 9 10 11 12]]\n",
            "[[13 14 15 16]\n",
            " [17 18 19 20]\n",
            " [21 22 23 24]]\n",
            "\n",
            "[[ 1  2  3  4]\n",
            " [ 5  6  7  8]\n",
            " [ 9 10 11 12]\n",
            " [13 14 15 16]\n",
            " [17 18 19 20]\n",
            " [21 22 23 24]]\n",
            "\n"
          ]
        }
      ]
    },
    {
      "cell_type": "code",
      "source": [
        "#vstack(),hstack()\n",
        "arr1 = np.arange(1,7).reshape(2,3)\n",
        "arr2 = np.arange(7,13).reshape(2,3)\n",
        "\n",
        "arr3 = np.vstack((arr1,arr2))\n",
        "print(arr3)\n",
        "print(' ')\n",
        "arr3 = np.hstack((arr1,arr2))\n",
        "print(arr3)"
      ],
      "metadata": {
        "colab": {
          "base_uri": "https://localhost:8080/"
        },
        "id": "QosDalVyDP-S",
        "outputId": "5604cb8f-a689-48d6-e788-6f95535b0a81"
      },
      "execution_count": 95,
      "outputs": [
        {
          "output_type": "stream",
          "name": "stdout",
          "text": [
            "[[ 1  2  3]\n",
            " [ 4  5  6]\n",
            " [ 7  8  9]\n",
            " [10 11 12]]\n",
            " \n",
            "[[ 1  2  3  7  8  9]\n",
            " [ 4  5  6 10 11 12]]\n"
          ]
        }
      ]
    },
    {
      "cell_type": "code",
      "source": [
        "#concatenate()\n",
        "arr3 = np.concatenate([arr1,arr2],axis=1)\n",
        "arr3"
      ],
      "metadata": {
        "colab": {
          "base_uri": "https://localhost:8080/"
        },
        "id": "iVFsL36_Dol1",
        "outputId": "4e1699d8-0dff-42a6-8da4-1dcc4f0a9478"
      },
      "execution_count": 96,
      "outputs": [
        {
          "output_type": "execute_result",
          "data": {
            "text/plain": [
              "array([[ 1,  2,  3,  7,  8,  9],\n",
              "       [ 4,  5,  6, 10, 11, 12]])"
            ]
          },
          "metadata": {},
          "execution_count": 96
        }
      ]
    },
    {
      "cell_type": "markdown",
      "source": [
        "## 6-3 배열 분할"
      ],
      "metadata": {
        "id": "OxDCYH1OD1ZX"
      }
    },
    {
      "cell_type": "code",
      "source": [
        "#2차원 배열\n",
        "arr = np.arange(1,13).reshape(3,4)\n",
        "print(arr)\n",
        "\n",
        "#vsplit() -> axis=0\n",
        "arr_vsplit = np.vsplit(arr,3)\n",
        "print(arr_vsplit)\n",
        "\n",
        "print(\" \")\n",
        "#hsplit() -> axis=1\n",
        "arr_hsplit = np.hsplit(arr,2)\n",
        "print(arr_hsplit)"
      ],
      "metadata": {
        "colab": {
          "base_uri": "https://localhost:8080/"
        },
        "id": "-NPSs2l9Dwie",
        "outputId": "e9c1ff7d-3349-4734-9885-247f73b6a5e5"
      },
      "execution_count": 101,
      "outputs": [
        {
          "output_type": "stream",
          "name": "stdout",
          "text": [
            "[[ 1  2  3  4]\n",
            " [ 5  6  7  8]\n",
            " [ 9 10 11 12]]\n",
            "[array([[1, 2, 3, 4]]), array([[5, 6, 7, 8]]), array([[ 9, 10, 11, 12]])]\n",
            " \n",
            "[array([[ 1,  2],\n",
            "       [ 5,  6],\n",
            "       [ 9, 10]]), array([[ 3,  4],\n",
            "       [ 7,  8],\n",
            "       [11, 12]])]\n"
          ]
        }
      ]
    },
    {
      "cell_type": "code",
      "source": [
        "# 3차원 배열\n",
        "arr = np.random.randint(0,10,(4,6,8))\n",
        "print(arr)"
      ],
      "metadata": {
        "colab": {
          "base_uri": "https://localhost:8080/"
        },
        "id": "F-8X7AHDEL0H",
        "outputId": "d77cc5a2-3e5e-4896-f494-9607bc7e33c5"
      },
      "execution_count": 102,
      "outputs": [
        {
          "output_type": "stream",
          "name": "stdout",
          "text": [
            "[[[6 5 1 9 3 4 8 1]\n",
            "  [4 0 3 9 2 0 4 9]\n",
            "  [2 7 7 9 8 6 9 3]\n",
            "  [7 7 4 5 9 3 6 8]\n",
            "  [0 2 7 7 9 7 3 0]\n",
            "  [8 7 7 1 1 3 0 8]]\n",
            "\n",
            " [[6 4 5 6 2 5 7 8]\n",
            "  [4 4 7 7 4 9 0 2]\n",
            "  [0 7 1 7 9 8 4 0]\n",
            "  [1 9 8 2 3 1 2 7]\n",
            "  [2 6 0 9 2 6 6 2]\n",
            "  [7 7 0 6 5 1 4 6]]\n",
            "\n",
            " [[0 6 5 1 2 1 5 4]\n",
            "  [0 7 8 9 5 7 0 9]\n",
            "  [3 9 1 4 4 6 8 8]\n",
            "  [9 2 7 5 5 4 5 8]\n",
            "  [5 8 1 1 8 7 0 3]\n",
            "  [4 2 0 3 5 1 2 4]]\n",
            "\n",
            " [[3 0 6 0 7 2 8 3]\n",
            "  [0 8 4 2 9 0 3 8]\n",
            "  [1 4 3 3 6 7 3 5]\n",
            "  [3 2 4 4 0 3 3 8]\n",
            "  [3 5 6 7 5 1 7 0]\n",
            "  [2 8 2 1 4 0 4 1]]]\n"
          ]
        }
      ]
    },
    {
      "cell_type": "code",
      "source": [
        "arr_vsplit = np.vsplit(arr,2)\n",
        "print(arr_vsplit)"
      ],
      "metadata": {
        "colab": {
          "base_uri": "https://localhost:8080/"
        },
        "id": "tT5yNbMNES4Y",
        "outputId": "a96cc281-8b7e-416c-b8b5-3ad7343009d7"
      },
      "execution_count": 103,
      "outputs": [
        {
          "output_type": "stream",
          "name": "stdout",
          "text": [
            "[array([[[6, 5, 1, 9, 3, 4, 8, 1],\n",
            "        [4, 0, 3, 9, 2, 0, 4, 9],\n",
            "        [2, 7, 7, 9, 8, 6, 9, 3],\n",
            "        [7, 7, 4, 5, 9, 3, 6, 8],\n",
            "        [0, 2, 7, 7, 9, 7, 3, 0],\n",
            "        [8, 7, 7, 1, 1, 3, 0, 8]],\n",
            "\n",
            "       [[6, 4, 5, 6, 2, 5, 7, 8],\n",
            "        [4, 4, 7, 7, 4, 9, 0, 2],\n",
            "        [0, 7, 1, 7, 9, 8, 4, 0],\n",
            "        [1, 9, 8, 2, 3, 1, 2, 7],\n",
            "        [2, 6, 0, 9, 2, 6, 6, 2],\n",
            "        [7, 7, 0, 6, 5, 1, 4, 6]]]), array([[[0, 6, 5, 1, 2, 1, 5, 4],\n",
            "        [0, 7, 8, 9, 5, 7, 0, 9],\n",
            "        [3, 9, 1, 4, 4, 6, 8, 8],\n",
            "        [9, 2, 7, 5, 5, 4, 5, 8],\n",
            "        [5, 8, 1, 1, 8, 7, 0, 3],\n",
            "        [4, 2, 0, 3, 5, 1, 2, 4]],\n",
            "\n",
            "       [[3, 0, 6, 0, 7, 2, 8, 3],\n",
            "        [0, 8, 4, 2, 9, 0, 3, 8],\n",
            "        [1, 4, 3, 3, 6, 7, 3, 5],\n",
            "        [3, 2, 4, 4, 0, 3, 3, 8],\n",
            "        [3, 5, 6, 7, 5, 1, 7, 0],\n",
            "        [2, 8, 2, 1, 4, 0, 4, 1]]])]\n"
          ]
        }
      ]
    },
    {
      "cell_type": "code",
      "source": [
        "arr_hsplit = np.hsplit(arr,2)\n",
        "print(arr_hsplit)"
      ],
      "metadata": {
        "colab": {
          "base_uri": "https://localhost:8080/"
        },
        "id": "sfHi-pqcEeQE",
        "outputId": "ef4f937e-7314-45a9-89a7-b52edd59b3c2"
      },
      "execution_count": 104,
      "outputs": [
        {
          "output_type": "stream",
          "name": "stdout",
          "text": [
            "[array([[[6, 5, 1, 9, 3, 4, 8, 1],\n",
            "        [4, 0, 3, 9, 2, 0, 4, 9],\n",
            "        [2, 7, 7, 9, 8, 6, 9, 3]],\n",
            "\n",
            "       [[6, 4, 5, 6, 2, 5, 7, 8],\n",
            "        [4, 4, 7, 7, 4, 9, 0, 2],\n",
            "        [0, 7, 1, 7, 9, 8, 4, 0]],\n",
            "\n",
            "       [[0, 6, 5, 1, 2, 1, 5, 4],\n",
            "        [0, 7, 8, 9, 5, 7, 0, 9],\n",
            "        [3, 9, 1, 4, 4, 6, 8, 8]],\n",
            "\n",
            "       [[3, 0, 6, 0, 7, 2, 8, 3],\n",
            "        [0, 8, 4, 2, 9, 0, 3, 8],\n",
            "        [1, 4, 3, 3, 6, 7, 3, 5]]]), array([[[7, 7, 4, 5, 9, 3, 6, 8],\n",
            "        [0, 2, 7, 7, 9, 7, 3, 0],\n",
            "        [8, 7, 7, 1, 1, 3, 0, 8]],\n",
            "\n",
            "       [[1, 9, 8, 2, 3, 1, 2, 7],\n",
            "        [2, 6, 0, 9, 2, 6, 6, 2],\n",
            "        [7, 7, 0, 6, 5, 1, 4, 6]],\n",
            "\n",
            "       [[9, 2, 7, 5, 5, 4, 5, 8],\n",
            "        [5, 8, 1, 1, 8, 7, 0, 3],\n",
            "        [4, 2, 0, 3, 5, 1, 2, 4]],\n",
            "\n",
            "       [[3, 2, 4, 4, 0, 3, 3, 8],\n",
            "        [3, 5, 6, 7, 5, 1, 7, 0],\n",
            "        [2, 8, 2, 1, 4, 0, 4, 1]]])]\n"
          ]
        }
      ]
    },
    {
      "cell_type": "markdown",
      "source": [
        "# 실습1"
      ],
      "metadata": {
        "id": "HCXnWxq7ErZe"
      }
    },
    {
      "cell_type": "code",
      "source": [
        "# 원소가 모두 3인 (3,4,5)형태의 numpy.array를 출력하시오.\n",
        "np.full((3,4,5),3)"
      ],
      "metadata": {
        "colab": {
          "base_uri": "https://localhost:8080/"
        },
        "id": "bUgJOL1pEswv",
        "outputId": "23c6b72f-98db-4513-fa8e-e30f21ae74cd"
      },
      "execution_count": 105,
      "outputs": [
        {
          "output_type": "execute_result",
          "data": {
            "text/plain": [
              "array([[[3, 3, 3, 3, 3],\n",
              "        [3, 3, 3, 3, 3],\n",
              "        [3, 3, 3, 3, 3],\n",
              "        [3, 3, 3, 3, 3]],\n",
              "\n",
              "       [[3, 3, 3, 3, 3],\n",
              "        [3, 3, 3, 3, 3],\n",
              "        [3, 3, 3, 3, 3],\n",
              "        [3, 3, 3, 3, 3]],\n",
              "\n",
              "       [[3, 3, 3, 3, 3],\n",
              "        [3, 3, 3, 3, 3],\n",
              "        [3, 3, 3, 3, 3],\n",
              "        [3, 3, 3, 3, 3]]])"
            ]
          },
          "metadata": {},
          "execution_count": 105
        }
      ]
    },
    {
      "cell_type": "code",
      "source": [
        "# 정수 -50~50의 범위 안의 난수로 이루어진(4,5)형태의 numpy.array를 출력하고\n",
        "## 행을 기준으로 오름차순 정렬한 결과와 전체배열을 1차원 배열로 변경하여 오름차순 정렬한\n",
        "##결과를 출력하시오.\n",
        "arr = np.random.randint(-50,50,size=(4,5))\n",
        "arr = np.sort(arr,axis=0)\n",
        "print(np.sort(arr,axis=None))"
      ],
      "metadata": {
        "colab": {
          "base_uri": "https://localhost:8080/"
        },
        "id": "iIGtdffLE6z8",
        "outputId": "e5c1a7c9-7a29-47aa-8e9d-5b6189a7d6e2"
      },
      "execution_count": 109,
      "outputs": [
        {
          "output_type": "stream",
          "name": "stdout",
          "text": [
            "[-47 -40 -36 -36 -35 -29 -27 -25  -4  -4   1   4   6  13  18  21  27  29\n",
            "  30  38]\n"
          ]
        }
      ]
    },
    {
      "cell_type": "code",
      "source": [
        "# 파이썬 list가 존재한다\n",
        "## list 안에 있는 각 numpy.array의 원소들의 평균값과 표준편차,중앙값을 순서대로 구하여\n",
        "### 구한 순서대로 원소가 이루어진 새로운 list를 구성하고 출력하시오.\n",
        "py= [np.full(3,8),\n",
        "           np.array([33,-15,26]),\n",
        "           np.linspace(17,26,3)]\n",
        "result = []\n",
        "for i in py:\n",
        "    result.append(np.mean(i))\n",
        "    result.append(np.std(i))\n",
        "    result.append(np.median(i))\n",
        "result \n"
      ],
      "metadata": {
        "colab": {
          "base_uri": "https://localhost:8080/"
        },
        "id": "6nJ1sgvcGJ8W",
        "outputId": "48629894-95eb-48db-a3e9-0053caa46c63"
      },
      "execution_count": 125,
      "outputs": [
        {
          "output_type": "execute_result",
          "data": {
            "text/plain": [
              "[8.0,\n",
              " 0.0,\n",
              " 8.0,\n",
              " 14.666666666666666,\n",
              " 21.171259344267224,\n",
              " 26.0,\n",
              " 21.5,\n",
              " 3.6742346141747673,\n",
              " 21.5]"
            ]
          },
          "metadata": {},
          "execution_count": 125
        }
      ]
    },
    {
      "cell_type": "markdown",
      "source": [
        "#실습2"
      ],
      "metadata": {
        "id": "dcVvvES1G98Q"
      }
    },
    {
      "cell_type": "code",
      "source": [
        "#다음과 같은 numpy.array가 존재한다. 이배열을 행을 기준으로 3개의 배열로 분할하여\n",
        "##분할된 각 배열의 원소들을 제곱한 결과를 다시 원본 배열에 행을 기준으로 병합하시오.\n",
        "arr = np.arange(2,20,2).reshape((3,3))\n",
        "s1 = np.vsplit(arr,3)\n",
        "print(s1)\n",
        "s2 = np.square(s1)\n",
        "print(s2)\n",
        "s3 = np.squeeze(s2,axis=1)\n",
        "print(s3)\n",
        "result_arr = np.vstack((arr,s3))\n",
        "print(result_arr)"
      ],
      "metadata": {
        "colab": {
          "base_uri": "https://localhost:8080/"
        },
        "id": "7PKCCugfG6ZY",
        "outputId": "961edfad-1c48-4c50-f9c8-7ce54b6af7ff"
      },
      "execution_count": 126,
      "outputs": [
        {
          "output_type": "stream",
          "name": "stdout",
          "text": [
            "[array([[2, 4, 6]]), array([[ 8, 10, 12]]), array([[14, 16, 18]])]\n",
            "[[[  4  16  36]]\n",
            "\n",
            " [[ 64 100 144]]\n",
            "\n",
            " [[196 256 324]]]\n",
            "[[  4  16  36]\n",
            " [ 64 100 144]\n",
            " [196 256 324]]\n",
            "[[  2   4   6]\n",
            " [  8  10  12]\n",
            " [ 14  16  18]\n",
            " [  4  16  36]\n",
            " [ 64 100 144]\n",
            " [196 256 324]]\n"
          ]
        }
      ]
    },
    {
      "cell_type": "code",
      "source": [
        "# 삼각함수의 특수각(0,30,60,90)을 numpy.array로 생성한후\n",
        "##특수각에 해당하는 sin,cos,tan 값을 각각 구하여\n",
        "### 파이썬 list에 담은 다음 해당 list에 들어있는 값들을 출력하시오.\n",
        "arr = np.arange(0,91,30)\n",
        "print(arr)\n",
        "\n",
        "lst = []\n",
        "lst.append(np.sin(arr*np.pi/180))\n",
        "lst.append(np.cos(arr*np.pi/180))\n",
        "lst.append(np.tan(arr*np.pi/180))\n",
        "\n",
        "for value_lst in lst:\n",
        "    for value in value_lst:\n",
        "        if value > 9999999999:\n",
        "          print('INF')\n",
        "          continue;\n",
        "        print(value)\n",
        "    print()       "
      ],
      "metadata": {
        "colab": {
          "base_uri": "https://localhost:8080/"
        },
        "id": "FyecV123H081",
        "outputId": "a95c8595-deb4-4c06-f218-8198a1a357f6"
      },
      "execution_count": 128,
      "outputs": [
        {
          "output_type": "stream",
          "name": "stdout",
          "text": [
            "[ 0 30 60 90]\n",
            "0.0\n",
            "0.49999999999999994\n",
            "0.8660254037844386\n",
            "1.0\n",
            "\n",
            "1.0\n",
            "0.8660254037844387\n",
            "0.5000000000000001\n",
            "6.123233995736766e-17\n",
            "\n",
            "0.0\n",
            "0.5773502691896257\n",
            "1.7320508075688767\n",
            "INF\n",
            "\n"
          ]
        },
        {
          "output_type": "execute_result",
          "data": {
            "text/plain": [
              "[array([0.       , 0.5      , 0.8660254, 1.       ]),\n",
              " array([1.00000000e+00, 8.66025404e-01, 5.00000000e-01, 6.12323400e-17]),\n",
              " array([0.00000000e+00, 5.77350269e-01, 1.73205081e+00, 1.63312394e+16])]"
            ]
          },
          "metadata": {},
          "execution_count": 128
        }
      ]
    },
    {
      "cell_type": "code",
      "source": [
        "# numpy.array를 이용하여 다음과 같은 패턴을 출력하시오.(반복문을 사용할것)\n",
        "arr = np.zeros((7,7),dtype=int)\n",
        "arr[::2,1::2] = 1\n",
        "arr[1::2,::2] = 1\n",
        "arr"
      ],
      "metadata": {
        "colab": {
          "base_uri": "https://localhost:8080/"
        },
        "id": "3naIdgJsIreI",
        "outputId": "2b506831-7167-43b1-afd7-18075be9c0a2"
      },
      "execution_count": null,
      "outputs": [
        {
          "output_type": "execute_result",
          "data": {
            "text/plain": [
              "array([[0, 1, 0, 1, 0, 1, 0],\n",
              "       [1, 0, 1, 0, 1, 0, 1],\n",
              "       [0, 1, 0, 1, 0, 1, 0],\n",
              "       [1, 0, 1, 0, 1, 0, 1],\n",
              "       [0, 1, 0, 1, 0, 1, 0],\n",
              "       [1, 0, 1, 0, 1, 0, 1],\n",
              "       [0, 1, 0, 1, 0, 1, 0]])"
            ]
          },
          "metadata": {},
          "execution_count": 209
        }
      ]
    },
    {
      "cell_type": "markdown",
      "source": [
        "# 실습3"
      ],
      "metadata": {
        "id": "9bLqwGyLBLsa"
      }
    },
    {
      "cell_type": "code",
      "source": [
        "#다음 두 행렬에 대하여 내적 연산을 수행한 결괏값을 출력하시오.(단, 결과의 소수점 아래는 제거한다)\n",
        "import numpy as np\n",
        "arr1 = np.array([[2.1,3.5],\n",
        "                [4.2,2.7],\n",
        "                [2.3,1.9]])\n",
        "arr2 = np.array([[5,2,3],\n",
        "                 [1,3,5]])\n",
        "print(np.trunc(np.dot(arr1,arr2)))"
      ],
      "metadata": {
        "colab": {
          "base_uri": "https://localhost:8080/"
        },
        "id": "d7b_PmTMBNMM",
        "outputId": "74a115c8-c836-4cba-ef75-c97614056e3f"
      },
      "execution_count": 142,
      "outputs": [
        {
          "output_type": "stream",
          "name": "stdout",
          "text": [
            "[[14. 14. 23.]\n",
            " [23. 16. 26.]\n",
            " [13. 10. 16.]]\n"
          ]
        }
      ]
    },
    {
      "cell_type": "code",
      "source": [
        "#조건 연산자를 활용한 Boolean 인덱싱을 이용하여 다음 배열의 원소들 중 2와\n",
        "#5의 배수만 추출한 결과를 오름차순으로 정렬하여 (2,4) 행렬로 출력하시오.\n",
        "arr = np.arange(1,13).reshape(3,4)\n",
        "print(np.sort(np.append(arr[arr % 2 ==0],arr[arr % 5 == 0])).reshape(2,4))"
      ],
      "metadata": {
        "colab": {
          "base_uri": "https://localhost:8080/"
        },
        "id": "EZ9WJDKACM0x",
        "outputId": "4d4cbe68-e9f5-4248-d5bf-b0498821dd59"
      },
      "execution_count": 150,
      "outputs": [
        {
          "output_type": "stream",
          "name": "stdout",
          "text": [
            "[[ 2  4  5  6]\n",
            " [ 8 10 10 12]]\n"
          ]
        }
      ]
    },
    {
      "cell_type": "code",
      "source": [
        "# 10진수 100이상 150미만 사이에 존재하는 정수를 무작위로 추출하여\n",
        "# (3,10)형태의 행렬로 만들고 행과 열을 전치한 결과를 출력하시오.\n",
        "import numpy as np\n",
        "\n",
        "arr = np.random.randint(low=100,high=150,size=(3,10))\n",
        "print(np.transpose(arr))"
      ],
      "metadata": {
        "colab": {
          "base_uri": "https://localhost:8080/"
        },
        "id": "n12KoZueDFQG",
        "outputId": "909b2a24-4882-494b-d00b-bbf458359940"
      },
      "execution_count": 151,
      "outputs": [
        {
          "output_type": "stream",
          "name": "stdout",
          "text": [
            "[[120 126 105]\n",
            " [121 112 134]\n",
            " [146 107 133]\n",
            " [129 123 143]\n",
            " [144 139 126]\n",
            " [137 143 105]\n",
            " [122 112 109]\n",
            " [127 138 125]\n",
            " [112 127 127]\n",
            " [112 148 143]]\n"
          ]
        }
      ]
    },
    {
      "cell_type": "code",
      "source": [
        "#10진수 10~20 사이에 존재하는 실수형의 수를 무작위로 10000개 추출하여\n",
        "# 100개 구간에 그래프로 시각화 하시오.\n",
        "import matplotlib.pyplot as plt\n",
        "randoms = 10 + np.random.rand(10000) * 10\n",
        "plt.hist(randoms,bins=100)\n",
        "plt.show()"
      ],
      "metadata": {
        "colab": {
          "base_uri": "https://localhost:8080/",
          "height": 265
        },
        "id": "OTZ1g4scDYQR",
        "outputId": "de3a5d28-a0d7-4297-e817-e9540fe48a47"
      },
      "execution_count": 153,
      "outputs": [
        {
          "output_type": "display_data",
          "data": {
            "text/plain": [
              "<Figure size 432x288 with 1 Axes>"
            ],
            "image/png": "[encoded data removed]"
          },
          "metadata": {
            "needs_background": "light"
          }
        }
      ]
    }
  ]
}